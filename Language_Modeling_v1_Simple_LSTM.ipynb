{
  "nbformat": 4,
  "nbformat_minor": 0,
  "metadata": {
    "colab": {
      "provenance": [],
      "collapsed_sections": [
        "w_a3OXnSeV0z",
        "RwaY_YcgRayy",
        "RfWH-TWS4ljL",
        "3ttl0AK3Hvyh",
        "24qT-sgUO2-d",
        "W0QNbC0YPCKZ",
        "G9HgVWslPGsH",
        "lpJ3wtyctQJH",
        "BrHQCv7q7LF_"
      ],
      "gpuType": "T4"
    },
    "kernelspec": {
      "name": "python3",
      "display_name": "Python 3"
    },
    "language_info": {
      "name": "python"
    },
    "accelerator": "GPU"
  },
  "cells": [
    {
      "cell_type": "markdown",
      "source": [
        "# **💎 Language Modeling 💎**\n",
        "\n"
      ],
      "metadata": {
        "id": "-uXkcYhkIxS-"
      }
    },
    {
      "cell_type": "markdown",
      "source": [
        "# **1. Import Libs**"
      ],
      "metadata": {
        "id": "w_a3OXnSeV0z"
      }
    },
    {
      "cell_type": "markdown",
      "source": [
        "Import & Install libraries"
      ],
      "metadata": {
        "id": "DPZgwKQJ1Mw_"
      }
    },
    {
      "cell_type": "code",
      "source": [
        "!rm -rf /content/sample_data"
      ],
      "metadata": {
        "id": "umqcxcs300TK"
      },
      "execution_count": null,
      "outputs": []
    },
    {
      "cell_type": "code",
      "source": [
        "pip install -q torchmetrics"
      ],
      "metadata": {
        "id": "m15bbv0-0u57"
      },
      "execution_count": null,
      "outputs": []
    },
    {
      "cell_type": "code",
      "source": [
        "!pip install -q portalocker>=2.0.0"
      ],
      "metadata": {
        "id": "QdoXe1ZP0K6t"
      },
      "execution_count": null,
      "outputs": []
    },
    {
      "cell_type": "code",
      "source": [
        "import numpy as np\n",
        "import matplotlib.pyplot as plt\n",
        "\n",
        "import torchtext\n",
        "from torchtext.datasets import WikiText2\n",
        "from torchtext.data.utils import get_tokenizer\n",
        "from torchtext.vocab import build_vocab_from_iterator\n",
        "\n",
        "import torch\n",
        "from torch import nn\n",
        "from torch.utils.data import DataLoader, Dataset, random_split\n",
        "\n",
        "from torch import optim\n",
        "from torch.nn import functional as F\n",
        "\n",
        "import tqdm\n",
        "import torchmetrics as tm\n",
        "\n",
        "from collections import Counter"
      ],
      "metadata": {
        "id": "vhlVJEkJeTsV"
      },
      "execution_count": null,
      "outputs": []
    },
    {
      "cell_type": "code",
      "source": [
        "!python --version"
      ],
      "metadata": {
        "id": "DEzYlyeqTZqQ",
        "colab": {
          "base_uri": "https://localhost:8080/"
        },
        "outputId": "e64421de-66c5-4a08-c759-816603582008"
      },
      "execution_count": null,
      "outputs": [
        {
          "output_type": "stream",
          "name": "stdout",
          "text": [
            "Python 3.10.12\n"
          ]
        }
      ]
    },
    {
      "cell_type": "code",
      "source": [
        "for lib in [np, torch, torchtext, tqdm]:\n",
        "  print(lib.__name__, '-->', lib.__version__)"
      ],
      "metadata": {
        "id": "6DWjGTq6T8Jg",
        "colab": {
          "base_uri": "https://localhost:8080/"
        },
        "outputId": "602b22f2-373e-4928-db47-1d8ca63887c3"
      },
      "execution_count": null,
      "outputs": [
        {
          "output_type": "stream",
          "name": "stdout",
          "text": [
            "numpy --> 1.23.5\n",
            "torch --> 2.0.1+cu118\n",
            "torchtext --> 0.15.2+cpu\n",
            "tqdm --> 4.66.1\n"
          ]
        }
      ]
    },
    {
      "cell_type": "markdown",
      "source": [
        "#  **2. Utils**"
      ],
      "metadata": {
        "id": "RwaY_YcgRayy"
      }
    },
    {
      "cell_type": "code",
      "source": [
        "class AverageMeter(object):\n",
        "    \"\"\"Computes and stores the average and current value\"\"\"\n",
        "    def __init__(self):\n",
        "        self.reset()\n",
        "\n",
        "    def reset(self):\n",
        "        self.val = 0\n",
        "        self.avg = 0\n",
        "        self.sum = 0\n",
        "        self.count = 0\n",
        "\n",
        "    def update(self, val, n=1):\n",
        "        self.val = val\n",
        "        self.sum += val * n\n",
        "        self.count += n\n",
        "        self.avg = self.sum / self.count"
      ],
      "metadata": {
        "id": "8yMS7bbmRayz"
      },
      "execution_count": null,
      "outputs": []
    },
    {
      "cell_type": "markdown",
      "source": [
        "Number of trainale parameters"
      ],
      "metadata": {
        "id": "2N3RJMDc1kO8"
      }
    },
    {
      "cell_type": "code",
      "source": [
        "def num_trainable_params(model):\n",
        "  nums = sum(p.numel() for p in model.parameters() if p.requires_grad)/1e6\n",
        "  return nums"
      ],
      "metadata": {
        "id": "PpKbTUEIRayz"
      },
      "execution_count": null,
      "outputs": []
    },
    {
      "cell_type": "markdown",
      "source": [
        "#  **3. Dataset**"
      ],
      "metadata": {
        "id": "RfWH-TWS4ljL"
      }
    },
    {
      "cell_type": "markdown",
      "source": [
        "##  **3-1. Download & Unzip the Dataset**"
      ],
      "metadata": {
        "id": "ujIVtjsYvxOI"
      }
    },
    {
      "cell_type": "code",
      "source": [
        "train_iter, valid_iter, test_iter = WikiText2('/content/')"
      ],
      "metadata": {
        "id": "FoVyhbo81x-U"
      },
      "execution_count": null,
      "outputs": []
    },
    {
      "cell_type": "code",
      "source": [
        "train_iter"
      ],
      "metadata": {
        "colab": {
          "base_uri": "https://localhost:8080/"
        },
        "id": "1vqSC8qu0CqE",
        "outputId": "dd90c869-0414-42f5-bc51-097c2d09a456"
      },
      "execution_count": null,
      "outputs": [
        {
          "output_type": "execute_result",
          "data": {
            "text/plain": [
              "ShardingFilterIterDataPipe"
            ]
          },
          "metadata": {},
          "execution_count": 14
        }
      ]
    },
    {
      "cell_type": "code",
      "source": [
        "train_iter_ = iter(train_iter)\n",
        "train_iter_"
      ],
      "metadata": {
        "colab": {
          "base_uri": "https://localhost:8080/"
        },
        "id": "WtjF-_AB0j0A",
        "outputId": "9999f83c-cddb-48ce-de52-9ffc991fa5b5"
      },
      "execution_count": null,
      "outputs": [
        {
          "output_type": "execute_result",
          "data": {
            "text/plain": [
              "<generator object ShardingFilterIterDataPipe.__iter__ at 0x7d4aa5ba7990>"
            ]
          },
          "metadata": {},
          "execution_count": 15
        }
      ]
    },
    {
      "cell_type": "code",
      "source": [
        "next(train_iter_)"
      ],
      "metadata": {
        "colab": {
          "base_uri": "https://localhost:8080/",
          "height": 144
        },
        "id": "Cgmn7PHT0mqS",
        "outputId": "270deefc-2beb-4b92-ffa0-3e5a74acf1d6"
      },
      "execution_count": null,
      "outputs": [
        {
          "output_type": "execute_result",
          "data": {
            "text/plain": [
              "' \\n'"
            ],
            "application/vnd.google.colaboratory.intrinsic+json": {
              "type": "string"
            }
          },
          "metadata": {},
          "execution_count": 16
        }
      ]
    },
    {
      "cell_type": "markdown",
      "source": [
        "## **3-2. Build vocabulary and save it**"
      ],
      "metadata": {
        "id": "wCi-ofSLCzop"
      }
    },
    {
      "cell_type": "markdown",
      "source": [
        "🔰 In this section we need to:\n",
        "\n",
        "*   Define a tokenizer using `basic_english`\n",
        "*   Tokenize the dataset and collect tokens\n",
        "*   Build the vocabulary using `build_vocab_from_iterator`\n",
        "*   Manually insert special tokens and set the default index\n"
      ],
      "metadata": {
        "id": "L02PHFuyNRb3"
      }
    },
    {
      "cell_type": "code",
      "source": [
        "train_iter"
      ],
      "metadata": {
        "id": "N_yCZ5-kFpS2",
        "colab": {
          "base_uri": "https://localhost:8080/"
        },
        "outputId": "3bd47fd9-8b47-49bd-bea5-a9b4512431cd"
      },
      "execution_count": null,
      "outputs": [
        {
          "output_type": "execute_result",
          "data": {
            "text/plain": [
              "ShardingFilterIterDataPipe"
            ]
          },
          "metadata": {},
          "execution_count": 17
        }
      ]
    },
    {
      "cell_type": "code",
      "source": [
        "f_train = open('/content/datasets/WikiText2/wikitext-2/wiki_train_tokens.txt')"
      ],
      "metadata": {
        "id": "4yKAluhNFzMy"
      },
      "execution_count": null,
      "outputs": []
    },
    {
      "cell_type": "code",
      "source": [
        "f_train2 = f_train.readlines()"
      ],
      "metadata": {
        "id": "2ogx6j-MF5zk"
      },
      "execution_count": null,
      "outputs": []
    },
    {
      "cell_type": "code",
      "source": [
        "tokenizer = get_tokenizer('basic_english')\n",
        "vocab = build_vocab_from_iterator(map(tokenizer, f_train2), specials=['<unk>'])\n",
        "vocab.set_default_index(vocab['<unk>'])"
      ],
      "metadata": {
        "id": "-asSTBux8IBJ"
      },
      "execution_count": null,
      "outputs": []
    },
    {
      "cell_type": "code",
      "source": [
        "len(vocab)"
      ],
      "metadata": {
        "colab": {
          "base_uri": "https://localhost:8080/"
        },
        "id": "WmpZYqh0GXCv",
        "outputId": "afcf6cab-40fc-4d70-99ea-af95ec72e8e3"
      },
      "execution_count": null,
      "outputs": [
        {
          "output_type": "execute_result",
          "data": {
            "text/plain": [
              "28782"
            ]
          },
          "metadata": {},
          "execution_count": 21
        }
      ]
    },
    {
      "cell_type": "code",
      "source": [
        "vocab(['saeideh', 'hi', 'how', 'tehran', 'ali', 'valkyria'])"
      ],
      "metadata": {
        "colab": {
          "base_uri": "https://localhost:8080/"
        },
        "id": "kLTqC5nD8OvQ",
        "outputId": "14963013-7489-4275-ab02-d5ff66579cd7"
      },
      "execution_count": null,
      "outputs": [
        {
          "output_type": "execute_result",
          "data": {
            "text/plain": [
              "[0, 9206, 416, 23311, 2284, 3849]"
            ]
          },
          "metadata": {},
          "execution_count": 22
        }
      ]
    },
    {
      "cell_type": "code",
      "source": [
        "vocab.get_stoi()"
      ],
      "metadata": {
        "id": "GVUA-zKbjbsA"
      },
      "execution_count": null,
      "outputs": []
    },
    {
      "cell_type": "code",
      "source": [
        "torch.save(vocab, 'vocab.pt')"
      ],
      "metadata": {
        "id": "hQHoTgf7kDBp"
      },
      "execution_count": null,
      "outputs": []
    },
    {
      "cell_type": "code",
      "source": [
        "!cp /content/vocab.pt /content/drive/MyDrive/Howsam_Language_Modeling"
      ],
      "metadata": {
        "id": "DGkpgnMlGrRS"
      },
      "execution_count": null,
      "outputs": []
    },
    {
      "cell_type": "markdown",
      "source": [
        "## **3-3. EDA**"
      ],
      "metadata": {
        "id": "B29jrEvwRqXA"
      }
    },
    {
      "cell_type": "markdown",
      "source": [
        "**how many paragraph:**"
      ],
      "metadata": {
        "id": "5hjB1BiNWDHN"
      }
    },
    {
      "cell_type": "code",
      "source": [
        "len(f_train2)"
      ],
      "metadata": {
        "colab": {
          "base_uri": "https://localhost:8080/"
        },
        "id": "YgwvrWgULg4A",
        "outputId": "568f332e-efc1-49e9-8e5d-6493294456ad"
      },
      "execution_count": null,
      "outputs": [
        {
          "output_type": "execute_result",
          "data": {
            "text/plain": [
              "36718"
            ]
          },
          "metadata": {},
          "execution_count": 26
        }
      ]
    },
    {
      "cell_type": "code",
      "source": [
        "f_train2[3]"
      ],
      "metadata": {
        "colab": {
          "base_uri": "https://localhost:8080/",
          "height": 1000
        },
        "id": "uSGV6Z9vL8Hk",
        "outputId": "b5c353bd-5c2f-4cda-e3e0-7b8cd2fdd7d3"
      },
      "execution_count": null,
      "outputs": [
        {
          "output_type": "execute_result",
          "data": {
            "text/plain": [
              "' Senjō no Valkyria 3 : <unk> Chronicles ( Japanese : 戦場のヴァルキュリア3 , lit . Valkyria of the Battlefield 3 ) , commonly referred to as Valkyria Chronicles III outside Japan , is a tactical role @-@ playing video game developed by Sega and Media.Vision for the PlayStation Portable . Released in January 2011 in Japan , it is the third game in the Valkyria series . <unk> the same fusion of tactical and real @-@ time gameplay as its predecessors , the story runs parallel to the first game and follows the \" Nameless \" , a penal military unit serving the nation of Gallia during the Second Europan War who perform secret black operations and are pitted against the Imperial unit \" <unk> Raven \" . \\n'"
            ],
            "application/vnd.google.colaboratory.intrinsic+json": {
              "type": "string"
            }
          },
          "metadata": {},
          "execution_count": 27
        }
      ]
    },
    {
      "cell_type": "code",
      "source": [
        "main_tokens = list(map(tokenizer, f_train2))"
      ],
      "metadata": {
        "id": "d3u-7m-AL0BI"
      },
      "execution_count": null,
      "outputs": []
    },
    {
      "cell_type": "code",
      "source": [
        "len(main_tokens)"
      ],
      "metadata": {
        "colab": {
          "base_uri": "https://localhost:8080/"
        },
        "id": "JSj1y2dEM9BX",
        "outputId": "f033dc76-bfa2-40e2-fd17-b3323ad07689"
      },
      "execution_count": null,
      "outputs": [
        {
          "output_type": "execute_result",
          "data": {
            "text/plain": [
              "36718"
            ]
          },
          "metadata": {},
          "execution_count": 29
        }
      ]
    },
    {
      "cell_type": "code",
      "source": [
        "vocab_dicts = {}\n",
        "for i in main_tokens:\n",
        "  for j in i:\n",
        "    if j not in vocab_dicts.keys():\n",
        "      vocab_dicts[j] = 1\n",
        "    else:\n",
        "      vocab_dicts[j] += 1"
      ],
      "metadata": {
        "id": "RXp7A3llNhNA"
      },
      "execution_count": null,
      "outputs": []
    },
    {
      "cell_type": "code",
      "source": [
        "len(vocab_dicts.keys())"
      ],
      "metadata": {
        "colab": {
          "base_uri": "https://localhost:8080/"
        },
        "id": "4ju9BM4UOJYu",
        "outputId": "4c439100-fa7e-4051-ed43-9fb6b9c89093"
      },
      "execution_count": null,
      "outputs": [
        {
          "output_type": "execute_result",
          "data": {
            "text/plain": [
              "28782"
            ]
          },
          "metadata": {},
          "execution_count": 31
        }
      ]
    },
    {
      "cell_type": "markdown",
      "source": [
        "**all words in train.txt:**"
      ],
      "metadata": {
        "id": "HffsZd2OWuaR"
      }
    },
    {
      "cell_type": "code",
      "source": [
        "count_totall_word = 0\n",
        "for i in main_tokens:\n",
        "  for j in i:\n",
        "    count_totall_word = count_totall_word + len(j)\n",
        "count_totall_word"
      ],
      "metadata": {
        "colab": {
          "base_uri": "https://localhost:8080/"
        },
        "id": "vgSsFxiXHgox",
        "outputId": "a3938dc6-631d-452a-99e0-18e62d2936a8"
      },
      "execution_count": null,
      "outputs": [
        {
          "output_type": "execute_result",
          "data": {
            "text/plain": [
              "8618752"
            ]
          },
          "metadata": {},
          "execution_count": 32
        }
      ]
    },
    {
      "cell_type": "markdown",
      "source": [
        "**Most and least common words:**"
      ],
      "metadata": {
        "id": "owQK5ohmXeVR"
      }
    },
    {
      "cell_type": "code",
      "source": [
        "# count = 0\n",
        "count_dict2 = {}\n",
        "for k, v in vocab_dicts.items():\n",
        "  # count=count +1\n",
        "  if v in count_dict2.keys():\n",
        "    count_dict2[v]+=1\n",
        "  else:\n",
        "    count_dict2[v]=1\n",
        "\n",
        "  # print(f\"count {count}: \", k ,\" \", v)"
      ],
      "metadata": {
        "id": "6QxuwaZrHzY-"
      },
      "execution_count": null,
      "outputs": []
    },
    {
      "cell_type": "code",
      "source": [
        "count_dict2"
      ],
      "metadata": {
        "id": "hljVQ-cMH4Cv",
        "colab": {
          "base_uri": "https://localhost:8080/"
        },
        "outputId": "bcde2b94-97f4-40d6-879f-50ba54aad000"
      },
      "execution_count": null,
      "outputs": [
        {
          "output_type": "execute_result",
          "data": {
            "text/plain": [
              "{29570: 1,\n",
              " 54: 63,\n",
              " 53: 63,\n",
              " 231: 4,\n",
              " 5: 2261,\n",
              " 1702: 1,\n",
              " 1601: 1,\n",
              " 54625: 1,\n",
              " 11992: 1,\n",
              " 255: 6,\n",
              " 3: 5130,\n",
              " 102615: 1,\n",
              " 29: 154,\n",
              " 83397: 1,\n",
              " 57030: 1,\n",
              " 130768: 1,\n",
              " 38: 91,\n",
              " 12004: 1,\n",
              " 119: 16,\n",
              " 206: 8,\n",
              " 39521: 1,\n",
              " 15058: 1,\n",
              " 309: 2,\n",
              " 212: 7,\n",
              " 11691: 1,\n",
              " 36523: 1,\n",
              " 32: 143,\n",
              " 598: 1,\n",
              " 16906: 1,\n",
              " 342: 4,\n",
              " 725: 2,\n",
              " 2077: 1,\n",
              " 429: 3,\n",
              " 12718: 1,\n",
              " 9: 991,\n",
              " 50735: 1,\n",
              " 262: 4,\n",
              " 87: 35,\n",
              " 13794: 1,\n",
              " 124: 15,\n",
              " 33: 105,\n",
              " 979: 2,\n",
              " 45015: 1,\n",
              " 693: 2,\n",
              " 519: 1,\n",
              " 9273: 1,\n",
              " 716: 1,\n",
              " 1498: 1,\n",
              " 45: 78,\n",
              " 271: 5,\n",
              " 2607: 1,\n",
              " 103: 22,\n",
              " 3877: 1,\n",
              " 24: 206,\n",
              " 545: 1,\n",
              " 194: 7,\n",
              " 66: 42,\n",
              " 4242: 1,\n",
              " 128: 22,\n",
              " 12: 646,\n",
              " 576: 1,\n",
              " 197: 4,\n",
              " 104: 22,\n",
              " 2690: 1,\n",
              " 1465: 1,\n",
              " 1370: 1,\n",
              " 3029: 1,\n",
              " 113: 17,\n",
              " 132: 9,\n",
              " 624: 1,\n",
              " 325: 2,\n",
              " 4714: 1,\n",
              " 1272: 1,\n",
              " 93: 31,\n",
              " 8: 1100,\n",
              " 1102: 1,\n",
              " 505: 2,\n",
              " 611: 1,\n",
              " 65: 52,\n",
              " 2137: 1,\n",
              " 856: 1,\n",
              " 126: 16,\n",
              " 1083: 2,\n",
              " 180: 7,\n",
              " 15140: 1,\n",
              " 589: 3,\n",
              " 2127: 1,\n",
              " 181: 5,\n",
              " 338: 1,\n",
              " 3842: 1,\n",
              " 46: 80,\n",
              " 1584: 1,\n",
              " 457: 2,\n",
              " 2402: 1,\n",
              " 641: 2,\n",
              " 55: 61,\n",
              " 70: 45,\n",
              " 1448: 1,\n",
              " 441: 2,\n",
              " 9229: 1,\n",
              " 407: 1,\n",
              " 11: 686,\n",
              " 957: 1,\n",
              " 13012: 1,\n",
              " 365: 1,\n",
              " 6: 1740,\n",
              " 974: 1,\n",
              " 186: 10,\n",
              " 134: 19,\n",
              " 18484: 1,\n",
              " 14936: 1,\n",
              " 296: 6,\n",
              " 196: 8,\n",
              " 21008: 1,\n",
              " 58: 54,\n",
              " 1877: 1,\n",
              " 136: 20,\n",
              " 253: 5,\n",
              " 220: 9,\n",
              " 149: 12,\n",
              " 269: 4,\n",
              " 448: 3,\n",
              " 377: 3,\n",
              " 3749: 1,\n",
              " 569: 1,\n",
              " 783: 1,\n",
              " 30: 161,\n",
              " 6250: 1,\n",
              " 101: 15,\n",
              " 161: 9,\n",
              " 661: 1,\n",
              " 14351: 1,\n",
              " 1668: 1,\n",
              " 85: 29,\n",
              " 2443: 1,\n",
              " 63: 45,\n",
              " 667: 1,\n",
              " 49: 61,\n",
              " 819: 1,\n",
              " 404: 1,\n",
              " 4006: 1,\n",
              " 15: 414,\n",
              " 4233: 1,\n",
              " 73: 37,\n",
              " 51: 60,\n",
              " 13: 515,\n",
              " 291: 6,\n",
              " 2332: 1,\n",
              " 361: 2,\n",
              " 72: 43,\n",
              " 4: 3243,\n",
              " 117: 16,\n",
              " 1279: 1,\n",
              " 817: 1,\n",
              " 1524: 1,\n",
              " 427: 2,\n",
              " 526: 2,\n",
              " 476: 2,\n",
              " 1319: 1,\n",
              " 82: 43,\n",
              " 121: 12,\n",
              " 542: 2,\n",
              " 254: 5,\n",
              " 242: 6,\n",
              " 1364: 1,\n",
              " 107: 16,\n",
              " 697: 1,\n",
              " 1075: 1,\n",
              " 26: 211,\n",
              " 42: 101,\n",
              " 28: 141,\n",
              " 390: 3,\n",
              " 99: 23,\n",
              " 59: 51,\n",
              " 64: 50,\n",
              " 80: 27,\n",
              " 102: 28,\n",
              " 630: 2,\n",
              " 20: 277,\n",
              " 39: 100,\n",
              " 106: 12,\n",
              " 31: 127,\n",
              " 1320: 1,\n",
              " 4859: 1,\n",
              " 22: 260,\n",
              " 3894: 1,\n",
              " 540: 2,\n",
              " 984: 1,\n",
              " 204: 5,\n",
              " 62: 39,\n",
              " 175: 7,\n",
              " 2655: 1,\n",
              " 3910: 1,\n",
              " 167: 7,\n",
              " 2729: 1,\n",
              " 21: 245,\n",
              " 835: 1,\n",
              " 283: 3,\n",
              " 164: 5,\n",
              " 265: 6,\n",
              " 118: 13,\n",
              " 83: 29,\n",
              " 142: 17,\n",
              " 687: 2,\n",
              " 162: 7,\n",
              " 57: 55,\n",
              " 506: 1,\n",
              " 496: 1,\n",
              " 71: 43,\n",
              " 248: 4,\n",
              " 1771: 1,\n",
              " 1488: 1,\n",
              " 524: 1,\n",
              " 166: 7,\n",
              " 78: 27,\n",
              " 1765: 1,\n",
              " 694: 1,\n",
              " 1039: 1,\n",
              " 1801: 1,\n",
              " 585: 1,\n",
              " 322: 2,\n",
              " 222: 3,\n",
              " 3565: 1,\n",
              " 1194: 1,\n",
              " 690: 2,\n",
              " 449: 2,\n",
              " 729: 1,\n",
              " 187: 6,\n",
              " 176: 12,\n",
              " 438: 1,\n",
              " 633: 1,\n",
              " 831: 1,\n",
              " 480: 4,\n",
              " 96: 24,\n",
              " 966: 2,\n",
              " 214: 9,\n",
              " 2061: 1,\n",
              " 299: 2,\n",
              " 415: 1,\n",
              " 195: 8,\n",
              " 120: 12,\n",
              " 9070: 1,\n",
              " 25: 175,\n",
              " 3325: 1,\n",
              " 504: 1,\n",
              " 232: 2,\n",
              " 4290: 1,\n",
              " 328: 2,\n",
              " 1918: 1,\n",
              " 277: 1,\n",
              " 191: 6,\n",
              " 731: 3,\n",
              " 139: 11,\n",
              " 803: 1,\n",
              " 1760: 1,\n",
              " 872: 1,\n",
              " 313: 4,\n",
              " 81: 32,\n",
              " 3655: 1,\n",
              " 1454: 1,\n",
              " 35: 118,\n",
              " 179: 4,\n",
              " 116: 20,\n",
              " 131: 17,\n",
              " 5546: 1,\n",
              " 141: 10,\n",
              " 327: 5,\n",
              " 306: 4,\n",
              " 521: 2,\n",
              " 217: 5,\n",
              " 88: 26,\n",
              " 68: 38,\n",
              " 23: 213,\n",
              " 713: 1,\n",
              " 1508: 1,\n",
              " 3470: 1,\n",
              " 286: 2,\n",
              " 50: 64,\n",
              " 193: 9,\n",
              " 312: 4,\n",
              " 587: 1,\n",
              " 9019: 1,\n",
              " 518: 1,\n",
              " 19: 292,\n",
              " 3670: 1,\n",
              " 631: 1,\n",
              " 516: 2,\n",
              " 347: 2,\n",
              " 292: 1,\n",
              " 938: 2,\n",
              " 84: 29,\n",
              " 373: 2,\n",
              " 91: 26,\n",
              " 123: 17,\n",
              " 302: 2,\n",
              " 74: 25,\n",
              " 27: 155,\n",
              " 243: 5,\n",
              " 7: 1389,\n",
              " 1299: 1,\n",
              " 225: 3,\n",
              " 189: 7,\n",
              " 654: 2,\n",
              " 570: 2,\n",
              " 1259: 1,\n",
              " 16: 385,\n",
              " 148: 9,\n",
              " 246: 5,\n",
              " 241: 6,\n",
              " 320: 2,\n",
              " 208: 12,\n",
              " 2027: 1,\n",
              " 230: 10,\n",
              " 37: 104,\n",
              " 625: 2,\n",
              " 75: 39,\n",
              " 90: 30,\n",
              " 1976: 1,\n",
              " 417: 1,\n",
              " 316: 4,\n",
              " 18: 291,\n",
              " 190: 10,\n",
              " 784: 1,\n",
              " 34: 126,\n",
              " 464: 1,\n",
              " 235: 4,\n",
              " 366: 4,\n",
              " 1445: 1,\n",
              " 40: 93,\n",
              " 143: 13,\n",
              " 207: 6,\n",
              " 515: 3,\n",
              " 613: 1,\n",
              " 61: 50,\n",
              " 251: 7,\n",
              " 724: 2,\n",
              " 4560: 1,\n",
              " 394: 2,\n",
              " 300: 2,\n",
              " 221: 5,\n",
              " 188: 3,\n",
              " 565: 1,\n",
              " 297: 3,\n",
              " 147: 8,\n",
              " 8706: 1,\n",
              " 86: 21,\n",
              " 150: 8,\n",
              " 770: 2,\n",
              " 644: 1,\n",
              " 60: 45,\n",
              " 44: 83,\n",
              " 159: 13,\n",
              " 170: 6,\n",
              " 130: 13,\n",
              " 1040: 1,\n",
              " 36: 107,\n",
              " 5707: 1,\n",
              " 3263: 1,\n",
              " 1198: 1,\n",
              " 557: 1,\n",
              " 1609: 1,\n",
              " 364: 3,\n",
              " 290: 3,\n",
              " 10: 794,\n",
              " 744: 3,\n",
              " 406: 1,\n",
              " 69: 45,\n",
              " 737: 2,\n",
              " 326: 1,\n",
              " 1071: 1,\n",
              " 184: 3,\n",
              " 160: 13,\n",
              " 56: 55,\n",
              " 463: 2,\n",
              " 311: 2,\n",
              " 114: 17,\n",
              " 527: 2,\n",
              " 487: 2,\n",
              " 1397: 1,\n",
              " 1152: 1,\n",
              " 185: 6,\n",
              " 168: 5,\n",
              " 535: 1,\n",
              " 92: 24,\n",
              " 665: 1,\n",
              " 109: 17,\n",
              " 2767: 1,\n",
              " 154: 12,\n",
              " 700: 1,\n",
              " 595: 1,\n",
              " 48: 61,\n",
              " 340: 2,\n",
              " 2557: 1,\n",
              " 343: 1,\n",
              " 791: 1,\n",
              " 1329: 1,\n",
              " 151: 11,\n",
              " 89: 27,\n",
              " 133: 10,\n",
              " 305: 1,\n",
              " 409: 2,\n",
              " 258: 4,\n",
              " 215: 4,\n",
              " 244: 5,\n",
              " 213: 4,\n",
              " 846: 1,\n",
              " 295: 2,\n",
              " 617: 1,\n",
              " 376: 2,\n",
              " 266: 3,\n",
              " 446: 1,\n",
              " 573: 1,\n",
              " 227: 4,\n",
              " 112: 18,\n",
              " 488: 2,\n",
              " 395: 3,\n",
              " 891: 1,\n",
              " 263: 3,\n",
              " 552: 1,\n",
              " 202: 9,\n",
              " 210: 4,\n",
              " 7334: 1,\n",
              " 1642: 1,\n",
              " 249: 3,\n",
              " 1278: 1,\n",
              " 14: 448,\n",
              " 442: 2,\n",
              " 224: 6,\n",
              " 165: 11,\n",
              " 1033: 1,\n",
              " 100: 24,\n",
              " 276: 5,\n",
              " 499: 1,\n",
              " 1848: 1,\n",
              " 198: 5,\n",
              " 41: 94,\n",
              " 1462: 1,\n",
              " 2248: 1,\n",
              " 238: 5,\n",
              " 1134: 1,\n",
              " 397: 6,\n",
              " 94: 22,\n",
              " 1922: 1,\n",
              " 422: 1,\n",
              " 513: 2,\n",
              " 502: 1,\n",
              " 158: 8,\n",
              " 769: 1,\n",
              " 275: 4,\n",
              " 455: 2,\n",
              " 157: 9,\n",
              " 581: 1,\n",
              " 400: 1,\n",
              " 115: 13,\n",
              " 1557: 1,\n",
              " 755: 1,\n",
              " 434: 4,\n",
              " 17: 327,\n",
              " 411: 1,\n",
              " 498: 1,\n",
              " 1287: 1,\n",
              " 1928: 1,\n",
              " 1828: 1,\n",
              " 877: 1,\n",
              " 47: 85,\n",
              " 67: 46,\n",
              " 869: 1,\n",
              " 152: 12,\n",
              " 623: 1,\n",
              " 294: 1,\n",
              " 97: 19,\n",
              " 612: 2,\n",
              " 330: 1,\n",
              " 358: 3,\n",
              " 304: 4,\n",
              " 1038: 1,\n",
              " 1871: 1,\n",
              " 492: 2,\n",
              " 711: 1,\n",
              " 315: 3,\n",
              " 267: 3,\n",
              " 1015: 1,\n",
              " 105: 14,\n",
              " 140: 12,\n",
              " 843: 1,\n",
              " 723: 1,\n",
              " 199: 5,\n",
              " 546: 1,\n",
              " 1165: 1,\n",
              " 11786: 1,\n",
              " 234: 6,\n",
              " 274: 2,\n",
              " 95: 27,\n",
              " 293: 3,\n",
              " 482: 1,\n",
              " 319: 4,\n",
              " 432: 1,\n",
              " 413: 1,\n",
              " 226: 2,\n",
              " 550: 1,\n",
              " 110: 20,\n",
              " 127: 24,\n",
              " 288: 4,\n",
              " 465: 1,\n",
              " 250: 4,\n",
              " 209: 5,\n",
              " 686: 1,\n",
              " 303: 2,\n",
              " 192: 8,\n",
              " 163: 9,\n",
              " 237: 5,\n",
              " 122: 18,\n",
              " 1064: 1,\n",
              " 333: 1,\n",
              " 177: 16,\n",
              " 575: 2,\n",
              " 285: 2,\n",
              " 810: 1,\n",
              " 865: 1,\n",
              " 355: 2,\n",
              " 2284: 1,\n",
              " 307: 2,\n",
              " 511: 1,\n",
              " 256: 2,\n",
              " 398: 1,\n",
              " 257: 5,\n",
              " 451: 1,\n",
              " 287: 3,\n",
              " 958: 1,\n",
              " 111: 10,\n",
              " 247: 5,\n",
              " 639: 1,\n",
              " 382: 4,\n",
              " 485: 2,\n",
              " 428: 1,\n",
              " 600: 1,\n",
              " 494: 1,\n",
              " 43: 76,\n",
              " 646: 1,\n",
              " 995: 1,\n",
              " 200: 6,\n",
              " 808: 1,\n",
              " 671: 1,\n",
              " 799: 1,\n",
              " 79: 34,\n",
              " 229: 6,\n",
              " 478: 1,\n",
              " 1255: 1,\n",
              " 1373: 1,\n",
              " 201: 4,\n",
              " 691: 1,\n",
              " 1274: 1,\n",
              " 1447: 2,\n",
              " 669: 1,\n",
              " 440: 1,\n",
              " 771: 1,\n",
              " 308: 3,\n",
              " 425: 1,\n",
              " 76: 30,\n",
              " 574: 1,\n",
              " 909: 1,\n",
              " 774: 2,\n",
              " 753: 1,\n",
              " 534: 1,\n",
              " 914: 1,\n",
              " 1239: 1,\n",
              " 108: 13,\n",
              " 1065: 1,\n",
              " 236: 3,\n",
              " 1451: 1,\n",
              " 1018: 1,\n",
              " 900: 2,\n",
              " 1216: 1,\n",
              " 1019: 1,\n",
              " 684: 1,\n",
              " 233: 3,\n",
              " 650: 2,\n",
              " 387: 1,\n",
              " 554: 2,\n",
              " 145: 6,\n",
              " 450: 3,\n",
              " 52: 58,\n",
              " 738: 2,\n",
              " 252: 2,\n",
              " 1361: 1,\n",
              " 786: 2,\n",
              " 272: 3,\n",
              " 1014: 1,\n",
              " 374: 2,\n",
              " 431: 3,\n",
              " 129: 8,\n",
              " 699: 1,\n",
              " 1090: 1,\n",
              " 205: 3,\n",
              " 424: 1,\n",
              " 960: 1,\n",
              " 281: 4,\n",
              " 172: 6,\n",
              " 456: 1,\n",
              " 837: 1,\n",
              " 430: 2,\n",
              " 350: 3,\n",
              " 228: 4,\n",
              " 888: 1,\n",
              " 391: 2,\n",
              " 1262: 1,\n",
              " 1236: 1,\n",
              " 497: 1,\n",
              " 77: 28,\n",
              " 1988: 1,\n",
              " 268: 1,\n",
              " 410: 2,\n",
              " 1261: 1,\n",
              " 460: 1,\n",
              " 353: 3,\n",
              " 153: 11,\n",
              " 668: 1,\n",
              " 748: 1,\n",
              " 861: 1,\n",
              " 507: 2,\n",
              " 245: 3,\n",
              " 894: 1,\n",
              " 681: 2,\n",
              " 454: 3,\n",
              " 666: 1,\n",
              " 171: 7,\n",
              " 418: 2,\n",
              " 125: 11,\n",
              " 582: 1,\n",
              " 578: 2,\n",
              " 475: 2,\n",
              " 98: 13,\n",
              " 155: 7,\n",
              " 702: 1,\n",
              " 653: 1,\n",
              " 349: 1,\n",
              " 412: 1,\n",
              " 146: 6,\n",
              " 289: 4,\n",
              " 472: 1,\n",
              " 284: 4,\n",
              " 345: 2,\n",
              " 360: 2,\n",
              " 169: 8,\n",
              " 529: 1,\n",
              " 183: 8,\n",
              " 1273: 1,\n",
              " 369: 2,\n",
              " 138: 11,\n",
              " 416: 1,\n",
              " 211: 2,\n",
              " 757: 1,\n",
              " 662: 1,\n",
              " 836: 1,\n",
              " 1357: 1,\n",
              " 568: 1,\n",
              " 444: 3,\n",
              " 388: 1,\n",
              " 590: 1,\n",
              " 218: 3,\n",
              " 137: 6,\n",
              " 173: 4,\n",
              " 203: 4,\n",
              " 1178: 1,\n",
              " 3934: 1,\n",
              " 1034: 1,\n",
              " 916: 1,\n",
              " 219: 6,\n",
              " 135: 16,\n",
              " 380: 1,\n",
              " 531: 1,\n",
              " 144: 12,\n",
              " 2884: 1,\n",
              " 363: 3,\n",
              " 443: 2,\n",
              " 968: 1,\n",
              " 401: 2,\n",
              " 678: 1,\n",
              " 344: 2,\n",
              " 689: 1,\n",
              " 758: 1,\n",
              " 491: 1,\n",
              " 323: 2,\n",
              " 216: 5,\n",
              " 264: 3,\n",
              " 523: 2,\n",
              " 378: 2,\n",
              " 732: 1,\n",
              " 910: 1,\n",
              " 584: 1,\n",
              " 334: 3,\n",
              " 445: 2,\n",
              " 672: 1,\n",
              " 1240: 1,\n",
              " 479: 1,\n",
              " 707: 1,\n",
              " 261: 1,\n",
              " 825: 1,\n",
              " 408: 2,\n",
              " 240: 2,\n",
              " 156: 11,\n",
              " 567: 1,\n",
              " 399: 1,\n",
              " 525: 1,\n",
              " 386: 1,\n",
              " 329: 1,\n",
              " 278: 2,\n",
              " 871: 1,\n",
              " 357: 1,\n",
              " 405: 1,\n",
              " 396: 1,\n",
              " 616: 1,\n",
              " 348: 3,\n",
              " 470: 1,\n",
              " 777: 1,\n",
              " 764: 1,\n",
              " 435: 2,\n",
              " 383: 2,\n",
              " 1692: 1,\n",
              " 747: 1,\n",
              " 718: 1,\n",
              " 174: 7,\n",
              " 239: 1,\n",
              " 273: 1,\n",
              " 903: 1,\n",
              " 685: 1,\n",
              " 259: 5,\n",
              " 940: 1,\n",
              " 509: 1,\n",
              " 809: 1,\n",
              " 647: 1,\n",
              " 549: 1,\n",
              " 223: 3,\n",
              " 182: 9,\n",
              " 551: 1,\n",
              " 452: 1,\n",
              " 881: 1,\n",
              " 596: 1,\n",
              " 178: 4,\n",
              " 371: 2,\n",
              " 298: 1,\n",
              " 423: 1,\n",
              " 1383: 1,\n",
              " 260: 2,\n",
              " 331: 2,\n",
              " 280: 2,\n",
              " 367: 1,\n",
              " 279: 2,\n",
              " 414: 1,\n",
              " 541: 1,\n",
              " 503: 1,\n",
              " 372: 1,\n",
              " 384: 1,\n",
              " 618: 1,\n",
              " 733: 1,\n",
              " 486: 1,\n",
              " 657: 1,\n",
              " 270: 1,\n",
              " 420: 2,\n",
              " 539: 1,\n",
              " 1405: 1,\n",
              " 324: 1,\n",
              " 469: 1,\n",
              " 359: 1,\n",
              " 619: 1,\n",
              " 989: 1,\n",
              " 335: 1,\n",
              " 310: 1,\n",
              " 632: 1,\n",
              " 354: 1,\n",
              " 547: 1,\n",
              " 426: 1}"
            ]
          },
          "metadata": {},
          "execution_count": 34
        }
      ]
    },
    {
      "cell_type": "code",
      "source": [
        "from collections import OrderedDict\n",
        "dict1 = OrderedDict(sorted(count_dict2.items()))\n",
        "print(dict1)"
      ],
      "metadata": {
        "colab": {
          "base_uri": "https://localhost:8080/"
        },
        "id": "OQ5KqJc1I8sd",
        "outputId": "f9474467-f860-4707-d799-ad9df8ccdaaa"
      },
      "execution_count": null,
      "outputs": [
        {
          "output_type": "stream",
          "name": "stdout",
          "text": [
            "OrderedDict([(3, 5130), (4, 3243), (5, 2261), (6, 1740), (7, 1389), (8, 1100), (9, 991), (10, 794), (11, 686), (12, 646), (13, 515), (14, 448), (15, 414), (16, 385), (17, 327), (18, 291), (19, 292), (20, 277), (21, 245), (22, 260), (23, 213), (24, 206), (25, 175), (26, 211), (27, 155), (28, 141), (29, 154), (30, 161), (31, 127), (32, 143), (33, 105), (34, 126), (35, 118), (36, 107), (37, 104), (38, 91), (39, 100), (40, 93), (41, 94), (42, 101), (43, 76), (44, 83), (45, 78), (46, 80), (47, 85), (48, 61), (49, 61), (50, 64), (51, 60), (52, 58), (53, 63), (54, 63), (55, 61), (56, 55), (57, 55), (58, 54), (59, 51), (60, 45), (61, 50), (62, 39), (63, 45), (64, 50), (65, 52), (66, 42), (67, 46), (68, 38), (69, 45), (70, 45), (71, 43), (72, 43), (73, 37), (74, 25), (75, 39), (76, 30), (77, 28), (78, 27), (79, 34), (80, 27), (81, 32), (82, 43), (83, 29), (84, 29), (85, 29), (86, 21), (87, 35), (88, 26), (89, 27), (90, 30), (91, 26), (92, 24), (93, 31), (94, 22), (95, 27), (96, 24), (97, 19), (98, 13), (99, 23), (100, 24), (101, 15), (102, 28), (103, 22), (104, 22), (105, 14), (106, 12), (107, 16), (108, 13), (109, 17), (110, 20), (111, 10), (112, 18), (113, 17), (114, 17), (115, 13), (116, 20), (117, 16), (118, 13), (119, 16), (120, 12), (121, 12), (122, 18), (123, 17), (124, 15), (125, 11), (126, 16), (127, 24), (128, 22), (129, 8), (130, 13), (131, 17), (132, 9), (133, 10), (134, 19), (135, 16), (136, 20), (137, 6), (138, 11), (139, 11), (140, 12), (141, 10), (142, 17), (143, 13), (144, 12), (145, 6), (146, 6), (147, 8), (148, 9), (149, 12), (150, 8), (151, 11), (152, 12), (153, 11), (154, 12), (155, 7), (156, 11), (157, 9), (158, 8), (159, 13), (160, 13), (161, 9), (162, 7), (163, 9), (164, 5), (165, 11), (166, 7), (167, 7), (168, 5), (169, 8), (170, 6), (171, 7), (172, 6), (173, 4), (174, 7), (175, 7), (176, 12), (177, 16), (178, 4), (179, 4), (180, 7), (181, 5), (182, 9), (183, 8), (184, 3), (185, 6), (186, 10), (187, 6), (188, 3), (189, 7), (190, 10), (191, 6), (192, 8), (193, 9), (194, 7), (195, 8), (196, 8), (197, 4), (198, 5), (199, 5), (200, 6), (201, 4), (202, 9), (203, 4), (204, 5), (205, 3), (206, 8), (207, 6), (208, 12), (209, 5), (210, 4), (211, 2), (212, 7), (213, 4), (214, 9), (215, 4), (216, 5), (217, 5), (218, 3), (219, 6), (220, 9), (221, 5), (222, 3), (223, 3), (224, 6), (225, 3), (226, 2), (227, 4), (228, 4), (229, 6), (230, 10), (231, 4), (232, 2), (233, 3), (234, 6), (235, 4), (236, 3), (237, 5), (238, 5), (239, 1), (240, 2), (241, 6), (242, 6), (243, 5), (244, 5), (245, 3), (246, 5), (247, 5), (248, 4), (249, 3), (250, 4), (251, 7), (252, 2), (253, 5), (254, 5), (255, 6), (256, 2), (257, 5), (258, 4), (259, 5), (260, 2), (261, 1), (262, 4), (263, 3), (264, 3), (265, 6), (266, 3), (267, 3), (268, 1), (269, 4), (270, 1), (271, 5), (272, 3), (273, 1), (274, 2), (275, 4), (276, 5), (277, 1), (278, 2), (279, 2), (280, 2), (281, 4), (283, 3), (284, 4), (285, 2), (286, 2), (287, 3), (288, 4), (289, 4), (290, 3), (291, 6), (292, 1), (293, 3), (294, 1), (295, 2), (296, 6), (297, 3), (298, 1), (299, 2), (300, 2), (302, 2), (303, 2), (304, 4), (305, 1), (306, 4), (307, 2), (308, 3), (309, 2), (310, 1), (311, 2), (312, 4), (313, 4), (315, 3), (316, 4), (319, 4), (320, 2), (322, 2), (323, 2), (324, 1), (325, 2), (326, 1), (327, 5), (328, 2), (329, 1), (330, 1), (331, 2), (333, 1), (334, 3), (335, 1), (338, 1), (340, 2), (342, 4), (343, 1), (344, 2), (345, 2), (347, 2), (348, 3), (349, 1), (350, 3), (353, 3), (354, 1), (355, 2), (357, 1), (358, 3), (359, 1), (360, 2), (361, 2), (363, 3), (364, 3), (365, 1), (366, 4), (367, 1), (369, 2), (371, 2), (372, 1), (373, 2), (374, 2), (376, 2), (377, 3), (378, 2), (380, 1), (382, 4), (383, 2), (384, 1), (386, 1), (387, 1), (388, 1), (390, 3), (391, 2), (394, 2), (395, 3), (396, 1), (397, 6), (398, 1), (399, 1), (400, 1), (401, 2), (404, 1), (405, 1), (406, 1), (407, 1), (408, 2), (409, 2), (410, 2), (411, 1), (412, 1), (413, 1), (414, 1), (415, 1), (416, 1), (417, 1), (418, 2), (420, 2), (422, 1), (423, 1), (424, 1), (425, 1), (426, 1), (427, 2), (428, 1), (429, 3), (430, 2), (431, 3), (432, 1), (434, 4), (435, 2), (438, 1), (440, 1), (441, 2), (442, 2), (443, 2), (444, 3), (445, 2), (446, 1), (448, 3), (449, 2), (450, 3), (451, 1), (452, 1), (454, 3), (455, 2), (456, 1), (457, 2), (460, 1), (463, 2), (464, 1), (465, 1), (469, 1), (470, 1), (472, 1), (475, 2), (476, 2), (478, 1), (479, 1), (480, 4), (482, 1), (485, 2), (486, 1), (487, 2), (488, 2), (491, 1), (492, 2), (494, 1), (496, 1), (497, 1), (498, 1), (499, 1), (502, 1), (503, 1), (504, 1), (505, 2), (506, 1), (507, 2), (509, 1), (511, 1), (513, 2), (515, 3), (516, 2), (518, 1), (519, 1), (521, 2), (523, 2), (524, 1), (525, 1), (526, 2), (527, 2), (529, 1), (531, 1), (534, 1), (535, 1), (539, 1), (540, 2), (541, 1), (542, 2), (545, 1), (546, 1), (547, 1), (549, 1), (550, 1), (551, 1), (552, 1), (554, 2), (557, 1), (565, 1), (567, 1), (568, 1), (569, 1), (570, 2), (573, 1), (574, 1), (575, 2), (576, 1), (578, 2), (581, 1), (582, 1), (584, 1), (585, 1), (587, 1), (589, 3), (590, 1), (595, 1), (596, 1), (598, 1), (600, 1), (611, 1), (612, 2), (613, 1), (616, 1), (617, 1), (618, 1), (619, 1), (623, 1), (624, 1), (625, 2), (630, 2), (631, 1), (632, 1), (633, 1), (639, 1), (641, 2), (644, 1), (646, 1), (647, 1), (650, 2), (653, 1), (654, 2), (657, 1), (661, 1), (662, 1), (665, 1), (666, 1), (667, 1), (668, 1), (669, 1), (671, 1), (672, 1), (678, 1), (681, 2), (684, 1), (685, 1), (686, 1), (687, 2), (689, 1), (690, 2), (691, 1), (693, 2), (694, 1), (697, 1), (699, 1), (700, 1), (702, 1), (707, 1), (711, 1), (713, 1), (716, 1), (718, 1), (723, 1), (724, 2), (725, 2), (729, 1), (731, 3), (732, 1), (733, 1), (737, 2), (738, 2), (744, 3), (747, 1), (748, 1), (753, 1), (755, 1), (757, 1), (758, 1), (764, 1), (769, 1), (770, 2), (771, 1), (774, 2), (777, 1), (783, 1), (784, 1), (786, 2), (791, 1), (799, 1), (803, 1), (808, 1), (809, 1), (810, 1), (817, 1), (819, 1), (825, 1), (831, 1), (835, 1), (836, 1), (837, 1), (843, 1), (846, 1), (856, 1), (861, 1), (865, 1), (869, 1), (871, 1), (872, 1), (877, 1), (881, 1), (888, 1), (891, 1), (894, 1), (900, 2), (903, 1), (909, 1), (910, 1), (914, 1), (916, 1), (938, 2), (940, 1), (957, 1), (958, 1), (960, 1), (966, 2), (968, 1), (974, 1), (979, 2), (984, 1), (989, 1), (995, 1), (1014, 1), (1015, 1), (1018, 1), (1019, 1), (1033, 1), (1034, 1), (1038, 1), (1039, 1), (1040, 1), (1064, 1), (1065, 1), (1071, 1), (1075, 1), (1083, 2), (1090, 1), (1102, 1), (1134, 1), (1152, 1), (1165, 1), (1178, 1), (1194, 1), (1198, 1), (1216, 1), (1236, 1), (1239, 1), (1240, 1), (1255, 1), (1259, 1), (1261, 1), (1262, 1), (1272, 1), (1273, 1), (1274, 1), (1278, 1), (1279, 1), (1287, 1), (1299, 1), (1319, 1), (1320, 1), (1329, 1), (1357, 1), (1361, 1), (1364, 1), (1370, 1), (1373, 1), (1383, 1), (1397, 1), (1405, 1), (1445, 1), (1447, 2), (1448, 1), (1451, 1), (1454, 1), (1462, 1), (1465, 1), (1488, 1), (1498, 1), (1508, 1), (1524, 1), (1557, 1), (1584, 1), (1601, 1), (1609, 1), (1642, 1), (1668, 1), (1692, 1), (1702, 1), (1760, 1), (1765, 1), (1771, 1), (1801, 1), (1828, 1), (1848, 1), (1871, 1), (1877, 1), (1918, 1), (1922, 1), (1928, 1), (1976, 1), (1988, 1), (2027, 1), (2061, 1), (2077, 1), (2127, 1), (2137, 1), (2248, 1), (2284, 1), (2332, 1), (2402, 1), (2443, 1), (2557, 1), (2607, 1), (2655, 1), (2690, 1), (2729, 1), (2767, 1), (2884, 1), (3029, 1), (3263, 1), (3325, 1), (3470, 1), (3565, 1), (3655, 1), (3670, 1), (3749, 1), (3842, 1), (3877, 1), (3894, 1), (3910, 1), (3934, 1), (4006, 1), (4233, 1), (4242, 1), (4290, 1), (4560, 1), (4714, 1), (4859, 1), (5546, 1), (5707, 1), (6250, 1), (7334, 1), (8706, 1), (9019, 1), (9070, 1), (9229, 1), (9273, 1), (11691, 1), (11786, 1), (11992, 1), (12004, 1), (12718, 1), (13012, 1), (13794, 1), (14351, 1), (14936, 1), (15058, 1), (15140, 1), (16906, 1), (18484, 1), (21008, 1), (29570, 1), (36523, 1), (39521, 1), (45015, 1), (50735, 1), (54625, 1), (57030, 1), (83397, 1), (102615, 1), (130768, 1)])\n"
          ]
        }
      ]
    },
    {
      "cell_type": "code",
      "source": [
        "plt.figure(figsize=(16, 4))\n",
        "plt.violinplot(dict1, vert=False);"
      ],
      "metadata": {
        "colab": {
          "base_uri": "https://localhost:8080/",
          "height": 54
        },
        "id": "pWy9J9-3JLKX",
        "outputId": "0af3599e-66f6-481b-c7b1-82704017ba75"
      },
      "execution_count": null,
      "outputs": [
        {
          "output_type": "display_data",
          "data": {
            "text/plain": [
              "<Figure size 1600x400 with 1 Axes>"
            ],
            "image/png": "[encoded data removed]"
          },
          "metadata": {}
        }
      ]
    },
    {
      "cell_type": "code",
      "source": [
        "freqs = Counter()\n",
        "for tokens in map(tokenizer, f_train2):\n",
        "  freqs.update(tokens)"
      ],
      "metadata": {
        "id": "GTBJs2FRUOvF"
      },
      "execution_count": null,
      "outputs": []
    },
    {
      "cell_type": "code",
      "source": [
        "freqs.most_common()[:10]"
      ],
      "metadata": {
        "colab": {
          "base_uri": "https://localhost:8080/"
        },
        "id": "Lb-eZqHyUSdA",
        "outputId": "58007eea-ba44-4643-877a-e6ccd0e4399f"
      },
      "execution_count": null,
      "outputs": [
        {
          "output_type": "execute_result",
          "data": {
            "text/plain": [
              "[('the', 130768),\n",
              " (',', 102615),\n",
              " ('.', 83397),\n",
              " ('of', 57030),\n",
              " ('<unk>', 54625),\n",
              " ('and', 50735),\n",
              " ('in', 45015),\n",
              " ('to', 39521),\n",
              " ('a', 36523),\n",
              " ('=', 29570)]"
            ]
          },
          "metadata": {},
          "execution_count": 38
        }
      ]
    },
    {
      "cell_type": "code",
      "source": [
        "freqs.most_common()[-10:]"
      ],
      "metadata": {
        "colab": {
          "base_uri": "https://localhost:8080/"
        },
        "id": "5PAWr4-CUP_9",
        "outputId": "be554d72-3b64-4ca9-fdd4-6eb7137331bf"
      },
      "execution_count": null,
      "outputs": [
        {
          "output_type": "execute_result",
          "data": {
            "text/plain": [
              "[('philipp', 3),\n",
              " ('prefaced', 3),\n",
              " ('kreutzer', 3),\n",
              " ('forrester', 3),\n",
              " ('zoromski', 3),\n",
              " ('roundabouts', 3),\n",
              " ('tuscola', 3),\n",
              " ('northeasterly', 3),\n",
              " ('intergrades', 3),\n",
              " ('gallinae', 3)]"
            ]
          },
          "metadata": {},
          "execution_count": 39
        }
      ]
    },
    {
      "cell_type": "markdown",
      "source": [
        "## **3-4. Transform the data**"
      ],
      "metadata": {
        "id": "7VELL11wOiZ9"
      }
    },
    {
      "cell_type": "markdown",
      "source": [
        "Make sure to perform the transformations on train, validation and test datasets."
      ],
      "metadata": {
        "id": "2VjvBOtvHu2v"
      }
    },
    {
      "cell_type": "markdown",
      "source": [
        "🔰 Reshape the dataset into an `N x B x L` or `M x L` format, where `N` represents the number of batches, `B` is the batch size, `L` is the length of a sample within each batch, and `M` is equal to `N x B`."
      ],
      "metadata": {
        "id": "ApisIcGeGSsJ"
      }
    },
    {
      "cell_type": "code",
      "source": [
        "def data_process(raw_text_iter, seq_len):\n",
        "  # Create a tensor that is concatenation of all tokens\n",
        "  data = torch.cat([torch.LongTensor(vocab(tokenizer(line))) for line in raw_text_iter])\n",
        "\n",
        "  M = len(data) // seq_len\n",
        "\n",
        "  # We want to reshape our big tensor to M*L. To do this we should be confident that our shape of big tensor is divisible to seq_len\n",
        "  # If it is not divisible, we add one element at the big tensor.\n",
        "  r = len(data) % seq_len\n",
        "  data = torch.cat((data, torch.LongTensor([0]))) if r==0 else data\n",
        "\n",
        "  # Put aside addition elements\n",
        "  inputs = data[:M*seq_len]\n",
        "  inputs = inputs.reshape(-1, seq_len)\n",
        "\n",
        "  # Target is shifted input\n",
        "  targets = data[1:M*seq_len+1]\n",
        "  targets = targets.reshape(-1, seq_len)\n",
        "\n",
        "  return inputs, targets"
      ],
      "metadata": {
        "id": "C8l_Vz-QfgL0"
      },
      "execution_count": null,
      "outputs": []
    },
    {
      "cell_type": "code",
      "source": [
        "seq_len = 35\n",
        "\n",
        "X_train, y_train = data_process(f_train2, seq_len)\n",
        "X_valid, y_valid = data_process(valid_iter, seq_len)\n",
        "X_test, y_test = data_process(test_iter, seq_len)\n",
        "\n",
        "X_train.shape, y_train.shape, X_valid.shape, y_valid.shape, X_test.shape, y_test.shape"
      ],
      "metadata": {
        "colab": {
          "base_uri": "https://localhost:8080/"
        },
        "id": "XGNNq9BNflX_",
        "outputId": "3054d936-759f-4625-b2d4-b2c8a021d265"
      },
      "execution_count": null,
      "outputs": [
        {
          "output_type": "execute_result",
          "data": {
            "text/plain": [
              "(torch.Size([58571, 35]),\n",
              " torch.Size([58571, 35]),\n",
              " torch.Size([6126, 35]),\n",
              " torch.Size([6126, 35]),\n",
              " torch.Size([6910, 35]),\n",
              " torch.Size([6910, 35]))"
            ]
          },
          "metadata": {},
          "execution_count": 41
        }
      ]
    },
    {
      "cell_type": "markdown",
      "source": [
        "##  **3-5. Custom dataset**"
      ],
      "metadata": {
        "id": "PgLgP04P4-aX"
      }
    },
    {
      "cell_type": "code",
      "source": [
        "class LanguageModelDataset(Dataset):\n",
        "\n",
        "  def __init__(self, inputs, targets):\n",
        "    self.inputs = inputs\n",
        "    self.targets = targets\n",
        "\n",
        "  def __len__(self):\n",
        "    return self.inputs.shape[0]\n",
        "\n",
        "  def __getitem__(self, idx):\n",
        "    input = self.inputs[idx]\n",
        "    target = self.targets[idx]\n",
        "    return input, target\n"
      ],
      "metadata": {
        "id": "6OHIcn80m7oJ"
      },
      "execution_count": null,
      "outputs": []
    },
    {
      "cell_type": "code",
      "source": [
        "train_set = LanguageModelDataset(X_train, y_train)\n",
        "valid_set = LanguageModelDataset(X_valid, y_valid)\n",
        "test_set = LanguageModelDataset(X_test, y_test)"
      ],
      "metadata": {
        "id": "j7h2-TjCkoWQ"
      },
      "execution_count": null,
      "outputs": []
    },
    {
      "cell_type": "code",
      "source": [
        "train_set[0]"
      ],
      "metadata": {
        "colab": {
          "base_uri": "https://localhost:8080/"
        },
        "id": "NRQybyi_kqyd",
        "outputId": "b486f074-5dca-404e-c08c-491da0b11794"
      },
      "execution_count": null,
      "outputs": [
        {
          "output_type": "execute_result",
          "data": {
            "text/plain": [
              "(tensor([    9,  3849,  3869,   881,     9, 20000,    83,  3849,    88,     0,\n",
              "          3869,    21,   780, 28780,     2,  6182,     3,  3849,     4,     1,\n",
              "          5023,    88,    20,     2,  1837,  1018,     7,    14,  3849,  3869,\n",
              "           881,   629,   976,     2,    23]),\n",
              " tensor([ 3849,  3869,   881,     9, 20000,    83,  3849,    88,     0,  3869,\n",
              "            21,   780, 28780,     2,  6182,     3,  3849,     4,     1,  5023,\n",
              "            88,    20,     2,  1837,  1018,     7,    14,  3849,  3869,   881,\n",
              "           629,   976,     2,    23,     8]))"
            ]
          },
          "metadata": {},
          "execution_count": 44
        }
      ]
    },
    {
      "cell_type": "code",
      "source": [
        "train_set[1]"
      ],
      "metadata": {
        "colab": {
          "base_uri": "https://localhost:8080/"
        },
        "id": "ItjqPAXJkt72",
        "outputId": "267a53a8-4ac1-4c9f-e21d-df98a3f5386b"
      },
      "execution_count": null,
      "outputs": [
        {
          "output_type": "execute_result",
          "data": {
            "text/plain": [
              "(tensor([    8,  5790,   299,    12,   575,   232,    67,   452,    19, 13722,\n",
              "             5,   757,     3,  2500,    17,     1,  1767,  5637,     3,   155,\n",
              "             6,   246,   354,     6,   976,     2,    24,    23,     1,   237,\n",
              "            67,     6,     1,  3849,    93]),\n",
              " tensor([ 5790,   299,    12,   575,   232,    67,   452,    19, 13722,     5,\n",
              "           757,     3,  2500,    17,     1,  1767,  5637,     3,   155,     6,\n",
              "           246,   354,     6,   976,     2,    24,    23,     1,   237,    67,\n",
              "             6,     1,  3849,    93,     3]))"
            ]
          },
          "metadata": {},
          "execution_count": 45
        }
      ]
    },
    {
      "cell_type": "markdown",
      "source": [
        "## **3-6. Define dataloader**"
      ],
      "metadata": {
        "id": "NCQjacybOfqV"
      }
    },
    {
      "cell_type": "code",
      "source": [
        "batch_size = 20\n",
        "\n",
        "train_loader = DataLoader(train_set, batch_size=batch_size, shuffle=True)\n",
        "valid_loader = DataLoader(valid_set, batch_size=batch_size, shuffle=False)\n",
        "test_loader = DataLoader(test_set, batch_size=batch_size, shuffle=False)"
      ],
      "metadata": {
        "id": "aHVPQxGEjvbA"
      },
      "execution_count": null,
      "outputs": []
    },
    {
      "cell_type": "code",
      "source": [
        "x_batch, y_batch = next(iter(train_loader))\n",
        "x_batch.shape, y_batch.shape"
      ],
      "metadata": {
        "colab": {
          "base_uri": "https://localhost:8080/"
        },
        "id": "V8noq1D3k2Z7",
        "outputId": "4d27d635-b3fd-4905-df62-fcbec5b44fd8"
      },
      "execution_count": null,
      "outputs": [
        {
          "output_type": "execute_result",
          "data": {
            "text/plain": [
              "(torch.Size([20, 35]), torch.Size([20, 35]))"
            ]
          },
          "metadata": {},
          "execution_count": 47
        }
      ]
    },
    {
      "cell_type": "markdown",
      "source": [
        "#  **4. Model**"
      ],
      "metadata": {
        "id": "3ttl0AK3Hvyh"
      }
    },
    {
      "cell_type": "markdown",
      "source": [
        "🔰 Use the following template to create a custom model.\n",
        "\n",
        "Your model should consist of three parts:\n",
        "\n",
        "*   an embedding layer\n",
        "*   an LSTM layer\n",
        "*   a fully connected layer"
      ],
      "metadata": {
        "id": "06p-oBowTf-R"
      }
    },
    {
      "cell_type": "code",
      "source": [
        "class LanguageModel(nn.Module):\n",
        "  def __init__(self, vocab_size, embedding_dim, hidden_dim, num_layers, dropout_embd=0.5, dropout_rnn=0.5):\n",
        "    super(LanguageModel, self).__init__()\n",
        "\n",
        "    self.embedding = nn.Embedding(vocab_size, embedding_dim)\n",
        "    self.embedding.weight.data.uniform_(-0.1, 0.1)\n",
        "    self.dropout = nn.Dropout(p=dropout_embd)\n",
        "\n",
        "    # batch_first=True : batch would be first dimension\n",
        "    self.lstm = nn.LSTM(embedding_dim, hidden_dim, num_layers=num_layers, dropout=dropout_rnn, batch_first=True)\n",
        "    self.fc = nn.Linear(hidden_dim, vocab_size)\n",
        "\n",
        "\n",
        "  def forward(self, src):\n",
        "    #src = torch.Size([20, 35])\n",
        "    embed = self.dropout(self.embedding(src)) # torch.Size([20, 35, 300])\n",
        "    output, hidden = self.lstm(embed) # torch.Size([20, 35, 512])\n",
        "    out = self.fc(output) # torch.Size([20, 35, 28782])\n",
        "\n",
        "    return out"
      ],
      "metadata": {
        "id": "ISnnHE0BMVqp"
      },
      "execution_count": null,
      "outputs": []
    },
    {
      "cell_type": "code",
      "source": [
        "model = LanguageModel(vocab_size=len(vocab),\n",
        "                      embedding_dim=300,\n",
        "                      hidden_dim=512,\n",
        "                      num_layers=2,\n",
        "                      dropout_embd=0.65,\n",
        "                      dropout_rnn=0.2)\n",
        "model"
      ],
      "metadata": {
        "id": "2MgBVzorb9oQ",
        "colab": {
          "base_uri": "https://localhost:8080/"
        },
        "outputId": "509b571f-d615-4ed4-ecbd-f49eefea109e"
      },
      "execution_count": null,
      "outputs": [
        {
          "output_type": "execute_result",
          "data": {
            "text/plain": [
              "LanguageModel(\n",
              "  (embedding): Embedding(28782, 300)\n",
              "  (dropout): Dropout(p=0.65, inplace=False)\n",
              "  (lstm): LSTM(300, 512, num_layers=2, batch_first=True, dropout=0.2)\n",
              "  (fc): Linear(in_features=512, out_features=28782, bias=True)\n",
              ")"
            ]
          },
          "metadata": {},
          "execution_count": 49
        }
      ]
    },
    {
      "cell_type": "code",
      "source": [
        "# Number of parameters:\n",
        "print('params of model : ', num_trainable_params(model))\n",
        "print('params of embedding : ', num_trainable_params(model.embedding))\n",
        "print('params of lstm : ', num_trainable_params(model.lstm))\n",
        "print('params of fc :', num_trainable_params(model.fc))"
      ],
      "metadata": {
        "colab": {
          "base_uri": "https://localhost:8080/"
        },
        "id": "wY94XcuGYluS",
        "outputId": "c9bdaeab-800b-4934-8be6-ade73fc511ec"
      },
      "execution_count": null,
      "outputs": [
        {
          "output_type": "stream",
          "name": "stdout",
          "text": [
            "params of model :  27.168086\n",
            "params of embedding :  8.6346\n",
            "params of lstm :  3.76832\n",
            "params of fc : 14.765166\n"
          ]
        }
      ]
    },
    {
      "cell_type": "code",
      "source": [
        "model(x_batch)"
      ],
      "metadata": {
        "id": "4iD-2phENEdj",
        "colab": {
          "base_uri": "https://localhost:8080/"
        },
        "outputId": "5feab4e9-8617-4a19-a449-f11ddd98385f"
      },
      "execution_count": null,
      "outputs": [
        {
          "output_type": "execute_result",
          "data": {
            "text/plain": [
              "tensor([[[ 4.8441e-02,  4.9200e-03, -3.1230e-02,  ...,  2.9948e-02,\n",
              "          -2.1422e-02,  3.6249e-02],\n",
              "         [ 5.1943e-02,  4.1961e-03, -2.9331e-02,  ...,  2.7712e-02,\n",
              "          -1.6182e-02,  4.3031e-02],\n",
              "         [ 5.1409e-02,  4.4374e-03, -2.9819e-02,  ...,  2.6718e-02,\n",
              "          -1.1984e-02,  4.3330e-02],\n",
              "         ...,\n",
              "         [ 5.2457e-02, -1.6718e-03, -2.5586e-02,  ...,  2.5685e-02,\n",
              "          -9.5652e-03,  4.6753e-02],\n",
              "         [ 5.1084e-02, -4.3657e-04, -2.5485e-02,  ...,  2.6290e-02,\n",
              "          -1.0255e-02,  4.7793e-02],\n",
              "         [ 5.0581e-02, -7.1529e-04, -2.6521e-02,  ...,  2.5671e-02,\n",
              "          -1.0482e-02,  4.8204e-02]],\n",
              "\n",
              "        [[ 4.5613e-02,  2.6008e-03, -3.1292e-02,  ...,  2.8676e-02,\n",
              "          -2.1249e-02,  3.6860e-02],\n",
              "         [ 4.8185e-02,  6.2106e-04, -3.0777e-02,  ...,  2.4548e-02,\n",
              "          -1.6352e-02,  4.1242e-02],\n",
              "         [ 5.0391e-02, -2.3373e-03, -2.9419e-02,  ...,  2.1749e-02,\n",
              "          -1.2736e-02,  4.3037e-02],\n",
              "         ...,\n",
              "         [ 5.2242e-02, -5.3588e-04, -2.7868e-02,  ...,  1.9692e-02,\n",
              "          -6.1847e-03,  4.8590e-02],\n",
              "         [ 5.2547e-02,  7.3657e-05, -2.6441e-02,  ...,  2.1038e-02,\n",
              "          -7.2849e-03,  4.6449e-02],\n",
              "         [ 5.1310e-02, -1.5527e-03, -2.7028e-02,  ...,  2.0306e-02,\n",
              "          -7.7950e-03,  4.4612e-02]],\n",
              "\n",
              "        [[ 4.6515e-02,  1.0099e-03, -3.1714e-02,  ...,  3.2123e-02,\n",
              "          -2.1720e-02,  3.8685e-02],\n",
              "         [ 5.1008e-02, -2.3350e-03, -3.1730e-02,  ...,  2.8648e-02,\n",
              "          -1.6226e-02,  4.3770e-02],\n",
              "         [ 5.3072e-02, -1.0428e-03, -3.0599e-02,  ...,  2.6773e-02,\n",
              "          -1.3591e-02,  4.4597e-02],\n",
              "         ...,\n",
              "         [ 5.4286e-02,  5.7938e-04, -2.5316e-02,  ...,  2.4133e-02,\n",
              "          -8.6455e-03,  4.3398e-02],\n",
              "         [ 5.0031e-02,  1.4198e-03, -2.5295e-02,  ...,  2.1574e-02,\n",
              "          -9.4041e-03,  4.1994e-02],\n",
              "         [ 5.0607e-02,  6.9848e-04, -2.5962e-02,  ...,  2.3024e-02,\n",
              "          -8.5982e-03,  4.4009e-02]],\n",
              "\n",
              "        ...,\n",
              "\n",
              "        [[ 4.5115e-02,  2.4435e-03, -3.1433e-02,  ...,  2.8137e-02,\n",
              "          -2.2790e-02,  3.6214e-02],\n",
              "         [ 4.6684e-02,  8.3545e-04, -2.9918e-02,  ...,  2.6156e-02,\n",
              "          -1.5037e-02,  4.3947e-02],\n",
              "         [ 4.8338e-02, -2.2201e-03, -2.8150e-02,  ...,  2.4009e-02,\n",
              "          -1.1106e-02,  4.4809e-02],\n",
              "         ...,\n",
              "         [ 4.8749e-02, -3.3556e-04, -2.6695e-02,  ...,  2.3255e-02,\n",
              "          -8.9726e-03,  4.3616e-02],\n",
              "         [ 4.8694e-02, -1.6678e-03, -2.7452e-02,  ...,  2.3226e-02,\n",
              "          -1.0604e-02,  4.2489e-02],\n",
              "         [ 4.8676e-02, -1.3299e-03, -2.8342e-02,  ...,  2.5546e-02,\n",
              "          -1.0810e-02,  4.3278e-02]],\n",
              "\n",
              "        [[ 4.6301e-02,  1.0301e-03, -3.2943e-02,  ...,  3.1117e-02,\n",
              "          -2.1808e-02,  3.7372e-02],\n",
              "         [ 4.7983e-02,  4.9548e-05, -3.1066e-02,  ...,  2.8043e-02,\n",
              "          -1.5100e-02,  4.1787e-02],\n",
              "         [ 4.9384e-02, -1.5680e-03, -2.9103e-02,  ...,  2.5663e-02,\n",
              "          -1.2113e-02,  4.3072e-02],\n",
              "         ...,\n",
              "         [ 4.8873e-02, -2.2781e-03, -2.8402e-02,  ...,  2.2017e-02,\n",
              "          -9.9869e-03,  4.2623e-02],\n",
              "         [ 4.6762e-02, -1.4495e-03, -2.7423e-02,  ...,  2.1931e-02,\n",
              "          -1.2629e-02,  4.2968e-02],\n",
              "         [ 4.6488e-02,  2.8013e-04, -2.7109e-02,  ...,  2.3024e-02,\n",
              "          -1.1255e-02,  4.5569e-02]],\n",
              "\n",
              "        [[ 4.6329e-02,  2.9185e-03, -2.9261e-02,  ...,  3.0189e-02,\n",
              "          -2.1572e-02,  3.7441e-02],\n",
              "         [ 4.9430e-02,  2.0541e-03, -2.7963e-02,  ...,  2.8006e-02,\n",
              "          -1.7519e-02,  4.2014e-02],\n",
              "         [ 4.9039e-02, -2.3684e-03, -2.6339e-02,  ...,  2.3663e-02,\n",
              "          -1.3914e-02,  4.5331e-02],\n",
              "         ...,\n",
              "         [ 5.4184e-02,  4.6996e-04, -2.7492e-02,  ...,  2.3061e-02,\n",
              "          -1.0182e-02,  4.7518e-02],\n",
              "         [ 5.3089e-02, -6.3443e-04, -2.7762e-02,  ...,  2.4703e-02,\n",
              "          -1.1685e-02,  4.6686e-02],\n",
              "         [ 5.1229e-02, -1.7820e-03, -2.7497e-02,  ...,  2.2612e-02,\n",
              "          -1.0102e-02,  4.7246e-02]]], grad_fn=<AddBackward0>)"
            ]
          },
          "metadata": {},
          "execution_count": 51
        }
      ]
    },
    {
      "cell_type": "markdown",
      "source": [
        "# **5. Config**"
      ],
      "metadata": {
        "id": "24qT-sgUO2-d"
      }
    },
    {
      "cell_type": "code",
      "source": [
        "device = 'cuda' if torch.cuda.is_available() else 'cpu'\n",
        "device"
      ],
      "metadata": {
        "id": "dQbHSUgPmDwz",
        "colab": {
          "base_uri": "https://localhost:8080/",
          "height": 162
        },
        "outputId": "7552b34a-97f1-46ea-c4c9-a7196b455ae8"
      },
      "execution_count": null,
      "outputs": [
        {
          "output_type": "execute_result",
          "data": {
            "text/plain": [
              "'cuda'"
            ],
            "application/vnd.google.colaboratory.intrinsic+json": {
              "type": "string"
            }
          },
          "metadata": {},
          "execution_count": 52
        }
      ]
    },
    {
      "cell_type": "code",
      "source": [
        "model = model.to(device)"
      ],
      "metadata": {
        "id": "j3dhszk7mu2T"
      },
      "execution_count": null,
      "outputs": []
    },
    {
      "cell_type": "code",
      "source": [
        "loss_fn = nn.CrossEntropyLoss()\n",
        "loss_fn"
      ],
      "metadata": {
        "id": "GM1eavDEm79_",
        "colab": {
          "base_uri": "https://localhost:8080/"
        },
        "outputId": "037e3a0c-626e-4dee-c39c-318c81a93db4"
      },
      "execution_count": null,
      "outputs": [
        {
          "output_type": "execute_result",
          "data": {
            "text/plain": [
              "CrossEntropyLoss()"
            ]
          },
          "metadata": {},
          "execution_count": 54
        }
      ]
    },
    {
      "cell_type": "code",
      "source": [
        "optimizer = optim.SGD(model.parameters(), lr=0.5, momentum=0.9, weight_decay=0, nesterov=True)\n",
        "optimizer"
      ],
      "metadata": {
        "id": "Ch7GNioxn8Pu",
        "colab": {
          "base_uri": "https://localhost:8080/"
        },
        "outputId": "a4638049-5fb3-417b-fe37-51469641d251"
      },
      "execution_count": null,
      "outputs": [
        {
          "output_type": "execute_result",
          "data": {
            "text/plain": [
              "SGD (\n",
              "Parameter Group 0\n",
              "    dampening: 0\n",
              "    differentiable: False\n",
              "    foreach: None\n",
              "    lr: 0.5\n",
              "    maximize: False\n",
              "    momentum: 0.9\n",
              "    nesterov: True\n",
              "    weight_decay: 0\n",
              ")"
            ]
          },
          "metadata": {},
          "execution_count": 55
        }
      ]
    },
    {
      "cell_type": "code",
      "source": [
        "metric = tm.text.Perplexity().to(device)\n",
        "metric"
      ],
      "metadata": {
        "id": "m1Bt9Cdgqitr",
        "colab": {
          "base_uri": "https://localhost:8080/"
        },
        "outputId": "1b942dd7-8cd9-4281-907a-2a7127ddba49"
      },
      "execution_count": null,
      "outputs": [
        {
          "output_type": "execute_result",
          "data": {
            "text/plain": [
              "Perplexity()"
            ]
          },
          "metadata": {},
          "execution_count": 56
        }
      ]
    },
    {
      "cell_type": "code",
      "source": [
        "clip = 0.25"
      ],
      "metadata": {
        "id": "xY3yI_A6kllH"
      },
      "execution_count": null,
      "outputs": []
    },
    {
      "cell_type": "markdown",
      "source": [
        "#  **6. Train**"
      ],
      "metadata": {
        "id": "W0QNbC0YPCKZ"
      }
    },
    {
      "cell_type": "code",
      "source": [
        "def train_one_epoch(model, train_loader, loss_fn, optimizer, metric, epoch=None):\n",
        "  model.train()\n",
        "  loss_train = AverageMeter()\n",
        "  metric.reset()\n",
        "\n",
        "  with tqdm.tqdm(train_loader, unit='batch') as tepoch:\n",
        "    for inputs, targets in tepoch:\n",
        "      if epoch is not None:\n",
        "        tepoch.set_description(f'Epoch {epoch}')\n",
        "\n",
        "      inputs = inputs.to(device)\n",
        "      targets = targets.to(device)\n",
        "\n",
        "      outputs = model(inputs)\n",
        "\n",
        "      # loss = loss_fn(outputs, targets)\n",
        "      loss = loss_fn(outputs.reshape(-1, outputs.shape[-1]), targets.flatten())\n",
        "      loss.backward()\n",
        "      nn.utils.clip_grad.clip_grad_norm_(model.parameters(), max_norm=clip)\n",
        "\n",
        "      optimizer.step()\n",
        "      optimizer.zero_grad()\n",
        "\n",
        "      loss_train.update(loss.item(), n=len(targets))\n",
        "      metric.update(outputs, targets)\n",
        "\n",
        "      tepoch.set_postfix(loss=loss_train.avg, metric=metric.compute().item())\n",
        "\n",
        "  return model, loss_train.avg, metric.compute().item()"
      ],
      "metadata": {
        "id": "gP8DtDfjoA3h"
      },
      "execution_count": null,
      "outputs": []
    },
    {
      "cell_type": "markdown",
      "source": [
        "#  **7. Evaluation**"
      ],
      "metadata": {
        "id": "G9HgVWslPGsH"
      }
    },
    {
      "cell_type": "code",
      "source": [
        "def evaluate(model, test_loader, loss_fn, metric):\n",
        "  model.eval()\n",
        "  loss_eval = AverageMeter()\n",
        "  metric.reset()\n",
        "\n",
        "  with torch.inference_mode():\n",
        "    for inputs, targets in test_loader:\n",
        "      inputs = inputs.to(device)\n",
        "      targets = targets.to(device)\n",
        "\n",
        "      outputs = model(inputs)\n",
        "\n",
        "      loss = loss_fn(outputs.reshape(-1, outputs.shape[-1]), targets.flatten())\n",
        "      loss_eval.update(loss.item(), n=len(targets))\n",
        "\n",
        "      metric(outputs, targets)\n",
        "\n",
        "  return loss_eval.avg, metric.compute().item()"
      ],
      "metadata": {
        "id": "FIdIy0agoKZs"
      },
      "execution_count": null,
      "outputs": []
    },
    {
      "cell_type": "markdown",
      "source": [
        "#  **8. Training Process**"
      ],
      "metadata": {
        "id": "o_5f69nwPtY2"
      }
    },
    {
      "cell_type": "markdown",
      "source": [
        "## **8-1. Finding Hyper-parameters**"
      ],
      "metadata": {
        "id": "De7VreNxQdct"
      }
    },
    {
      "cell_type": "markdown",
      "source": [
        "### 🟡 **Step 1:** Calculate the loss for an untrained model using a few batches.\n"
      ],
      "metadata": {
        "id": "lpJ3wtyctQJH"
      }
    },
    {
      "cell_type": "code",
      "source": [
        "model = LanguageModel(len(vocab), embedding_dim=300,\n",
        "                      hidden_dim=512, num_layers=2,\n",
        "                      dropout_embd=0.5, dropout_rnn=0.2).to(device)\n",
        "\n",
        "inputs, targets = next(iter(train_loader))\n",
        "\n",
        "inputs = inputs.to(device) #torch.Size([20, 35])\n",
        "targets = targets.to(device) #torch.Size([20, 35])\n",
        "\n",
        "with torch.no_grad():\n",
        "  outputs = model(inputs) #torch.Size([20, 35, 28782])\n",
        "\n",
        "  # loss = loss_fn(outputs, targets)\n",
        "  loss = loss_fn(outputs.reshape(-1, outputs.shape[-1]), targets.flatten()) # (torch.Size([700, 28782]) , torch.Size([700]))\n",
        "\n",
        "print(loss)"
      ],
      "metadata": {
        "colab": {
          "base_uri": "https://localhost:8080/"
        },
        "id": "NJWR05DTPR5P",
        "outputId": "e3a61197-0c13-4498-e117-3f642c0fe427"
      },
      "execution_count": null,
      "outputs": [
        {
          "output_type": "stream",
          "name": "stdout",
          "text": [
            "tensor(10.2699)\n"
          ]
        }
      ]
    },
    {
      "cell_type": "code",
      "source": [
        "torch.cuda.empty_cache()"
      ],
      "metadata": {
        "id": "yQdU4IJKK3_7"
      },
      "execution_count": null,
      "outputs": []
    },
    {
      "cell_type": "markdown",
      "source": [
        "### 🟡 **Step 2:** Try to train and overfit the model on a small subset of the dataset."
      ],
      "metadata": {
        "id": "BrHQCv7q7LF_"
      }
    },
    {
      "cell_type": "code",
      "source": [
        "model = LanguageModel(len(vocab), embedding_dim=300,\n",
        "                      hidden_dim=512, num_layers=2,\n",
        "                      dropout_embd=0.5, dropout_rnn=0.2).to(device)\n",
        "\n",
        "optimizer = torch.optim.SGD(model.parameters(), lr=0.9, momentum=0.9)"
      ],
      "metadata": {
        "id": "xFsEI6iWncmX"
      },
      "execution_count": null,
      "outputs": []
    },
    {
      "cell_type": "code",
      "source": [
        "mini_train_size = 1000\n",
        "_, mini_train_dataset = random_split(train_set, (len(train_set)-mini_train_size, mini_train_size))\n",
        "mini_train_loader = DataLoader(mini_train_dataset, 20)"
      ],
      "metadata": {
        "id": "IJvfCFW9LMCe"
      },
      "execution_count": null,
      "outputs": []
    },
    {
      "cell_type": "code",
      "source": [
        "num_epochs = 40\n",
        "for epoch in range(num_epochs):\n",
        "  model, _, _ = train_one_epoch(model, mini_train_loader, loss_fn, optimizer, metric, epoch)"
      ],
      "metadata": {
        "id": "DFU1vINBr5Du",
        "colab": {
          "base_uri": "https://localhost:8080/"
        },
        "outputId": "d5b2ba77-c4d0-4493-ce83-990916ff4165"
      },
      "execution_count": null,
      "outputs": [
        {
          "output_type": "stream",
          "name": "stderr",
          "text": [
            "Epoch 0: 100%|██████████| 50/50 [01:50<00:00,  2.21s/batch, loss=3.53, metric=34]\n",
            "Epoch 1: 100%|██████████| 50/50 [01:41<00:00,  2.03s/batch, loss=3.4, metric=30]\n",
            "Epoch 2: 100%|██████████| 50/50 [01:41<00:00,  2.04s/batch, loss=3.28, metric=26.5]\n",
            "Epoch 3: 100%|██████████| 50/50 [01:38<00:00,  1.98s/batch, loss=3.17, metric=23.8]\n",
            "Epoch 4: 100%|██████████| 50/50 [01:40<00:00,  2.02s/batch, loss=3.04, metric=20.9]\n",
            "Epoch 5: 100%|██████████| 50/50 [01:39<00:00,  1.98s/batch, loss=2.93, metric=18.7]\n",
            "Epoch 6: 100%|██████████| 50/50 [01:40<00:00,  2.02s/batch, loss=2.83, metric=16.9]\n",
            "Epoch 7: 100%|██████████| 50/50 [01:40<00:00,  2.01s/batch, loss=2.75, metric=15.7]\n",
            "Epoch 8: 100%|██████████| 50/50 [01:39<00:00,  1.99s/batch, loss=2.68, metric=14.5]\n",
            "Epoch 9: 100%|██████████| 50/50 [01:40<00:00,  2.02s/batch, loss=2.61, metric=13.6]\n",
            "Epoch 10: 100%|██████████| 50/50 [01:38<00:00,  1.97s/batch, loss=2.5, metric=12.1]\n",
            "Epoch 11: 100%|██████████| 50/50 [01:47<00:00,  2.15s/batch, loss=2.37, metric=10.7]\n",
            "Epoch 12: 100%|██████████| 50/50 [01:41<00:00,  2.02s/batch, loss=2.25, metric=9.48]\n",
            "Epoch 13: 100%|██████████| 50/50 [01:40<00:00,  2.01s/batch, loss=2.14, metric=8.53]\n",
            "Epoch 14: 100%|██████████| 50/50 [01:40<00:00,  2.00s/batch, loss=2.07, metric=7.91]\n",
            "Epoch 15: 100%|██████████| 50/50 [01:52<00:00,  2.25s/batch, loss=2.01, metric=7.44]\n",
            "Epoch 16: 100%|██████████| 50/50 [01:39<00:00,  1.99s/batch, loss=1.95, metric=7.01]\n",
            "Epoch 17: 100%|██████████| 50/50 [01:41<00:00,  2.02s/batch, loss=1.86, metric=6.41]\n",
            "Epoch 18: 100%|██████████| 50/50 [01:39<00:00,  1.98s/batch, loss=1.77, metric=5.87]\n",
            "Epoch 19: 100%|██████████| 50/50 [01:40<00:00,  2.02s/batch, loss=1.69, metric=5.41]\n"
          ]
        }
      ]
    },
    {
      "cell_type": "markdown",
      "source": [
        "### 🟡 **Step 3:** Train the model for a limited number of epochs, experimenting with various learning rates.\n",
        "The one with largest decrease is the best"
      ],
      "metadata": {
        "id": "BLT4w0ZfAhlJ"
      }
    },
    {
      "cell_type": "code",
      "source": [
        "num_epochs = 3\n",
        "\n",
        "for lr in [6, 2, 0.9, 0.3, 0.09]:\n",
        "  print(f'LR={lr}')\n",
        "\n",
        "  model = LanguageModel(len(vocab), embedding_dim=300,\n",
        "                      hidden_dim=512, num_layers=2,\n",
        "                      dropout_embd=0.5, dropout_rnn=0.2).to(device)\n",
        "  # model = torch.load('/content/model-ppl_147.pt')\n",
        "\n",
        "  optimizer = optim.SGD(model.parameters(), lr=lr, weight_decay=1e-6, momentum=0.9)\n",
        "\n",
        "  for epoch in range(num_epochs):\n",
        "    model, _, _ = train_one_epoch(model, train_loader, loss_fn, optimizer, metric, epoch)\n",
        "\n",
        "  print()"
      ],
      "metadata": {
        "id": "I1HOn93qgG0g",
        "colab": {
          "base_uri": "https://localhost:8080/"
        },
        "outputId": "dff3055a-2d40-487c-8ebe-abfa3f259455"
      },
      "execution_count": null,
      "outputs": [
        {
          "output_type": "stream",
          "name": "stdout",
          "text": [
            "LR=6\n"
          ]
        },
        {
          "output_type": "stream",
          "name": "stderr",
          "text": [
            "Epoch 0: 100%|██████████| 2929/2929 [01:53<00:00, 25.80batch/s, loss=5.84, metric=344]\n",
            "Epoch 1: 100%|██████████| 2929/2929 [01:53<00:00, 25.77batch/s, loss=5.33, metric=206]\n",
            "Epoch 2: 100%|██████████| 2929/2929 [01:54<00:00, 25.62batch/s, loss=5.16, metric=174]\n"
          ]
        },
        {
          "output_type": "stream",
          "name": "stdout",
          "text": [
            "\n",
            "LR=2\n"
          ]
        },
        {
          "output_type": "stream",
          "name": "stderr",
          "text": [
            "Epoch 0: 100%|██████████| 2929/2929 [01:53<00:00, 25.79batch/s, loss=5.98, metric=394]\n",
            "Epoch 1: 100%|██████████| 2929/2929 [01:55<00:00, 25.36batch/s, loss=5.29, metric=198]\n",
            "Epoch 2: 100%|██████████| 2929/2929 [01:53<00:00, 25.71batch/s, loss=4.99, metric=146]\n"
          ]
        },
        {
          "output_type": "stream",
          "name": "stdout",
          "text": [
            "\n",
            "LR=0.9\n"
          ]
        },
        {
          "output_type": "stream",
          "name": "stderr",
          "text": [
            "Epoch 0: 100%|██████████| 2929/2929 [01:53<00:00, 25.77batch/s, loss=6.19, metric=486]\n",
            "Epoch 1: 100%|██████████| 2929/2929 [01:53<00:00, 25.79batch/s, loss=5.51, metric=247]\n",
            "Epoch 2: 100%|██████████| 2929/2929 [01:53<00:00, 25.77batch/s, loss=5.21, metric=183]\n"
          ]
        },
        {
          "output_type": "stream",
          "name": "stdout",
          "text": [
            "\n",
            "LR=0.3\n"
          ]
        },
        {
          "output_type": "stream",
          "name": "stderr",
          "text": [
            "Epoch 0: 100%|██████████| 2929/2929 [01:53<00:00, 25.77batch/s, loss=6.64, metric=761]\n",
            "Epoch 1: 100%|██████████| 2929/2929 [01:53<00:00, 25.86batch/s, loss=6.01, metric=408]\n",
            "Epoch 2: 100%|██████████| 2929/2929 [01:53<00:00, 25.79batch/s, loss=5.76, metric=316]\n"
          ]
        },
        {
          "output_type": "stream",
          "name": "stdout",
          "text": [
            "\n",
            "LR=0.09\n"
          ]
        },
        {
          "output_type": "stream",
          "name": "stderr",
          "text": [
            "Epoch 0: 100%|██████████| 2929/2929 [01:53<00:00, 25.89batch/s, loss=7.08, metric=1.19e+3]\n",
            "Epoch 1: 100%|██████████| 2929/2929 [01:53<00:00, 25.82batch/s, loss=6.7, metric=809]\n",
            "Epoch 2: 100%|██████████| 2929/2929 [01:53<00:00, 25.82batch/s, loss=6.44, metric=623]"
          ]
        },
        {
          "output_type": "stream",
          "name": "stdout",
          "text": [
            "\n"
          ]
        },
        {
          "output_type": "stream",
          "name": "stderr",
          "text": [
            "\n"
          ]
        }
      ]
    },
    {
      "cell_type": "markdown",
      "source": [
        "### 🟡 **Step 4**: Create a small grid using the weight decay and the best learning rate.\n",
        "\n",
        "\n",
        "\n"
      ],
      "metadata": {
        "id": "uC2GhaXfA8vC"
      }
    },
    {
      "cell_type": "code",
      "source": [
        "num_epochs = 3\n",
        "\n",
        "for lr in [1., 2., 3. , 4.]:\n",
        "  for wd in [1e-6, 1e-4, 1e-5]:\n",
        "    print(f'LR={lr}, WD={wd}')\n",
        "\n",
        "    model = LanguageModel(len(vocab), embedding_dim=300,\n",
        "                      hidden_dim=512, num_layers=2,\n",
        "                      dropout_embd=0.5, dropout_rnn=0.2).to(device)\n",
        "\n",
        "    optimizer = optim.SGD(model.parameters(), lr=lr, weight_decay=wd, momentum=0.9)\n",
        "\n",
        "    for epoch in range(num_epochs):\n",
        "      model, _, _ = train_one_epoch(model, train_loader, loss_fn, optimizer, metric, epoch)\n",
        "\n",
        "    print()"
      ],
      "metadata": {
        "id": "yIta-JKgA7-I",
        "colab": {
          "base_uri": "https://localhost:8080/"
        },
        "outputId": "b8ef59f9-9eff-46c6-8ce5-5649576f3f7c"
      },
      "execution_count": null,
      "outputs": [
        {
          "output_type": "stream",
          "name": "stdout",
          "text": [
            "LR=1.0, WD=1e-06\n"
          ]
        },
        {
          "output_type": "stream",
          "name": "stderr",
          "text": [
            "Epoch 0: 100%|██████████| 2929/2929 [01:54<00:00, 25.48batch/s, loss=6.16, metric=473]\n",
            "Epoch 1: 100%|██████████| 2929/2929 [01:53<00:00, 25.83batch/s, loss=5.48, metric=240]\n",
            "Epoch 2: 100%|██████████| 2929/2929 [01:53<00:00, 25.73batch/s, loss=5.17, metric=177]\n"
          ]
        },
        {
          "output_type": "stream",
          "name": "stdout",
          "text": [
            "\n",
            "LR=1.0, WD=0.0001\n"
          ]
        },
        {
          "output_type": "stream",
          "name": "stderr",
          "text": [
            "Epoch 0: 100%|██████████| 2929/2929 [01:53<00:00, 25.88batch/s, loss=6.34, metric=565]\n",
            "Epoch 1: 100%|██████████| 2929/2929 [01:53<00:00, 25.89batch/s, loss=5.97, metric=393]\n",
            "Epoch 2: 100%|██████████| 2929/2929 [01:53<00:00, 25.86batch/s, loss=5.92, metric=372]\n"
          ]
        },
        {
          "output_type": "stream",
          "name": "stdout",
          "text": [
            "\n",
            "LR=1.0, WD=1e-05\n"
          ]
        },
        {
          "output_type": "stream",
          "name": "stderr",
          "text": [
            "Epoch 0: 100%|██████████| 2929/2929 [01:53<00:00, 25.82batch/s, loss=6.16, metric=475]\n",
            "Epoch 1: 100%|██████████| 2929/2929 [01:53<00:00, 25.80batch/s, loss=5.52, metric=249]\n",
            "Epoch 2: 100%|██████████| 2929/2929 [01:53<00:00, 25.74batch/s, loss=5.26, metric=192]\n"
          ]
        },
        {
          "output_type": "stream",
          "name": "stdout",
          "text": [
            "\n",
            "LR=2.0, WD=1e-06\n"
          ]
        },
        {
          "output_type": "stream",
          "name": "stderr",
          "text": [
            "Epoch 0: 100%|██████████| 2929/2929 [01:53<00:00, 25.80batch/s, loss=5.97, metric=392]\n",
            "Epoch 1: 100%|██████████| 2929/2929 [01:53<00:00, 25.83batch/s, loss=5.3, metric=200]\n",
            "Epoch 2: 100%|██████████| 2929/2929 [01:53<00:00, 25.77batch/s, loss=4.99, metric=148]\n"
          ]
        },
        {
          "output_type": "stream",
          "name": "stdout",
          "text": [
            "\n",
            "LR=2.0, WD=0.0001\n"
          ]
        },
        {
          "output_type": "stream",
          "name": "stderr",
          "text": [
            "Epoch 0: 100%|██████████| 2929/2929 [01:53<00:00, 25.84batch/s, loss=6.27, metric=527]\n",
            "Epoch 1: 100%|██████████| 2929/2929 [01:53<00:00, 25.89batch/s, loss=6.01, metric=408]\n",
            "Epoch 2: 100%|██████████| 2929/2929 [01:53<00:00, 25.91batch/s, loss=5.99, metric=398]\n"
          ]
        },
        {
          "output_type": "stream",
          "name": "stdout",
          "text": [
            "\n",
            "LR=2.0, WD=1e-05\n"
          ]
        },
        {
          "output_type": "stream",
          "name": "stderr",
          "text": [
            "Epoch 0: 100%|██████████| 2929/2929 [01:53<00:00, 25.75batch/s, loss=5.98, metric=396]\n",
            "Epoch 1: 100%|██████████| 2929/2929 [01:53<00:00, 25.80batch/s, loss=5.37, metric=215]\n",
            "Epoch 2: 100%|██████████| 2929/2929 [01:53<00:00, 25.80batch/s, loss=5.15, metric=172]\n"
          ]
        },
        {
          "output_type": "stream",
          "name": "stdout",
          "text": [
            "\n",
            "LR=3.0, WD=1e-06\n"
          ]
        },
        {
          "output_type": "stream",
          "name": "stderr",
          "text": [
            "Epoch 0: 100%|██████████| 2929/2929 [01:54<00:00, 25.64batch/s, loss=5.89, metric=360]\n",
            "Epoch 1: 100%|██████████| 2929/2929 [01:55<00:00, 25.46batch/s, loss=5.25, metric=190]\n",
            "Epoch 2: 100%|██████████| 2929/2929 [01:54<00:00, 25.56batch/s, loss=4.97, metric=144]\n"
          ]
        },
        {
          "output_type": "stream",
          "name": "stdout",
          "text": [
            "\n",
            "LR=3.0, WD=0.0001\n"
          ]
        },
        {
          "output_type": "stream",
          "name": "stderr",
          "text": [
            "Epoch 0: 100%|██████████| 2929/2929 [01:53<00:00, 25.78batch/s, loss=6.27, metric=530]\n",
            "Epoch 1: 100%|██████████| 2929/2929 [01:53<00:00, 25.84batch/s, loss=6.08, metric=435]\n",
            "Epoch 2: 100%|██████████| 2929/2929 [01:53<00:00, 25.84batch/s, loss=6.06, metric=428]\n"
          ]
        },
        {
          "output_type": "stream",
          "name": "stdout",
          "text": [
            "\n",
            "LR=3.0, WD=1e-05\n"
          ]
        },
        {
          "output_type": "stream",
          "name": "stderr",
          "text": [
            "Epoch 0: 100%|██████████| 2929/2929 [01:53<00:00, 25.85batch/s, loss=5.93, metric=374]\n",
            "Epoch 1: 100%|██████████| 2929/2929 [01:53<00:00, 25.77batch/s, loss=5.37, metric=214]\n",
            "Epoch 2: 100%|██████████| 2929/2929 [01:53<00:00, 25.83batch/s, loss=5.18, metric=177]\n"
          ]
        },
        {
          "output_type": "stream",
          "name": "stdout",
          "text": [
            "\n",
            "LR=4.0, WD=1e-06\n"
          ]
        },
        {
          "output_type": "stream",
          "name": "stderr",
          "text": [
            "Epoch 0: 100%|██████████| 2929/2929 [01:53<00:00, 25.77batch/s, loss=5.86, metric=352]\n",
            "Epoch 1: 100%|██████████| 2929/2929 [01:53<00:00, 25.77batch/s, loss=5.26, metric=192]\n",
            "Epoch 2: 100%|██████████| 2929/2929 [01:54<00:00, 25.68batch/s, loss=5.03, metric=153]\n"
          ]
        },
        {
          "output_type": "stream",
          "name": "stdout",
          "text": [
            "\n",
            "LR=4.0, WD=0.0001\n"
          ]
        },
        {
          "output_type": "stream",
          "name": "stderr",
          "text": [
            "Epoch 0: 100%|██████████| 2929/2929 [01:53<00:00, 25.77batch/s, loss=6.3, metric=547]\n",
            "Epoch 1: 100%|██████████| 2929/2929 [01:53<00:00, 25.71batch/s, loss=6.15, metric=467]\n",
            "Epoch 2: 100%|██████████| 2929/2929 [01:54<00:00, 25.62batch/s, loss=6.13, metric=459]\n"
          ]
        },
        {
          "output_type": "stream",
          "name": "stdout",
          "text": [
            "\n",
            "LR=4.0, WD=1e-05\n"
          ]
        },
        {
          "output_type": "stream",
          "name": "stderr",
          "text": [
            "Epoch 0: 100%|██████████| 2929/2929 [01:53<00:00, 25.77batch/s, loss=5.92, metric=371]\n",
            "Epoch 1: 100%|██████████| 2929/2929 [01:53<00:00, 25.73batch/s, loss=5.41, metric=224]\n",
            "Epoch 2: 100%|██████████| 2929/2929 [01:59<00:00, 24.53batch/s, loss=5.26, metric=192]"
          ]
        },
        {
          "output_type": "stream",
          "name": "stdout",
          "text": [
            "\n"
          ]
        },
        {
          "output_type": "stream",
          "name": "stderr",
          "text": [
            "\n"
          ]
        }
      ]
    },
    {
      "cell_type": "markdown",
      "source": [
        "### 🟡 **Step 5**: **Train ALL** Train model for longer epochs using the best model from step 4.\n",
        "\n",
        "\n",
        "\n"
      ],
      "metadata": {
        "id": "Mjd9Z3N1ef3I"
      }
    },
    {
      "cell_type": "markdown",
      "source": [
        "We write model and optimizer in different cells. So after 10 epoch if we want to change the learning rate and continue runnig the code, we could just change the optimizer and run that cell again not model cell. Because if we run the model cell too, the model would reset."
      ],
      "metadata": {
        "id": "PNsolKf3ikxL"
      }
    },
    {
      "cell_type": "markdown",
      "source": [
        "#### **First_Try**"
      ],
      "metadata": {
        "id": "Yem0L2C_jy9D"
      }
    },
    {
      "cell_type": "code",
      "source": [
        "model = LanguageModel(len(vocab), embedding_dim=300,\n",
        "                      hidden_dim=512, num_layers=2,\n",
        "                      dropout_embd=0.5, dropout_rnn=0.2).to(device)"
      ],
      "metadata": {
        "id": "ds6guyyFL-Bs"
      },
      "execution_count": null,
      "outputs": []
    },
    {
      "cell_type": "code",
      "source": [
        "# model = torch.load('/content/model-ppl_133.pt')"
      ],
      "metadata": {
        "id": "cbA6TY2HI4Sh"
      },
      "execution_count": null,
      "outputs": []
    },
    {
      "cell_type": "code",
      "source": [
        "lr = 3.0\n",
        "wd = 1e-06\n",
        "optimizer = optim.SGD(model.parameters(), lr=lr, weight_decay=wd, momentum=0.9)"
      ],
      "metadata": {
        "id": "8yLdn2lzL-Bt"
      },
      "execution_count": null,
      "outputs": []
    },
    {
      "cell_type": "code",
      "source": [
        "loss_train_hist = []\n",
        "loss_valid_hist = []\n",
        "\n",
        "metric_train_hist = []\n",
        "metric_valid_hist = []\n",
        "\n",
        "best_loss_valid = torch.inf\n",
        "epoch_counter = 0"
      ],
      "metadata": {
        "id": "hfFLRPXlWaPv"
      },
      "execution_count": null,
      "outputs": []
    },
    {
      "cell_type": "code",
      "source": [
        "num_epochs = 30\n",
        "\n",
        "for epoch in range(num_epochs):\n",
        "  # Train\n",
        "  model, loss_train, metric_train = train_one_epoch(model,\n",
        "                                                    train_loader,\n",
        "                                                    loss_fn,\n",
        "                                                    optimizer,\n",
        "                                                    metric,\n",
        "                                                    epoch)\n",
        "  # Validation\n",
        "  loss_valid, metric_valid = evaluate(model,\n",
        "                                      valid_loader,\n",
        "                                      loss_fn,\n",
        "                                      metric)\n",
        "\n",
        "  loss_train_hist.append(loss_train)\n",
        "  loss_valid_hist.append(loss_valid)\n",
        "\n",
        "  metric_train_hist.append(metric_train)\n",
        "  metric_valid_hist.append(metric_valid)\n",
        "\n",
        "  if loss_valid < best_loss_valid:\n",
        "    torch.save(model, f'model_{epoch}.pt')\n",
        "    best_loss_valid = loss_valid\n",
        "    print('Model Saved!')\n",
        "\n",
        "  print(f'Valid: Loss = {loss_valid:.4}, Metric = {metric_valid:.4}')\n",
        "  print()\n",
        "\n",
        "  epoch_counter += 1"
      ],
      "metadata": {
        "id": "X-ryJomXL-Bv",
        "colab": {
          "base_uri": "https://localhost:8080/",
          "height": 1000
        },
        "outputId": "139f0319-55d7-46e7-fbfc-c9993a48ef5e"
      },
      "execution_count": null,
      "outputs": [
        {
          "output_type": "stream",
          "name": "stderr",
          "text": [
            "Epoch 0: 100%|██████████| 2929/2929 [01:54<00:00, 25.58batch/s, loss=5.88, metric=359]\n"
          ]
        },
        {
          "output_type": "stream",
          "name": "stdout",
          "text": [
            "Model Saved!\n",
            "Valid: Loss = 5.323, Metric = 205.1\n",
            "\n"
          ]
        },
        {
          "output_type": "stream",
          "name": "stderr",
          "text": [
            "Epoch 1: 100%|██████████| 2929/2929 [01:54<00:00, 25.65batch/s, loss=5.24, metric=188]\n"
          ]
        },
        {
          "output_type": "stream",
          "name": "stdout",
          "text": [
            "Model Saved!\n",
            "Valid: Loss = 5.103, Metric = 164.4\n",
            "\n"
          ]
        },
        {
          "output_type": "stream",
          "name": "stderr",
          "text": [
            "Epoch 2: 100%|██████████| 2929/2929 [01:54<00:00, 25.69batch/s, loss=4.97, metric=143]\n"
          ]
        },
        {
          "output_type": "stream",
          "name": "stdout",
          "text": [
            "Model Saved!\n",
            "Valid: Loss = 5.015, Metric = 150.7\n",
            "\n"
          ]
        },
        {
          "output_type": "stream",
          "name": "stderr",
          "text": [
            "Epoch 3: 100%|██████████| 2929/2929 [01:54<00:00, 25.62batch/s, loss=4.79, metric=120]\n"
          ]
        },
        {
          "output_type": "stream",
          "name": "stdout",
          "text": [
            "Model Saved!\n",
            "Valid: Loss = 4.977, Metric = 145.1\n",
            "\n"
          ]
        },
        {
          "output_type": "stream",
          "name": "stderr",
          "text": [
            "Epoch 4: 100%|██████████| 2929/2929 [01:54<00:00, 25.61batch/s, loss=4.66, metric=106]\n"
          ]
        },
        {
          "output_type": "stream",
          "name": "stdout",
          "text": [
            "Model Saved!\n",
            "Valid: Loss = 4.969, Metric = 143.9\n",
            "\n"
          ]
        },
        {
          "output_type": "stream",
          "name": "stderr",
          "text": [
            "Epoch 5: 100%|██████████| 2929/2929 [01:54<00:00, 25.59batch/s, loss=4.56, metric=95.7]\n"
          ]
        },
        {
          "output_type": "stream",
          "name": "stdout",
          "text": [
            "Model Saved!\n",
            "Valid: Loss = 4.967, Metric = 143.6\n",
            "\n"
          ]
        },
        {
          "output_type": "stream",
          "name": "stderr",
          "text": [
            "Epoch 6: 100%|██████████| 2929/2929 [01:54<00:00, 25.68batch/s, loss=4.48, metric=88.5]\n"
          ]
        },
        {
          "output_type": "stream",
          "name": "stdout",
          "text": [
            "Valid: Loss = 4.967, Metric = 143.6\n",
            "\n"
          ]
        },
        {
          "output_type": "stream",
          "name": "stderr",
          "text": [
            "Epoch 7: 100%|██████████| 2929/2929 [01:54<00:00, 25.63batch/s, loss=4.42, metric=83.2]\n"
          ]
        },
        {
          "output_type": "stream",
          "name": "stdout",
          "text": [
            "Valid: Loss = 4.968, Metric = 143.7\n",
            "\n"
          ]
        },
        {
          "output_type": "stream",
          "name": "stderr",
          "text": [
            "Epoch 8: 100%|██████████| 2929/2929 [01:53<00:00, 25.75batch/s, loss=4.37, metric=78.9]\n"
          ]
        },
        {
          "output_type": "stream",
          "name": "stdout",
          "text": [
            "Valid: Loss = 4.983, Metric = 146.0\n",
            "\n"
          ]
        },
        {
          "output_type": "stream",
          "name": "stderr",
          "text": [
            "Epoch 9: 100%|██████████| 2929/2929 [01:54<00:00, 25.68batch/s, loss=4.32, metric=75.3]\n"
          ]
        },
        {
          "output_type": "stream",
          "name": "stdout",
          "text": [
            "Valid: Loss = 4.984, Metric = 146.0\n",
            "\n"
          ]
        },
        {
          "output_type": "stream",
          "name": "stderr",
          "text": [
            "Epoch 10: 100%|██████████| 2929/2929 [01:53<00:00, 25.73batch/s, loss=4.28, metric=72.4]\n"
          ]
        },
        {
          "output_type": "stream",
          "name": "stdout",
          "text": [
            "Valid: Loss = 5.003, Metric = 148.8\n",
            "\n"
          ]
        },
        {
          "output_type": "stream",
          "name": "stderr",
          "text": [
            "Epoch 11: 100%|██████████| 2929/2929 [01:53<00:00, 25.74batch/s, loss=4.25, metric=70]\n"
          ]
        },
        {
          "output_type": "stream",
          "name": "stdout",
          "text": [
            "Valid: Loss = 5.0, Metric = 148.4\n",
            "\n"
          ]
        },
        {
          "output_type": "stream",
          "name": "stderr",
          "text": [
            "Epoch 12: 100%|██████████| 2929/2929 [01:53<00:00, 25.77batch/s, loss=4.22, metric=67.8]\n"
          ]
        },
        {
          "output_type": "stream",
          "name": "stdout",
          "text": [
            "Valid: Loss = 5.0, Metric = 148.4\n",
            "\n"
          ]
        },
        {
          "output_type": "stream",
          "name": "stderr",
          "text": [
            "Epoch 13: 100%|██████████| 2929/2929 [01:54<00:00, 25.63batch/s, loss=4.19, metric=66]\n"
          ]
        },
        {
          "output_type": "stream",
          "name": "stdout",
          "text": [
            "Valid: Loss = 5.016, Metric = 150.8\n",
            "\n"
          ]
        },
        {
          "output_type": "stream",
          "name": "stderr",
          "text": [
            "Epoch 14: 100%|██████████| 2929/2929 [01:58<00:00, 24.71batch/s, loss=4.17, metric=64.5]\n"
          ]
        },
        {
          "output_type": "stream",
          "name": "stdout",
          "text": [
            "Valid: Loss = 5.025, Metric = 152.2\n",
            "\n"
          ]
        },
        {
          "output_type": "stream",
          "name": "stderr",
          "text": [
            "Epoch 15:   4%|▍         | 121/2929 [00:04<01:54, 24.55batch/s, loss=4.01, metric=55.1]\n"
          ]
        },
        {
          "output_type": "error",
          "ename": "KeyboardInterrupt",
          "evalue": "ignored",
          "traceback": [
            "\u001b[0;31m---------------------------------------------------------------------------\u001b[0m",
            "\u001b[0;31mKeyboardInterrupt\u001b[0m                         Traceback (most recent call last)",
            "\u001b[0;32m<ipython-input-66-7ff16dc6789c>\u001b[0m in \u001b[0;36m<cell line: 3>\u001b[0;34m()\u001b[0m\n\u001b[1;32m      3\u001b[0m \u001b[0;32mfor\u001b[0m \u001b[0mepoch\u001b[0m \u001b[0;32min\u001b[0m \u001b[0mrange\u001b[0m\u001b[0;34m(\u001b[0m\u001b[0mnum_epochs\u001b[0m\u001b[0;34m)\u001b[0m\u001b[0;34m:\u001b[0m\u001b[0;34m\u001b[0m\u001b[0;34m\u001b[0m\u001b[0m\n\u001b[1;32m      4\u001b[0m   \u001b[0;31m# Train\u001b[0m\u001b[0;34m\u001b[0m\u001b[0;34m\u001b[0m\u001b[0m\n\u001b[0;32m----> 5\u001b[0;31m   model, loss_train, metric_train = train_one_epoch(model,\n\u001b[0m\u001b[1;32m      6\u001b[0m                                                     \u001b[0mtrain_loader\u001b[0m\u001b[0;34m,\u001b[0m\u001b[0;34m\u001b[0m\u001b[0;34m\u001b[0m\u001b[0m\n\u001b[1;32m      7\u001b[0m                                                     \u001b[0mloss_fn\u001b[0m\u001b[0;34m,\u001b[0m\u001b[0;34m\u001b[0m\u001b[0;34m\u001b[0m\u001b[0m\n",
            "\u001b[0;32m<ipython-input-58-fb52e9e0d0d7>\u001b[0m in \u001b[0;36mtrain_one_epoch\u001b[0;34m(model, train_loader, loss_fn, optimizer, metric, epoch)\u001b[0m\n\u001b[1;32m     17\u001b[0m       \u001b[0mloss\u001b[0m \u001b[0;34m=\u001b[0m \u001b[0mloss_fn\u001b[0m\u001b[0;34m(\u001b[0m\u001b[0moutputs\u001b[0m\u001b[0;34m.\u001b[0m\u001b[0mreshape\u001b[0m\u001b[0;34m(\u001b[0m\u001b[0;34m-\u001b[0m\u001b[0;36m1\u001b[0m\u001b[0;34m,\u001b[0m \u001b[0moutputs\u001b[0m\u001b[0;34m.\u001b[0m\u001b[0mshape\u001b[0m\u001b[0;34m[\u001b[0m\u001b[0;34m-\u001b[0m\u001b[0;36m1\u001b[0m\u001b[0;34m]\u001b[0m\u001b[0;34m)\u001b[0m\u001b[0;34m,\u001b[0m \u001b[0mtargets\u001b[0m\u001b[0;34m.\u001b[0m\u001b[0mflatten\u001b[0m\u001b[0;34m(\u001b[0m\u001b[0;34m)\u001b[0m\u001b[0;34m)\u001b[0m\u001b[0;34m\u001b[0m\u001b[0;34m\u001b[0m\u001b[0m\n\u001b[1;32m     18\u001b[0m       \u001b[0mloss\u001b[0m\u001b[0;34m.\u001b[0m\u001b[0mbackward\u001b[0m\u001b[0;34m(\u001b[0m\u001b[0;34m)\u001b[0m\u001b[0;34m\u001b[0m\u001b[0;34m\u001b[0m\u001b[0m\n\u001b[0;32m---> 19\u001b[0;31m       \u001b[0mnn\u001b[0m\u001b[0;34m.\u001b[0m\u001b[0mutils\u001b[0m\u001b[0;34m.\u001b[0m\u001b[0mclip_grad\u001b[0m\u001b[0;34m.\u001b[0m\u001b[0mclip_grad_norm_\u001b[0m\u001b[0;34m(\u001b[0m\u001b[0mmodel\u001b[0m\u001b[0;34m.\u001b[0m\u001b[0mparameters\u001b[0m\u001b[0;34m(\u001b[0m\u001b[0;34m)\u001b[0m\u001b[0;34m,\u001b[0m \u001b[0mmax_norm\u001b[0m\u001b[0;34m=\u001b[0m\u001b[0mclip\u001b[0m\u001b[0;34m)\u001b[0m\u001b[0;34m\u001b[0m\u001b[0;34m\u001b[0m\u001b[0m\n\u001b[0m\u001b[1;32m     20\u001b[0m \u001b[0;34m\u001b[0m\u001b[0m\n\u001b[1;32m     21\u001b[0m       \u001b[0moptimizer\u001b[0m\u001b[0;34m.\u001b[0m\u001b[0mstep\u001b[0m\u001b[0;34m(\u001b[0m\u001b[0;34m)\u001b[0m\u001b[0;34m\u001b[0m\u001b[0;34m\u001b[0m\u001b[0m\n",
            "\u001b[0;32m/usr/local/lib/python3.10/dist-packages/torch/nn/utils/clip_grad.py\u001b[0m in \u001b[0;36mclip_grad_norm_\u001b[0;34m(parameters, max_norm, norm_type, error_if_nonfinite, foreach)\u001b[0m\n\u001b[1;32m     74\u001b[0m     \u001b[0;32mfor\u001b[0m \u001b[0;34m(\u001b[0m\u001b[0;34m(\u001b[0m\u001b[0mdevice\u001b[0m\u001b[0;34m,\u001b[0m \u001b[0m_\u001b[0m\u001b[0;34m)\u001b[0m\u001b[0;34m,\u001b[0m \u001b[0;34m[\u001b[0m\u001b[0mgrads\u001b[0m\u001b[0;34m]\u001b[0m\u001b[0;34m)\u001b[0m \u001b[0;32min\u001b[0m \u001b[0mgrouped_grads\u001b[0m\u001b[0;34m.\u001b[0m\u001b[0mitems\u001b[0m\u001b[0;34m(\u001b[0m\u001b[0;34m)\u001b[0m\u001b[0;34m:\u001b[0m\u001b[0;34m\u001b[0m\u001b[0;34m\u001b[0m\u001b[0m\n\u001b[1;32m     75\u001b[0m         \u001b[0;32mif\u001b[0m \u001b[0;34m(\u001b[0m\u001b[0mforeach\u001b[0m \u001b[0;32mis\u001b[0m \u001b[0;32mNone\u001b[0m \u001b[0;32mor\u001b[0m \u001b[0mforeach\u001b[0m\u001b[0;34m)\u001b[0m \u001b[0;32mand\u001b[0m \u001b[0m_has_foreach_support\u001b[0m\u001b[0;34m(\u001b[0m\u001b[0mgrads\u001b[0m\u001b[0;34m,\u001b[0m \u001b[0mdevice\u001b[0m\u001b[0;34m=\u001b[0m\u001b[0mdevice\u001b[0m\u001b[0;34m)\u001b[0m\u001b[0;34m:\u001b[0m\u001b[0;34m\u001b[0m\u001b[0;34m\u001b[0m\u001b[0m\n\u001b[0;32m---> 76\u001b[0;31m             \u001b[0mtorch\u001b[0m\u001b[0;34m.\u001b[0m\u001b[0m_foreach_mul_\u001b[0m\u001b[0;34m(\u001b[0m\u001b[0mgrads\u001b[0m\u001b[0;34m,\u001b[0m \u001b[0mclip_coef_clamped\u001b[0m\u001b[0;34m.\u001b[0m\u001b[0mto\u001b[0m\u001b[0;34m(\u001b[0m\u001b[0mdevice\u001b[0m\u001b[0;34m)\u001b[0m\u001b[0;34m)\u001b[0m  \u001b[0;31m# type: ignore[call-overload]\u001b[0m\u001b[0;34m\u001b[0m\u001b[0;34m\u001b[0m\u001b[0m\n\u001b[0m\u001b[1;32m     77\u001b[0m         \u001b[0;32melif\u001b[0m \u001b[0mforeach\u001b[0m\u001b[0;34m:\u001b[0m\u001b[0;34m\u001b[0m\u001b[0;34m\u001b[0m\u001b[0m\n\u001b[1;32m     78\u001b[0m             \u001b[0;32mraise\u001b[0m \u001b[0mRuntimeError\u001b[0m\u001b[0;34m(\u001b[0m\u001b[0;34mf'foreach=True was passed, but can\\'t use the foreach API on {device.type} tensors'\u001b[0m\u001b[0;34m)\u001b[0m\u001b[0;34m\u001b[0m\u001b[0;34m\u001b[0m\u001b[0m\n",
            "\u001b[0;31mKeyboardInterrupt\u001b[0m: "
          ]
        }
      ]
    },
    {
      "cell_type": "code",
      "source": [
        "!cp /content/model_5.pt /content/drive/MyDrive/howsam_backup"
      ],
      "metadata": {
        "id": "4PNZFOolq3hU"
      },
      "execution_count": null,
      "outputs": []
    },
    {
      "cell_type": "markdown",
      "source": [
        "#### **Second_Try**"
      ],
      "metadata": {
        "id": "2w1Ggdh0qkN1"
      }
    },
    {
      "cell_type": "markdown",
      "source": [
        "Check other learning rate for continue.."
      ],
      "metadata": {
        "id": "wdfSUKxLqonR"
      }
    },
    {
      "cell_type": "code",
      "source": [
        "num_epochs = 3\n",
        "for lr in [1., 0.5, 0.05, 0.01]:\n",
        "  for wd in [1e-6, 1e-4, 1e-5]:\n",
        "    print(f'LR={lr}, WD={wd}')\n",
        "\n",
        "    model = LanguageModel(len(vocab), embedding_dim=300,\n",
        "                      hidden_dim=512, num_layers=2,\n",
        "                      dropout_embd=0.5, dropout_rnn=0.2).to(device)\n",
        "    model = torch.load('/content/model_5.pt')\n",
        "    optimizer = optim.SGD(model.parameters(), lr=lr, weight_decay=wd, momentum=0.9)\n",
        "\n",
        "    for epoch in range(num_epochs):\n",
        "      model, _, _ = train_one_epoch(model, train_loader, loss_fn, optimizer, metric, epoch)\n",
        "\n",
        "    print()"
      ],
      "metadata": {
        "colab": {
          "base_uri": "https://localhost:8080/"
        },
        "id": "ZLXhgVDUrVCQ",
        "outputId": "2eba793d-9a2e-4e44-c326-11528217216d"
      },
      "execution_count": null,
      "outputs": [
        {
          "output_type": "stream",
          "name": "stdout",
          "text": [
            "LR=1.0, WD=1e-06\n"
          ]
        },
        {
          "output_type": "stream",
          "name": "stderr",
          "text": [
            "Epoch 0: 100%|██████████| 2929/2929 [01:56<00:00, 25.12batch/s, loss=4.25, metric=69.9]\n",
            "Epoch 1: 100%|██████████| 2929/2929 [01:54<00:00, 25.63batch/s, loss=4.14, metric=62.6]\n",
            "Epoch 2: 100%|██████████| 2929/2929 [01:54<00:00, 25.51batch/s, loss=4.07, metric=58.6]\n"
          ]
        },
        {
          "output_type": "stream",
          "name": "stdout",
          "text": [
            "\n",
            "LR=1.0, WD=0.0001\n"
          ]
        },
        {
          "output_type": "stream",
          "name": "stderr",
          "text": [
            "Epoch 0: 100%|██████████| 2929/2929 [01:55<00:00, 25.37batch/s, loss=5.11, metric=166]\n",
            "Epoch 1: 100%|██████████| 2929/2929 [01:54<00:00, 25.55batch/s, loss=5.79, metric=326]\n",
            "Epoch 2: 100%|██████████| 2929/2929 [01:54<00:00, 25.65batch/s, loss=5.82, metric=336]\n"
          ]
        },
        {
          "output_type": "stream",
          "name": "stdout",
          "text": [
            "\n",
            "LR=1.0, WD=1e-05\n"
          ]
        },
        {
          "output_type": "stream",
          "name": "stderr",
          "text": [
            "Epoch 0: 100%|██████████| 2929/2929 [01:54<00:00, 25.57batch/s, loss=4.29, metric=72.6]\n",
            "Epoch 1: 100%|██████████| 2929/2929 [01:54<00:00, 25.57batch/s, loss=4.3, metric=73.8]\n",
            "Epoch 2: 100%|██████████| 2929/2929 [01:53<00:00, 25.72batch/s, loss=4.36, metric=78.2]\n"
          ]
        },
        {
          "output_type": "stream",
          "name": "stdout",
          "text": [
            "\n",
            "LR=0.5, WD=1e-06\n"
          ]
        },
        {
          "output_type": "stream",
          "name": "stderr",
          "text": [
            "Epoch 0: 100%|██████████| 2929/2929 [01:54<00:00, 25.65batch/s, loss=4.22, metric=67.7]\n",
            "Epoch 1: 100%|██████████| 2929/2929 [01:55<00:00, 25.42batch/s, loss=4.11, metric=61]\n",
            "Epoch 2: 100%|██████████| 2929/2929 [01:54<00:00, 25.66batch/s, loss=4.05, metric=57.6]\n"
          ]
        },
        {
          "output_type": "stream",
          "name": "stdout",
          "text": [
            "\n",
            "LR=0.5, WD=0.0001\n"
          ]
        },
        {
          "output_type": "stream",
          "name": "stderr",
          "text": [
            "Epoch 0: 100%|██████████| 2929/2929 [01:54<00:00, 25.65batch/s, loss=4.65, metric=104]\n",
            "Epoch 1: 100%|██████████| 2929/2929 [01:54<00:00, 25.59batch/s, loss=5.42, metric=226]\n",
            "Epoch 2: 100%|██████████| 2929/2929 [01:53<00:00, 25.70batch/s, loss=5.7, metric=300]\n"
          ]
        },
        {
          "output_type": "stream",
          "name": "stdout",
          "text": [
            "\n",
            "LR=0.5, WD=1e-05\n"
          ]
        },
        {
          "output_type": "stream",
          "name": "stderr",
          "text": [
            "Epoch 0: 100%|██████████| 2929/2929 [01:53<00:00, 25.73batch/s, loss=4.23, metric=68.6]\n",
            "Epoch 1: 100%|██████████| 2929/2929 [01:54<00:00, 25.63batch/s, loss=4.17, metric=65]\n",
            "Epoch 2: 100%|██████████| 2929/2929 [01:54<00:00, 25.63batch/s, loss=4.18, metric=65.1]\n"
          ]
        },
        {
          "output_type": "stream",
          "name": "stdout",
          "text": [
            "\n",
            "LR=0.05, WD=1e-06\n"
          ]
        },
        {
          "output_type": "stream",
          "name": "stderr",
          "text": [
            "Epoch 0: 100%|██████████| 2929/2929 [01:54<00:00, 25.58batch/s, loss=4.27, metric=71.8]\n",
            "Epoch 1: 100%|██████████| 2929/2929 [01:54<00:00, 25.64batch/s, loss=4.21, metric=67.2]\n",
            "Epoch 2: 100%|██████████| 2929/2929 [01:54<00:00, 25.52batch/s, loss=4.17, metric=65]\n"
          ]
        },
        {
          "output_type": "stream",
          "name": "stdout",
          "text": [
            "\n",
            "LR=0.05, WD=0.0001\n"
          ]
        },
        {
          "output_type": "stream",
          "name": "stderr",
          "text": [
            "Epoch 0: 100%|██████████| 2929/2929 [01:54<00:00, 25.53batch/s, loss=4.29, metric=72.9]\n",
            "Epoch 1: 100%|██████████| 2929/2929 [01:54<00:00, 25.55batch/s, loss=4.28, metric=72]\n",
            "Epoch 2: 100%|██████████| 2929/2929 [01:54<00:00, 25.58batch/s, loss=4.33, metric=75.6]\n"
          ]
        },
        {
          "output_type": "stream",
          "name": "stdout",
          "text": [
            "\n",
            "LR=0.05, WD=1e-05\n"
          ]
        },
        {
          "output_type": "stream",
          "name": "stderr",
          "text": [
            "Epoch 0: 100%|██████████| 2929/2929 [01:54<00:00, 25.66batch/s, loss=4.27, metric=71.8]\n",
            "Epoch 1: 100%|██████████| 2929/2929 [01:54<00:00, 25.63batch/s, loss=4.21, metric=67.3]\n",
            "Epoch 2: 100%|██████████| 2929/2929 [01:54<00:00, 25.64batch/s, loss=4.18, metric=65.2]\n"
          ]
        },
        {
          "output_type": "stream",
          "name": "stdout",
          "text": [
            "\n",
            "LR=0.01, WD=1e-06\n"
          ]
        },
        {
          "output_type": "stream",
          "name": "stderr",
          "text": [
            "Epoch 0: 100%|██████████| 2929/2929 [01:54<00:00, 25.60batch/s, loss=4.32, metric=75.5]\n",
            "Epoch 1: 100%|██████████| 2929/2929 [01:54<00:00, 25.62batch/s, loss=4.28, metric=72.3]\n",
            "Epoch 2: 100%|██████████| 2929/2929 [01:54<00:00, 25.63batch/s, loss=4.26, metric=70.7]\n"
          ]
        },
        {
          "output_type": "stream",
          "name": "stdout",
          "text": [
            "\n",
            "LR=0.01, WD=0.0001\n"
          ]
        },
        {
          "output_type": "stream",
          "name": "stderr",
          "text": [
            "Epoch 0: 100%|██████████| 2929/2929 [01:54<00:00, 25.68batch/s, loss=4.33, metric=75.7]\n",
            "Epoch 1: 100%|██████████| 2929/2929 [01:54<00:00, 25.63batch/s, loss=4.29, metric=72.8]\n",
            "Epoch 2: 100%|██████████| 2929/2929 [01:54<00:00, 25.62batch/s, loss=4.27, metric=71.7]\n"
          ]
        },
        {
          "output_type": "stream",
          "name": "stdout",
          "text": [
            "\n",
            "LR=0.01, WD=1e-05\n"
          ]
        },
        {
          "output_type": "stream",
          "name": "stderr",
          "text": [
            "Epoch 0: 100%|██████████| 2929/2929 [01:54<00:00, 25.62batch/s, loss=4.32, metric=75.5]\n",
            "Epoch 1: 100%|██████████| 2929/2929 [01:54<00:00, 25.69batch/s, loss=4.28, metric=72.4]\n",
            "Epoch 2: 100%|██████████| 2929/2929 [01:53<00:00, 25.71batch/s, loss=4.26, metric=70.7]"
          ]
        },
        {
          "output_type": "stream",
          "name": "stdout",
          "text": [
            "\n"
          ]
        },
        {
          "output_type": "stream",
          "name": "stderr",
          "text": [
            "\n"
          ]
        }
      ]
    },
    {
      "cell_type": "code",
      "source": [
        "model = LanguageModel(len(vocab), embedding_dim=300,\n",
        "                      hidden_dim=512, num_layers=2,\n",
        "                      dropout_embd=0.5, dropout_rnn=0.2).to(device)"
      ],
      "metadata": {
        "id": "H30LtXDxqzDV"
      },
      "execution_count": null,
      "outputs": []
    },
    {
      "cell_type": "code",
      "source": [
        "model = torch.load('/content/model_5.pt')"
      ],
      "metadata": {
        "id": "D1ZaBHwKqzDf"
      },
      "execution_count": null,
      "outputs": []
    },
    {
      "cell_type": "code",
      "source": [
        "lr = 0.5\n",
        "wd = 1e-06\n",
        "optimizer = optim.SGD(model.parameters(), lr=lr, weight_decay=wd, momentum=0.9)"
      ],
      "metadata": {
        "id": "1wvi8_FjqzDh"
      },
      "execution_count": null,
      "outputs": []
    },
    {
      "cell_type": "code",
      "source": [
        "num_epochs = 20\n",
        "\n",
        "for epoch in range(num_epochs):\n",
        "  # Train\n",
        "  model, loss_train, metric_train = train_one_epoch(model,\n",
        "                                                    train_loader,\n",
        "                                                    loss_fn,\n",
        "                                                    optimizer,\n",
        "                                                    metric,\n",
        "                                                    epoch)\n",
        "  # Validation\n",
        "  loss_valid, metric_valid = evaluate(model,\n",
        "                                      valid_loader,\n",
        "                                      loss_fn,\n",
        "                                      metric)\n",
        "\n",
        "  loss_train_hist.append(loss_train)\n",
        "  loss_valid_hist.append(loss_valid)\n",
        "\n",
        "  metric_train_hist.append(metric_train)\n",
        "  metric_valid_hist.append(metric_valid)\n",
        "\n",
        "  if loss_valid < best_loss_valid:\n",
        "    torch.save(model, f'model_{epoch}.pt')\n",
        "    best_loss_valid = loss_valid\n",
        "    print('Model Saved!')\n",
        "\n",
        "  print(f'Valid: Loss = {loss_valid:.4}, Metric = {metric_valid:.4}')\n",
        "  print()\n",
        "\n",
        "  epoch_counter += 1"
      ],
      "metadata": {
        "colab": {
          "base_uri": "https://localhost:8080/",
          "height": 769
        },
        "outputId": "f641c502-cde9-44b2-b580-41a767316e53",
        "id": "jnymB5_aqzDp"
      },
      "execution_count": null,
      "outputs": [
        {
          "output_type": "stream",
          "name": "stderr",
          "text": [
            "Epoch 0: 100%|██████████| 2929/2929 [01:54<00:00, 25.53batch/s, loss=4.22, metric=67.7]\n"
          ]
        },
        {
          "output_type": "stream",
          "name": "stdout",
          "text": [
            "Model Saved!\n",
            "Valid: Loss = 4.877, Metric = 131.2\n",
            "\n"
          ]
        },
        {
          "output_type": "stream",
          "name": "stderr",
          "text": [
            "Epoch 1: 100%|██████████| 2929/2929 [01:54<00:00, 25.55batch/s, loss=4.11, metric=61.1]\n"
          ]
        },
        {
          "output_type": "stream",
          "name": "stdout",
          "text": [
            "Model Saved!\n",
            "Valid: Loss = 4.876, Metric = 131.1\n",
            "\n"
          ]
        },
        {
          "output_type": "stream",
          "name": "stderr",
          "text": [
            "Epoch 2: 100%|██████████| 2929/2929 [01:54<00:00, 25.60batch/s, loss=4.05, metric=57.6]\n"
          ]
        },
        {
          "output_type": "stream",
          "name": "stdout",
          "text": [
            "Model Saved!\n",
            "Valid: Loss = 4.873, Metric = 130.7\n",
            "\n"
          ]
        },
        {
          "output_type": "stream",
          "name": "stderr",
          "text": [
            "Epoch 3: 100%|██████████| 2929/2929 [01:58<00:00, 24.74batch/s, loss=4.01, metric=54.9]\n"
          ]
        },
        {
          "output_type": "stream",
          "name": "stdout",
          "text": [
            "Valid: Loss = 4.878, Metric = 131.3\n",
            "\n"
          ]
        },
        {
          "output_type": "stream",
          "name": "stderr",
          "text": [
            "Epoch 4: 100%|██████████| 2929/2929 [02:00<00:00, 24.36batch/s, loss=3.96, metric=52.6]\n"
          ]
        },
        {
          "output_type": "stream",
          "name": "stdout",
          "text": [
            "Valid: Loss = 4.877, Metric = 131.2\n",
            "\n"
          ]
        },
        {
          "output_type": "stream",
          "name": "stderr",
          "text": [
            "Epoch 5: 100%|██████████| 2929/2929 [01:55<00:00, 25.41batch/s, loss=3.93, metric=50.7]\n"
          ]
        },
        {
          "output_type": "stream",
          "name": "stdout",
          "text": [
            "Valid: Loss = 4.878, Metric = 131.3\n",
            "\n"
          ]
        },
        {
          "output_type": "stream",
          "name": "stderr",
          "text": [
            "Epoch 6:   6%|▌         | 165/2929 [00:06<01:47, 25.63batch/s, loss=3.84, metric=46.4]\n"
          ]
        },
        {
          "output_type": "error",
          "ename": "KeyboardInterrupt",
          "evalue": "ignored",
          "traceback": [
            "\u001b[0;31m---------------------------------------------------------------------------\u001b[0m",
            "\u001b[0;31mKeyboardInterrupt\u001b[0m                         Traceback (most recent call last)",
            "\u001b[0;32m<ipython-input-77-c5a7c65074c2>\u001b[0m in \u001b[0;36m<cell line: 3>\u001b[0;34m()\u001b[0m\n\u001b[1;32m      3\u001b[0m \u001b[0;32mfor\u001b[0m \u001b[0mepoch\u001b[0m \u001b[0;32min\u001b[0m \u001b[0mrange\u001b[0m\u001b[0;34m(\u001b[0m\u001b[0mnum_epochs\u001b[0m\u001b[0;34m)\u001b[0m\u001b[0;34m:\u001b[0m\u001b[0;34m\u001b[0m\u001b[0;34m\u001b[0m\u001b[0m\n\u001b[1;32m      4\u001b[0m   \u001b[0;31m# Train\u001b[0m\u001b[0;34m\u001b[0m\u001b[0;34m\u001b[0m\u001b[0m\n\u001b[0;32m----> 5\u001b[0;31m   model, loss_train, metric_train = train_one_epoch(model,\n\u001b[0m\u001b[1;32m      6\u001b[0m                                                     \u001b[0mtrain_loader\u001b[0m\u001b[0;34m,\u001b[0m\u001b[0;34m\u001b[0m\u001b[0;34m\u001b[0m\u001b[0m\n\u001b[1;32m      7\u001b[0m                                                     \u001b[0mloss_fn\u001b[0m\u001b[0;34m,\u001b[0m\u001b[0;34m\u001b[0m\u001b[0;34m\u001b[0m\u001b[0m\n",
            "\u001b[0;32m<ipython-input-58-fb52e9e0d0d7>\u001b[0m in \u001b[0;36mtrain_one_epoch\u001b[0;34m(model, train_loader, loss_fn, optimizer, metric, epoch)\u001b[0m\n\u001b[1;32m     22\u001b[0m       \u001b[0moptimizer\u001b[0m\u001b[0;34m.\u001b[0m\u001b[0mzero_grad\u001b[0m\u001b[0;34m(\u001b[0m\u001b[0;34m)\u001b[0m\u001b[0;34m\u001b[0m\u001b[0;34m\u001b[0m\u001b[0m\n\u001b[1;32m     23\u001b[0m \u001b[0;34m\u001b[0m\u001b[0m\n\u001b[0;32m---> 24\u001b[0;31m       \u001b[0mloss_train\u001b[0m\u001b[0;34m.\u001b[0m\u001b[0mupdate\u001b[0m\u001b[0;34m(\u001b[0m\u001b[0mloss\u001b[0m\u001b[0;34m.\u001b[0m\u001b[0mitem\u001b[0m\u001b[0;34m(\u001b[0m\u001b[0;34m)\u001b[0m\u001b[0;34m,\u001b[0m \u001b[0mn\u001b[0m\u001b[0;34m=\u001b[0m\u001b[0mlen\u001b[0m\u001b[0;34m(\u001b[0m\u001b[0mtargets\u001b[0m\u001b[0;34m)\u001b[0m\u001b[0;34m)\u001b[0m\u001b[0;34m\u001b[0m\u001b[0;34m\u001b[0m\u001b[0m\n\u001b[0m\u001b[1;32m     25\u001b[0m       \u001b[0mmetric\u001b[0m\u001b[0;34m.\u001b[0m\u001b[0mupdate\u001b[0m\u001b[0;34m(\u001b[0m\u001b[0moutputs\u001b[0m\u001b[0;34m,\u001b[0m \u001b[0mtargets\u001b[0m\u001b[0;34m)\u001b[0m\u001b[0;34m\u001b[0m\u001b[0;34m\u001b[0m\u001b[0m\n\u001b[1;32m     26\u001b[0m \u001b[0;34m\u001b[0m\u001b[0m\n",
            "\u001b[0;31mKeyboardInterrupt\u001b[0m: "
          ]
        }
      ]
    },
    {
      "cell_type": "markdown",
      "source": [
        "#### **Third_Try**"
      ],
      "metadata": {
        "id": "Usqo_eS6_BXH"
      }
    },
    {
      "cell_type": "code",
      "source": [
        "model = LanguageModel(len(vocab), embedding_dim=300,\n",
        "                      hidden_dim=512, num_layers=2,\n",
        "                      dropout_embd=0.5, dropout_rnn=0.2).to(device)"
      ],
      "metadata": {
        "id": "S-tcuUFt_XWF"
      },
      "execution_count": null,
      "outputs": []
    },
    {
      "cell_type": "code",
      "source": [
        "model = torch.load('/content/model_1.pt')"
      ],
      "metadata": {
        "id": "-u8RKCBX_XWI"
      },
      "execution_count": null,
      "outputs": []
    },
    {
      "cell_type": "code",
      "source": [
        "lr = 0.05\n",
        "wd = 1e-6\n",
        "optimizer = optim.SGD(model.parameters(), lr=lr, weight_decay=wd, momentum=0.9)"
      ],
      "metadata": {
        "id": "DUiz-Hnn_XWK"
      },
      "execution_count": null,
      "outputs": []
    },
    {
      "cell_type": "code",
      "source": [
        "num_epochs = 20\n",
        "\n",
        "for epoch in range(num_epochs):\n",
        "  # Train\n",
        "  model, loss_train, metric_train = train_one_epoch(model,\n",
        "                                                    train_loader,\n",
        "                                                    loss_fn,\n",
        "                                                    optimizer,\n",
        "                                                    metric,\n",
        "                                                    epoch)\n",
        "  # Validation\n",
        "  loss_valid, metric_valid = evaluate(model,\n",
        "                                      valid_loader,\n",
        "                                      loss_fn,\n",
        "                                      metric)\n",
        "\n",
        "  loss_train_hist.append(loss_train)\n",
        "  loss_valid_hist.append(loss_valid)\n",
        "\n",
        "  metric_train_hist.append(metric_train)\n",
        "  metric_valid_hist.append(metric_valid)\n",
        "\n",
        "  if loss_valid < best_loss_valid:\n",
        "    torch.save(model, f'model_{epoch}.pt')\n",
        "    best_loss_valid = loss_valid\n",
        "    print('Model Saved!')\n",
        "\n",
        "  print(f'Valid: Loss = {loss_valid:.4}, Metric = {metric_valid:.4}')\n",
        "  print()\n",
        "\n",
        "  epoch_counter += 1"
      ],
      "metadata": {
        "colab": {
          "base_uri": "https://localhost:8080/",
          "height": 811
        },
        "outputId": "88d7cfb3-ba26-43fc-9588-d6b90aa72964",
        "id": "d9HS3jl__XWL"
      },
      "execution_count": null,
      "outputs": [
        {
          "metadata": {
            "tags": null
          },
          "name": "stderr",
          "output_type": "stream",
          "text": [
            "Epoch 0: 100%|██████████| 2929/2929 [01:55<00:00, 25.28batch/s, loss=4.01, metric=54.9]\n"
          ]
        },
        {
          "metadata": {
            "tags": null
          },
          "name": "stdout",
          "output_type": "stream",
          "text": [
            "Model Saved!\n",
            "Valid: Loss = 4.867, Metric = 129.9\n",
            "\n"
          ]
        },
        {
          "metadata": {
            "tags": null
          },
          "name": "stderr",
          "output_type": "stream",
          "text": [
            "Epoch 1: 100%|██████████| 2929/2929 [01:54<00:00, 25.65batch/s, loss=3.99, metric=54.2]\n"
          ]
        },
        {
          "metadata": {
            "tags": null
          },
          "name": "stdout",
          "output_type": "stream",
          "text": [
            "Model Saved!\n",
            "Valid: Loss = 4.867, Metric = 129.9\n",
            "\n"
          ]
        },
        {
          "metadata": {
            "tags": null
          },
          "name": "stderr",
          "output_type": "stream",
          "text": [
            "Epoch 2: 100%|██████████| 2929/2929 [01:55<00:00, 25.29batch/s, loss=3.98, metric=53.7]\n"
          ]
        },
        {
          "metadata": {
            "tags": null
          },
          "name": "stdout",
          "output_type": "stream",
          "text": [
            "Valid: Loss = 4.868, Metric = 130.1\n",
            "\n"
          ]
        },
        {
          "metadata": {
            "tags": null
          },
          "name": "stderr",
          "output_type": "stream",
          "text": [
            "Epoch 3: 100%|██████████| 2929/2929 [01:54<00:00, 25.67batch/s, loss=3.97, metric=53.2]\n"
          ]
        },
        {
          "metadata": {
            "tags": null
          },
          "name": "stdout",
          "output_type": "stream",
          "text": [
            "Valid: Loss = 4.868, Metric = 130.1\n",
            "\n"
          ]
        },
        {
          "metadata": {
            "tags": null
          },
          "name": "stderr",
          "output_type": "stream",
          "text": [
            "Epoch 4: 100%|██████████| 2929/2929 [01:55<00:00, 25.28batch/s, loss=3.97, metric=52.8]\n"
          ]
        },
        {
          "metadata": {
            "tags": null
          },
          "name": "stdout",
          "output_type": "stream",
          "text": [
            "Valid: Loss = 4.868, Metric = 130.1\n",
            "\n"
          ]
        },
        {
          "metadata": {
            "tags": null
          },
          "name": "stderr",
          "output_type": "stream",
          "text": [
            "Epoch 5: 100%|██████████| 2929/2929 [01:54<00:00, 25.60batch/s, loss=3.96, metric=52.5]\n"
          ]
        },
        {
          "metadata": {
            "tags": null
          },
          "name": "stdout",
          "output_type": "stream",
          "text": [
            "Valid: Loss = 4.869, Metric = 130.1\n",
            "\n"
          ]
        },
        {
          "output_type": "stream",
          "name": "stderr",
          "text": [
            "Epoch 6:  18%|█▊        | 532/2929 [00:20<01:33, 25.65batch/s, loss=3.95, metric=51.8]\n"
          ]
        },
        {
          "output_type": "error",
          "ename": "KeyboardInterrupt",
          "evalue": "ignored",
          "traceback": [
            "\u001b[0;31m---------------------------------------------------------------------------\u001b[0m",
            "\u001b[0;31mKeyboardInterrupt\u001b[0m                         Traceback (most recent call last)",
            "\u001b[0;32m<ipython-input-81-c5a7c65074c2>\u001b[0m in \u001b[0;36m<cell line: 3>\u001b[0;34m()\u001b[0m\n\u001b[1;32m      3\u001b[0m \u001b[0;32mfor\u001b[0m \u001b[0mepoch\u001b[0m \u001b[0;32min\u001b[0m \u001b[0mrange\u001b[0m\u001b[0;34m(\u001b[0m\u001b[0mnum_epochs\u001b[0m\u001b[0;34m)\u001b[0m\u001b[0;34m:\u001b[0m\u001b[0;34m\u001b[0m\u001b[0;34m\u001b[0m\u001b[0m\n\u001b[1;32m      4\u001b[0m   \u001b[0;31m# Train\u001b[0m\u001b[0;34m\u001b[0m\u001b[0;34m\u001b[0m\u001b[0m\n\u001b[0;32m----> 5\u001b[0;31m   model, loss_train, metric_train = train_one_epoch(model,\n\u001b[0m\u001b[1;32m      6\u001b[0m                                                     \u001b[0mtrain_loader\u001b[0m\u001b[0;34m,\u001b[0m\u001b[0;34m\u001b[0m\u001b[0;34m\u001b[0m\u001b[0m\n\u001b[1;32m      7\u001b[0m                                                     \u001b[0mloss_fn\u001b[0m\u001b[0;34m,\u001b[0m\u001b[0;34m\u001b[0m\u001b[0;34m\u001b[0m\u001b[0m\n",
            "\u001b[0;32m<ipython-input-58-fb52e9e0d0d7>\u001b[0m in \u001b[0;36mtrain_one_epoch\u001b[0;34m(model, train_loader, loss_fn, optimizer, metric, epoch)\u001b[0m\n\u001b[1;32m     17\u001b[0m       \u001b[0mloss\u001b[0m \u001b[0;34m=\u001b[0m \u001b[0mloss_fn\u001b[0m\u001b[0;34m(\u001b[0m\u001b[0moutputs\u001b[0m\u001b[0;34m.\u001b[0m\u001b[0mreshape\u001b[0m\u001b[0;34m(\u001b[0m\u001b[0;34m-\u001b[0m\u001b[0;36m1\u001b[0m\u001b[0;34m,\u001b[0m \u001b[0moutputs\u001b[0m\u001b[0;34m.\u001b[0m\u001b[0mshape\u001b[0m\u001b[0;34m[\u001b[0m\u001b[0;34m-\u001b[0m\u001b[0;36m1\u001b[0m\u001b[0;34m]\u001b[0m\u001b[0;34m)\u001b[0m\u001b[0;34m,\u001b[0m \u001b[0mtargets\u001b[0m\u001b[0;34m.\u001b[0m\u001b[0mflatten\u001b[0m\u001b[0;34m(\u001b[0m\u001b[0;34m)\u001b[0m\u001b[0;34m)\u001b[0m\u001b[0;34m\u001b[0m\u001b[0;34m\u001b[0m\u001b[0m\n\u001b[1;32m     18\u001b[0m       \u001b[0mloss\u001b[0m\u001b[0;34m.\u001b[0m\u001b[0mbackward\u001b[0m\u001b[0;34m(\u001b[0m\u001b[0;34m)\u001b[0m\u001b[0;34m\u001b[0m\u001b[0;34m\u001b[0m\u001b[0m\n\u001b[0;32m---> 19\u001b[0;31m       \u001b[0mnn\u001b[0m\u001b[0;34m.\u001b[0m\u001b[0mutils\u001b[0m\u001b[0;34m.\u001b[0m\u001b[0mclip_grad\u001b[0m\u001b[0;34m.\u001b[0m\u001b[0mclip_grad_norm_\u001b[0m\u001b[0;34m(\u001b[0m\u001b[0mmodel\u001b[0m\u001b[0;34m.\u001b[0m\u001b[0mparameters\u001b[0m\u001b[0;34m(\u001b[0m\u001b[0;34m)\u001b[0m\u001b[0;34m,\u001b[0m \u001b[0mmax_norm\u001b[0m\u001b[0;34m=\u001b[0m\u001b[0mclip\u001b[0m\u001b[0;34m)\u001b[0m\u001b[0;34m\u001b[0m\u001b[0;34m\u001b[0m\u001b[0m\n\u001b[0m\u001b[1;32m     20\u001b[0m \u001b[0;34m\u001b[0m\u001b[0m\n\u001b[1;32m     21\u001b[0m       \u001b[0moptimizer\u001b[0m\u001b[0;34m.\u001b[0m\u001b[0mstep\u001b[0m\u001b[0;34m(\u001b[0m\u001b[0;34m)\u001b[0m\u001b[0;34m\u001b[0m\u001b[0;34m\u001b[0m\u001b[0m\n",
            "\u001b[0;32m/usr/local/lib/python3.10/dist-packages/torch/nn/utils/clip_grad.py\u001b[0m in \u001b[0;36mclip_grad_norm_\u001b[0;34m(parameters, max_norm, norm_type, error_if_nonfinite, foreach)\u001b[0m\n\u001b[1;32m     74\u001b[0m     \u001b[0;32mfor\u001b[0m \u001b[0;34m(\u001b[0m\u001b[0;34m(\u001b[0m\u001b[0mdevice\u001b[0m\u001b[0;34m,\u001b[0m \u001b[0m_\u001b[0m\u001b[0;34m)\u001b[0m\u001b[0;34m,\u001b[0m \u001b[0;34m[\u001b[0m\u001b[0mgrads\u001b[0m\u001b[0;34m]\u001b[0m\u001b[0;34m)\u001b[0m \u001b[0;32min\u001b[0m \u001b[0mgrouped_grads\u001b[0m\u001b[0;34m.\u001b[0m\u001b[0mitems\u001b[0m\u001b[0;34m(\u001b[0m\u001b[0;34m)\u001b[0m\u001b[0;34m:\u001b[0m\u001b[0;34m\u001b[0m\u001b[0;34m\u001b[0m\u001b[0m\n\u001b[1;32m     75\u001b[0m         \u001b[0;32mif\u001b[0m \u001b[0;34m(\u001b[0m\u001b[0mforeach\u001b[0m \u001b[0;32mis\u001b[0m \u001b[0;32mNone\u001b[0m \u001b[0;32mor\u001b[0m \u001b[0mforeach\u001b[0m\u001b[0;34m)\u001b[0m \u001b[0;32mand\u001b[0m \u001b[0m_has_foreach_support\u001b[0m\u001b[0;34m(\u001b[0m\u001b[0mgrads\u001b[0m\u001b[0;34m,\u001b[0m \u001b[0mdevice\u001b[0m\u001b[0;34m=\u001b[0m\u001b[0mdevice\u001b[0m\u001b[0;34m)\u001b[0m\u001b[0;34m:\u001b[0m\u001b[0;34m\u001b[0m\u001b[0;34m\u001b[0m\u001b[0m\n\u001b[0;32m---> 76\u001b[0;31m             \u001b[0mtorch\u001b[0m\u001b[0;34m.\u001b[0m\u001b[0m_foreach_mul_\u001b[0m\u001b[0;34m(\u001b[0m\u001b[0mgrads\u001b[0m\u001b[0;34m,\u001b[0m \u001b[0mclip_coef_clamped\u001b[0m\u001b[0;34m.\u001b[0m\u001b[0mto\u001b[0m\u001b[0;34m(\u001b[0m\u001b[0mdevice\u001b[0m\u001b[0;34m)\u001b[0m\u001b[0;34m)\u001b[0m  \u001b[0;31m# type: ignore[call-overload]\u001b[0m\u001b[0;34m\u001b[0m\u001b[0;34m\u001b[0m\u001b[0m\n\u001b[0m\u001b[1;32m     77\u001b[0m         \u001b[0;32melif\u001b[0m \u001b[0mforeach\u001b[0m\u001b[0;34m:\u001b[0m\u001b[0;34m\u001b[0m\u001b[0;34m\u001b[0m\u001b[0m\n\u001b[1;32m     78\u001b[0m             \u001b[0;32mraise\u001b[0m \u001b[0mRuntimeError\u001b[0m\u001b[0;34m(\u001b[0m\u001b[0;34mf'foreach=True was passed, but can\\'t use the foreach API on {device.type} tensors'\u001b[0m\u001b[0;34m)\u001b[0m\u001b[0;34m\u001b[0m\u001b[0;34m\u001b[0m\u001b[0m\n",
            "\u001b[0;31mKeyboardInterrupt\u001b[0m: "
          ]
        }
      ]
    },
    {
      "cell_type": "code",
      "source": [
        "!cp /content/model_0_ThirdTry.pt /content/drive/MyDrive/howsam_backup\n",
        "!cp /content/model_1_SecondTry.pt /content/drive/MyDrive/howsam_backup\n",
        "!cp /content/model_5_FirstTry.pt /content/drive/MyDrive/howsam_backup"
      ],
      "metadata": {
        "id": "HtDghLAVJpuV"
      },
      "execution_count": null,
      "outputs": []
    },
    {
      "cell_type": "markdown",
      "source": [
        "##  **8-2. Plot**"
      ],
      "metadata": {
        "id": "oK20iNRI3Xxb"
      }
    },
    {
      "cell_type": "code",
      "source": [
        "plt.figure(figsize=(8, 6))\n",
        "\n",
        "plt.plot(range(epoch_counter), loss_train_hist, 'r-', label='Train')\n",
        "plt.plot(range(epoch_counter), loss_valid_hist, 'b-', label='Validation')\n",
        "\n",
        "plt.xlabel('Epoch')\n",
        "plt.ylabel('loss')\n",
        "plt.grid(True)\n",
        "plt.legend()"
      ],
      "metadata": {
        "id": "KYFzTsdIOkVp",
        "colab": {
          "base_uri": "https://localhost:8080/",
          "height": 560
        },
        "outputId": "6d677500-55cc-4130-caba-6c7b57b6172b"
      },
      "execution_count": null,
      "outputs": [
        {
          "output_type": "execute_result",
          "data": {
            "text/plain": [
              "<matplotlib.legend.Legend at 0x7d4a906a0b50>"
            ]
          },
          "metadata": {},
          "execution_count": 86
        },
        {
          "output_type": "display_data",
          "data": {
            "text/plain": [
              "<Figure size 800x600 with 1 Axes>"
            ],
            "image/png": "[encoded data removed]"
          },
          "metadata": {}
        }
      ]
    },
    {
      "cell_type": "code",
      "source": [
        "plt.figure(figsize=(8, 6))\n",
        "\n",
        "plt.plot(range(epoch_counter), metric_train_hist, 'r-', label='Train')\n",
        "plt.plot(range(epoch_counter), metric_valid_hist, 'b-', label='Validation')\n",
        "\n",
        "plt.xlabel('Epoch')\n",
        "plt.ylabel('Metric')\n",
        "plt.grid(True)\n",
        "plt.legend()"
      ],
      "metadata": {
        "colab": {
          "base_uri": "https://localhost:8080/",
          "height": 560
        },
        "id": "5So5Uknvrcxf",
        "outputId": "3a96894a-d231-4bbc-e643-b3f703fba287"
      },
      "execution_count": null,
      "outputs": [
        {
          "output_type": "execute_result",
          "data": {
            "text/plain": [
              "<matplotlib.legend.Legend at 0x7d4a902de770>"
            ]
          },
          "metadata": {},
          "execution_count": 87
        },
        {
          "output_type": "display_data",
          "data": {
            "text/plain": [
              "<Figure size 800x600 with 1 Axes>"
            ],
            "image/png": "[encoded data removed]"
          },
          "metadata": {}
        }
      ]
    },
    {
      "cell_type": "markdown",
      "source": [
        "# **9. Test**"
      ],
      "metadata": {
        "id": "KZ9UIdmkfxlA"
      }
    },
    {
      "cell_type": "code",
      "source": [
        "model_path = '/content/model_0_ThirdTry.pt'\n",
        "model = torch.load(model_path)\n",
        "model.eval()"
      ],
      "metadata": {
        "id": "09Q1Cwaa6sGb",
        "colab": {
          "base_uri": "https://localhost:8080/"
        },
        "outputId": "b712af2c-c291-411f-928a-a4990267a8d2"
      },
      "execution_count": null,
      "outputs": [
        {
          "output_type": "execute_result",
          "data": {
            "text/plain": [
              "LanguageModel(\n",
              "  (embedding): Embedding(28782, 300)\n",
              "  (dropout): Dropout(p=0.5, inplace=False)\n",
              "  (lstm): LSTM(300, 512, num_layers=2, batch_first=True, dropout=0.2)\n",
              "  (fc): Linear(in_features=512, out_features=28782, bias=True)\n",
              ")"
            ]
          },
          "metadata": {},
          "execution_count": 89
        }
      ]
    },
    {
      "cell_type": "code",
      "source": [
        "loss_test, metric_test = evaluate(model, test_loader, loss_fn, metric)"
      ],
      "metadata": {
        "id": "lzfAkcJd6pSK"
      },
      "execution_count": null,
      "outputs": []
    },
    {
      "cell_type": "code",
      "source": [
        "loss_test, metric_test"
      ],
      "metadata": {
        "colab": {
          "base_uri": "https://localhost:8080/"
        },
        "id": "rI4TvdouJ4Ph",
        "outputId": "709bd79a-7f88-4086-fe79-e806a4e5f029"
      },
      "execution_count": null,
      "outputs": [
        {
          "output_type": "execute_result",
          "data": {
            "text/plain": [
              "(4.813559766788731, 123.16915130615234)"
            ]
          },
          "metadata": {},
          "execution_count": 91
        }
      ]
    },
    {
      "cell_type": "code",
      "source": [],
      "metadata": {
        "id": "mzU35R7KKaaz"
      },
      "execution_count": null,
      "outputs": []
    },
    {
      "cell_type": "markdown",
      "source": [
        "# **10. Generate**"
      ],
      "metadata": {
        "id": "Jhac1uyyKawy"
      }
    },
    {
      "cell_type": "markdown",
      "source": [
        "🔰 Your mission is to write a `generate` function and use a desired sentence to evaluate the model"
      ],
      "metadata": {
        "id": "jh2_9jUp0GF4"
      }
    },
    {
      "cell_type": "code",
      "source": [
        "model_path = '/content/model_0_ThirdTry.pt'\n",
        "model = torch.load(model_path)\n",
        "model.eval()"
      ],
      "metadata": {
        "id": "pskvb--R-wJ0",
        "colab": {
          "base_uri": "https://localhost:8080/"
        },
        "outputId": "cf42ea6c-4f4e-477a-a8f7-6bf3daea1b2a"
      },
      "execution_count": null,
      "outputs": [
        {
          "output_type": "execute_result",
          "data": {
            "text/plain": [
              "LanguageModel(\n",
              "  (embedding): Embedding(28782, 300)\n",
              "  (dropout): Dropout(p=0.5, inplace=False)\n",
              "  (lstm): LSTM(300, 512, num_layers=2, batch_first=True, dropout=0.2)\n",
              "  (fc): Linear(in_features=512, out_features=28782, bias=True)\n",
              ")"
            ]
          },
          "metadata": {},
          "execution_count": 92
        }
      ]
    },
    {
      "cell_type": "code",
      "source": [
        "def generate(prompt, max_seq_len, temperature, model, tokenizer, vocab, seed=None):\n",
        "  if seed is not None:\n",
        "    torch.manual_seed(seed)\n",
        "\n",
        "  indices = vocab(tokenizer(prompt))\n",
        "  itos = vocab.get_itos()\n",
        "\n",
        "  for i in range(max_seq_len):\n",
        "    src = torch.LongTensor(indices).to(device)\n",
        "\n",
        "    with torch.no_grad():\n",
        "      prediction = model(src)\n",
        "\n",
        "    # Method 1\n",
        "    # idx = torch.argmax(prediction[-1])\n",
        "    # itos = vocab.get_itos()\n",
        "    # itos[idx]\n",
        "\n",
        "    # Method 2\n",
        "    probs = torch.softmax(prediction[-1]/temperature, dim=0)\n",
        "\n",
        "    idx = vocab['<ukn>']\n",
        "    while idx == vocab['<ukn>']:\n",
        "      idx = torch.multinomial(probs, num_samples=1).item()\n",
        "\n",
        "    token = itos[idx]\n",
        "    prompt += ' ' + token\n",
        "\n",
        "    if idx == vocab['.']:\n",
        "      return prompt\n",
        "\n",
        "    indices.append(idx)\n",
        "\n",
        "  return prompt"
      ],
      "metadata": {
        "id": "f5SvSDLal8YB"
      },
      "execution_count": null,
      "outputs": []
    },
    {
      "cell_type": "code",
      "source": [
        "examples = ['In a galaxy far, far away, there',\n",
        "            'The sun was setting in the',\n",
        "            'Once upon a time, there lived a young princess named',\n",
        "            'What is the meaning ',\n",
        "            'in the remaining days of this year i',\n",
        "            'what should i']\n",
        "seed = 45\n",
        "for i, example in enumerate(examples):\n",
        "  print(f\"example {i}:\")\n",
        "  print(generate(example, 35, 0.5, model, tokenizer, vocab, seed))\n",
        "  print()"
      ],
      "metadata": {
        "id": "v_Cw2bzfRmY9",
        "colab": {
          "base_uri": "https://localhost:8080/"
        },
        "outputId": "54d588f6-5357-4684-fb8b-994a8a467a01"
      },
      "execution_count": null,
      "outputs": [
        {
          "output_type": "stream",
          "name": "stdout",
          "text": [
            "example 0:\n",
            "In a galaxy far, far away, there is a mixture of more than one of the most important examples of the universe .\n",
            "\n",
            "example 1:\n",
            "The sun was setting in the earth , and the concrete was discovered .\n",
            "\n",
            "example 2:\n",
            "Once upon a time, there lived a young princess named the house and the king .\n",
            "\n",
            "example 3:\n",
            "What is the meaning  of the poem in which the poem is the only aspect of the poem .\n",
            "\n",
            "example 4:\n",
            "in the remaining days of this year i had to be the first and most successful and most successful of the album , and it ' s one of the best @-@ selling albums of all time .\n",
            "\n",
            "example 5:\n",
            "what should i want to do .\n",
            "\n"
          ]
        }
      ]
    }
  ]
}