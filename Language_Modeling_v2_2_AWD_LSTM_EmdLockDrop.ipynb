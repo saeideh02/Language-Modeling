{
  "nbformat": 4,
  "nbformat_minor": 0,
  "metadata": {
    "colab": {
      "provenance": [],
      "collapsed_sections": [
        "w_a3OXnSeV0z",
        "DPZgwKQJ1Mw_",
        "j8hB7rbt8CuH",
        "RwaY_YcgRayy",
        "pwlVLNJXfUJw",
        "RfWH-TWS4ljL",
        "ujIVtjsYvxOI",
        "B29jrEvwRqXA",
        "7VELL11wOiZ9",
        "PgLgP04P4-aX",
        "NCQjacybOfqV",
        "3ttl0AK3Hvyh",
        "24qT-sgUO2-d",
        "W0QNbC0YPCKZ",
        "G9HgVWslPGsH",
        "lpJ3wtyctQJH",
        "BrHQCv7q7LF_",
        "BLT4w0ZfAhlJ",
        "uC2GhaXfA8vC"
      ],
      "gpuType": "T4"
    },
    "kernelspec": {
      "name": "python3",
      "display_name": "Python 3"
    },
    "language_info": {
      "name": "python"
    },
    "accelerator": "GPU"
  },
  "cells": [
    {
      "cell_type": "markdown",
      "source": [
        "# **💎 Language Modeling 💎**\n"
      ],
      "metadata": {
        "id": "-uXkcYhkIxS-"
      }
    },
    {
      "cell_type": "markdown",
      "source": [
        "# **1. Import Libs**"
      ],
      "metadata": {
        "id": "w_a3OXnSeV0z"
      }
    },
    {
      "cell_type": "markdown",
      "source": [
        "## **1-1. Install libraries**"
      ],
      "metadata": {
        "id": "DPZgwKQJ1Mw_"
      }
    },
    {
      "cell_type": "code",
      "source": [
        "!rm -rf /content/sample_data"
      ],
      "metadata": {
        "id": "umqcxcs300TK"
      },
      "execution_count": null,
      "outputs": []
    },
    {
      "cell_type": "code",
      "source": [
        "pip install -q torchmetrics"
      ],
      "metadata": {
        "id": "m15bbv0-0u57",
        "colab": {
          "base_uri": "https://localhost:8080/"
        },
        "outputId": "e434c990-ab65-40d9-8792-4045dedf7a3a"
      },
      "execution_count": null,
      "outputs": [
        {
          "output_type": "stream",
          "name": "stdout",
          "text": [
            "\u001b[?25l     \u001b[90m━━━━━━━━━━━━━━━━━━━━━━━━━━━━━━━━━━━━━━━━\u001b[0m \u001b[32m0.0/805.2 kB\u001b[0m \u001b[31m?\u001b[0m eta \u001b[36m-:--:--\u001b[0m\r\u001b[2K     \u001b[91m━━━━━━━━━\u001b[0m\u001b[91m╸\u001b[0m\u001b[90m━━━━━━━━━━━━━━━━━━━━━━━━━━━━━━\u001b[0m \u001b[32m194.6/805.2 kB\u001b[0m \u001b[31m5.9 MB/s\u001b[0m eta \u001b[36m0:00:01\u001b[0m\r\u001b[2K     \u001b[91m━━━━━━━━━━━━━━━━━━━━━━━━━━━━━━━━━━━━\u001b[0m\u001b[90m╺\u001b[0m\u001b[90m━━━\u001b[0m \u001b[32m727.0/805.2 kB\u001b[0m \u001b[31m10.8 MB/s\u001b[0m eta \u001b[36m0:00:01\u001b[0m\r\u001b[2K     \u001b[90m━━━━━━━━━━━━━━━━━━━━━━━━━━━━━━━━━━━━━━━━\u001b[0m \u001b[32m805.2/805.2 kB\u001b[0m \u001b[31m9.9 MB/s\u001b[0m eta \u001b[36m0:00:00\u001b[0m\n",
            "\u001b[?25h"
          ]
        }
      ]
    },
    {
      "cell_type": "code",
      "source": [
        "!pip install -q portalocker>=2.0.0"
      ],
      "metadata": {
        "id": "QdoXe1ZP0K6t"
      },
      "execution_count": null,
      "outputs": []
    },
    {
      "cell_type": "code",
      "source": [
        "!pip install -q wandb"
      ],
      "metadata": {
        "id": "-jCPbgg58GFZ",
        "colab": {
          "base_uri": "https://localhost:8080/"
        },
        "outputId": "79ec9d48-e61f-4d49-a3ad-f5f30e27696a"
      },
      "execution_count": null,
      "outputs": [
        {
          "output_type": "stream",
          "name": "stdout",
          "text": [
            "\u001b[2K     \u001b[90m━━━━━━━━━━━━━━━━━━━━━━━━━━━━━━━━━━━━━━━━\u001b[0m \u001b[32m2.1/2.1 MB\u001b[0m \u001b[31m13.8 MB/s\u001b[0m eta \u001b[36m0:00:00\u001b[0m\n",
            "\u001b[2K     \u001b[90m━━━━━━━━━━━━━━━━━━━━━━━━━━━━━━━━━━━━━━━━\u001b[0m \u001b[32m190.6/190.6 kB\u001b[0m \u001b[31m16.5 MB/s\u001b[0m eta \u001b[36m0:00:00\u001b[0m\n",
            "\u001b[2K     \u001b[90m━━━━━━━━━━━━━━━━━━━━━━━━━━━━━━━━━━━━━━━━\u001b[0m \u001b[32m241.0/241.0 kB\u001b[0m \u001b[31m19.5 MB/s\u001b[0m eta \u001b[36m0:00:00\u001b[0m\n",
            "\u001b[?25h  Preparing metadata (setup.py) ... \u001b[?25l\u001b[?25hdone\n",
            "\u001b[2K     \u001b[90m━━━━━━━━━━━━━━━━━━━━━━━━━━━━━━━━━━━━━━━━\u001b[0m \u001b[32m62.7/62.7 kB\u001b[0m \u001b[31m9.8 MB/s\u001b[0m eta \u001b[36m0:00:00\u001b[0m\n",
            "\u001b[?25h  Building wheel for pathtools (setup.py) ... \u001b[?25l\u001b[?25hdone\n"
          ]
        }
      ]
    },
    {
      "cell_type": "markdown",
      "source": [
        "## **1-1. Import libraries**"
      ],
      "metadata": {
        "id": "j8hB7rbt8CuH"
      }
    },
    {
      "cell_type": "code",
      "source": [
        "import numpy as np\n",
        "import matplotlib.pyplot as plt\n",
        "\n",
        "import torchtext\n",
        "from torchtext.datasets import WikiText2\n",
        "from torchtext.data.utils import get_tokenizer\n",
        "from torchtext.vocab import build_vocab_from_iterator, GloVe\n",
        "\n",
        "import torch\n",
        "from torch import nn\n",
        "from torch.utils.data import DataLoader, Dataset, random_split\n",
        "\n",
        "from torch import optim\n",
        "from torch.nn import functional as F\n",
        "\n",
        "import tqdm\n",
        "import torchmetrics as tm\n",
        "import wandb\n",
        "\n",
        "import os\n",
        "from collections import Counter\n",
        "\n",
        "import ipywidgets as widgets\n",
        "from IPython.display import display"
      ],
      "metadata": {
        "id": "vhlVJEkJeTsV"
      },
      "execution_count": null,
      "outputs": []
    },
    {
      "cell_type": "code",
      "source": [
        "!python --version"
      ],
      "metadata": {
        "id": "DEzYlyeqTZqQ",
        "colab": {
          "base_uri": "https://localhost:8080/"
        },
        "outputId": "bb38e29a-aeab-491c-9972-f20522a3e0dc"
      },
      "execution_count": null,
      "outputs": [
        {
          "output_type": "stream",
          "name": "stdout",
          "text": [
            "Python 3.10.12\n"
          ]
        }
      ]
    },
    {
      "cell_type": "code",
      "source": [
        "for lib in [np, torch, torchtext, tqdm]:\n",
        "  print(lib.__name__, '-->', lib.__version__)"
      ],
      "metadata": {
        "id": "6DWjGTq6T8Jg",
        "colab": {
          "base_uri": "https://localhost:8080/"
        },
        "outputId": "ae497575-36aa-467a-8306-0c3d162b4688"
      },
      "execution_count": null,
      "outputs": [
        {
          "output_type": "stream",
          "name": "stdout",
          "text": [
            "numpy --> 1.23.5\n",
            "torch --> 2.1.0+cu118\n",
            "torchtext --> 0.16.0+cpu\n",
            "tqdm --> 4.66.1\n"
          ]
        }
      ]
    },
    {
      "cell_type": "markdown",
      "source": [
        "#  **2. Utils**"
      ],
      "metadata": {
        "id": "RwaY_YcgRayy"
      }
    },
    {
      "cell_type": "code",
      "source": [
        "class AverageMeter(object):\n",
        "    \"\"\"Computes and stores the average and current value\"\"\"\n",
        "    def __init__(self):\n",
        "        self.reset()\n",
        "\n",
        "    def reset(self):\n",
        "        self.val = 0\n",
        "        self.avg = 0\n",
        "        self.sum = 0\n",
        "        self.count = 0\n",
        "\n",
        "    def update(self, val, n=1):\n",
        "        self.val = val\n",
        "        self.sum += val * n\n",
        "        self.count += n\n",
        "        self.avg = self.sum / self.count"
      ],
      "metadata": {
        "id": "8yMS7bbmRayz"
      },
      "execution_count": null,
      "outputs": []
    },
    {
      "cell_type": "markdown",
      "source": [
        "Number of trainale parameters"
      ],
      "metadata": {
        "id": "2N3RJMDc1kO8"
      }
    },
    {
      "cell_type": "code",
      "source": [
        "def num_trainable_params(model):\n",
        "  nums = sum(p.numel() for p in model.parameters() if p.requires_grad)/1e6\n",
        "  return nums"
      ],
      "metadata": {
        "id": "PpKbTUEIRayz"
      },
      "execution_count": null,
      "outputs": []
    },
    {
      "cell_type": "code",
      "source": [
        "def set_seed(seed):\n",
        "  np.random.seed(seed)\n",
        "  torch.manual_seed(seed)\n",
        "  if torch.cuda.is_available():\n",
        "      torch.cuda.manual_seed(seed)"
      ],
      "metadata": {
        "id": "UNPvUr61_Dld"
      },
      "execution_count": null,
      "outputs": []
    },
    {
      "cell_type": "code",
      "source": [
        "from google.colab import drive\n",
        "drive.mount('/content/drive')"
      ],
      "metadata": {
        "colab": {
          "base_uri": "https://localhost:8080/"
        },
        "id": "5TE0ZKOPSFMo",
        "outputId": "94401d13-c507-4257-a6c4-760925deb737"
      },
      "execution_count": null,
      "outputs": [
        {
          "output_type": "stream",
          "name": "stdout",
          "text": [
            "Mounted at /content/drive\n"
          ]
        }
      ]
    },
    {
      "cell_type": "markdown",
      "source": [
        "# **3. Arguments**"
      ],
      "metadata": {
        "id": "pwlVLNJXfUJw"
      }
    },
    {
      "cell_type": "code",
      "source": [
        "seed = 8\n",
        "\n",
        "batch_size = 80\n",
        "seq_len = 70\n",
        "\n",
        "embedding_dim = 400\n",
        "\n",
        "num_layers = 3\n",
        "hidden_dim = 1150\n",
        "\n",
        "dropoute = 0.1         #embedding\n",
        "dropouti = 0.65      #lstm input / embedding output\n",
        "dropouth = 0.3       #lstm hidden states\n",
        "dropouto = 0.4       #lstm output\n",
        "\n",
        "lr = 8\n",
        "wd = 1e-6\n",
        "momentum = 0.9\n",
        "\n",
        "clip = 0.25\n",
        "\n",
        "wandb_enable = True"
      ],
      "metadata": {
        "id": "BqPVGv0TfUKE"
      },
      "execution_count": null,
      "outputs": []
    },
    {
      "cell_type": "code",
      "source": [
        "wandb_arg_name = input('Please input the WandB argument (run) name:')"
      ],
      "metadata": {
        "id": "SXOG_oXwrICX"
      },
      "execution_count": null,
      "outputs": []
    },
    {
      "cell_type": "code",
      "source": [
        "wandb_arg_name"
      ],
      "metadata": {
        "id": "Vp5AUcSs-drV"
      },
      "execution_count": null,
      "outputs": []
    },
    {
      "cell_type": "markdown",
      "source": [
        "#  **4. Dataset**"
      ],
      "metadata": {
        "id": "RfWH-TWS4ljL"
      }
    },
    {
      "cell_type": "markdown",
      "source": [
        "##  **4-1. Download & Unzip the Dataset**"
      ],
      "metadata": {
        "id": "ujIVtjsYvxOI"
      }
    },
    {
      "cell_type": "code",
      "source": [
        "train_iter, valid_iter, test_iter = WikiText2('/content/')"
      ],
      "metadata": {
        "id": "FoVyhbo81x-U"
      },
      "execution_count": null,
      "outputs": []
    },
    {
      "cell_type": "code",
      "source": [
        "train_iter_ = iter(train_iter)\n",
        "train_iter_"
      ],
      "metadata": {
        "colab": {
          "base_uri": "https://localhost:8080/"
        },
        "id": "WtjF-_AB0j0A",
        "outputId": "5188883d-95ec-440a-9810-79573cdf9efc"
      },
      "execution_count": null,
      "outputs": [
        {
          "output_type": "execute_result",
          "data": {
            "text/plain": [
              "<generator object ShardingFilterIterDataPipe.__iter__ at 0x7ad0a6bb4350>"
            ]
          },
          "metadata": {},
          "execution_count": 12
        }
      ]
    },
    {
      "cell_type": "code",
      "source": [
        "next(train_iter_)"
      ],
      "metadata": {
        "colab": {
          "base_uri": "https://localhost:8080/",
          "height": 35
        },
        "id": "Cgmn7PHT0mqS",
        "outputId": "ea43cbc2-2aeb-492f-9fae-c796ade1c73d"
      },
      "execution_count": null,
      "outputs": [
        {
          "output_type": "execute_result",
          "data": {
            "text/plain": [
              "' \\n'"
            ],
            "application/vnd.google.colaboratory.intrinsic+json": {
              "type": "string"
            }
          },
          "metadata": {},
          "execution_count": 13
        }
      ]
    },
    {
      "cell_type": "markdown",
      "source": [
        "## **4-2. Build vocabulary and save it**"
      ],
      "metadata": {
        "id": "wCi-ofSLCzop"
      }
    },
    {
      "cell_type": "markdown",
      "source": [
        "🔰 In this section we need to:\n",
        "\n",
        "*   Define a tokenizer using `basic_english`\n",
        "*   Tokenize the dataset and collect tokens\n",
        "*   Build the vocabulary using `build_vocab_from_iterator`\n",
        "*   Manually insert special tokens and set the default index\n"
      ],
      "metadata": {
        "id": "L02PHFuyNRb3"
      }
    },
    {
      "cell_type": "code",
      "source": [
        "!mv /content/datasets/WikiText2/wikitext-2/wiki.train.tokens /content/datasets/WikiText2/wikitext-2/wiki_train_tokens.txt"
      ],
      "metadata": {
        "id": "1R1RNBcmQR1t"
      },
      "execution_count": null,
      "outputs": []
    },
    {
      "cell_type": "code",
      "source": [
        "f_train = open('/content/datasets/WikiText2/wikitext-2/wiki_train_tokens.txt')"
      ],
      "metadata": {
        "id": "4yKAluhNFzMy"
      },
      "execution_count": null,
      "outputs": []
    },
    {
      "cell_type": "code",
      "source": [
        "f_train2 = f_train.readlines()"
      ],
      "metadata": {
        "id": "2ogx6j-MF5zk"
      },
      "execution_count": null,
      "outputs": []
    },
    {
      "cell_type": "code",
      "source": [
        "tokenizer = get_tokenizer('basic_english')\n",
        "vocab = build_vocab_from_iterator(map(tokenizer, f_train2), specials=['<unk>'])\n",
        "vocab.set_default_index(vocab['<unk>'])"
      ],
      "metadata": {
        "id": "-asSTBux8IBJ"
      },
      "execution_count": null,
      "outputs": []
    },
    {
      "cell_type": "code",
      "source": [
        "len(vocab)"
      ],
      "metadata": {
        "colab": {
          "base_uri": "https://localhost:8080/"
        },
        "id": "WmpZYqh0GXCv",
        "outputId": "b999b03a-48e4-4338-e4b1-7ef21795231a"
      },
      "execution_count": null,
      "outputs": [
        {
          "output_type": "execute_result",
          "data": {
            "text/plain": [
              "28782"
            ]
          },
          "metadata": {},
          "execution_count": 18
        }
      ]
    },
    {
      "cell_type": "code",
      "source": [
        "vocab(['saeideh', 'hi', 'how', 'tehran', 'ali', 'valkyria'])"
      ],
      "metadata": {
        "colab": {
          "base_uri": "https://localhost:8080/"
        },
        "id": "kLTqC5nD8OvQ",
        "outputId": "da4696d1-8820-43c6-f100-7114efabdeeb"
      },
      "execution_count": null,
      "outputs": [
        {
          "output_type": "execute_result",
          "data": {
            "text/plain": [
              "[0, 9206, 416, 23311, 2284, 3849]"
            ]
          },
          "metadata": {},
          "execution_count": 19
        }
      ]
    },
    {
      "cell_type": "code",
      "source": [
        "torch.save(vocab, 'vocab.pt')"
      ],
      "metadata": {
        "id": "hQHoTgf7kDBp"
      },
      "execution_count": null,
      "outputs": []
    },
    {
      "cell_type": "code",
      "source": [
        "!cp /content/vocab.pt /content/drive/MyDrive/Howsam_Language_Modeling"
      ],
      "metadata": {
        "id": "DGkpgnMlGrRS"
      },
      "execution_count": null,
      "outputs": []
    },
    {
      "cell_type": "markdown",
      "source": [
        "## **4-3. EDA**"
      ],
      "metadata": {
        "id": "B29jrEvwRqXA"
      }
    },
    {
      "cell_type": "markdown",
      "source": [
        "**how many paragraph:**"
      ],
      "metadata": {
        "id": "5hjB1BiNWDHN"
      }
    },
    {
      "cell_type": "code",
      "source": [
        "len(f_train2)"
      ],
      "metadata": {
        "colab": {
          "base_uri": "https://localhost:8080/"
        },
        "id": "YgwvrWgULg4A",
        "outputId": "5f218334-9d5c-4642-a65a-683cae3a1377"
      },
      "execution_count": null,
      "outputs": [
        {
          "output_type": "execute_result",
          "data": {
            "text/plain": [
              "36718"
            ]
          },
          "metadata": {},
          "execution_count": 22
        }
      ]
    },
    {
      "cell_type": "code",
      "source": [
        "f_train2[3]"
      ],
      "metadata": {
        "colab": {
          "base_uri": "https://localhost:8080/",
          "height": 142
        },
        "id": "uSGV6Z9vL8Hk",
        "outputId": "95d3002a-34fb-48ff-8a8e-08bb2c062dc5"
      },
      "execution_count": null,
      "outputs": [
        {
          "output_type": "execute_result",
          "data": {
            "text/plain": [
              "' Senjō no Valkyria 3 : <unk> Chronicles ( Japanese : 戦場のヴァルキュリア3 , lit . Valkyria of the Battlefield 3 ) , commonly referred to as Valkyria Chronicles III outside Japan , is a tactical role @-@ playing video game developed by Sega and Media.Vision for the PlayStation Portable . Released in January 2011 in Japan , it is the third game in the Valkyria series . <unk> the same fusion of tactical and real @-@ time gameplay as its predecessors , the story runs parallel to the first game and follows the \" Nameless \" , a penal military unit serving the nation of Gallia during the Second Europan War who perform secret black operations and are pitted against the Imperial unit \" <unk> Raven \" . \\n'"
            ],
            "application/vnd.google.colaboratory.intrinsic+json": {
              "type": "string"
            }
          },
          "metadata": {},
          "execution_count": 23
        }
      ]
    },
    {
      "cell_type": "code",
      "source": [
        "main_tokens = list(map(tokenizer, f_train2))"
      ],
      "metadata": {
        "id": "d3u-7m-AL0BI"
      },
      "execution_count": null,
      "outputs": []
    },
    {
      "cell_type": "code",
      "source": [
        "len(main_tokens)"
      ],
      "metadata": {
        "colab": {
          "base_uri": "https://localhost:8080/"
        },
        "id": "JSj1y2dEM9BX",
        "outputId": "1d2fb02e-fc3f-4af4-cb9b-462e1264c8df"
      },
      "execution_count": null,
      "outputs": [
        {
          "output_type": "execute_result",
          "data": {
            "text/plain": [
              "36718"
            ]
          },
          "metadata": {},
          "execution_count": 25
        }
      ]
    },
    {
      "cell_type": "code",
      "source": [
        "vocab_dicts = {}\n",
        "for i in main_tokens:\n",
        "  for j in i:\n",
        "    if j not in vocab_dicts.keys():\n",
        "      vocab_dicts[j] = 1\n",
        "    else:\n",
        "      vocab_dicts[j] += 1"
      ],
      "metadata": {
        "id": "RXp7A3llNhNA"
      },
      "execution_count": null,
      "outputs": []
    },
    {
      "cell_type": "code",
      "source": [
        "len(vocab_dicts.keys())"
      ],
      "metadata": {
        "colab": {
          "base_uri": "https://localhost:8080/"
        },
        "id": "4ju9BM4UOJYu",
        "outputId": "4e6652b1-a27a-4e11-f821-47be54a81bc3"
      },
      "execution_count": null,
      "outputs": [
        {
          "output_type": "execute_result",
          "data": {
            "text/plain": [
              "28782"
            ]
          },
          "metadata": {},
          "execution_count": 27
        }
      ]
    },
    {
      "cell_type": "markdown",
      "source": [
        "**all words in train.txt:**"
      ],
      "metadata": {
        "id": "HffsZd2OWuaR"
      }
    },
    {
      "cell_type": "code",
      "source": [
        "count_totall_word = 0\n",
        "for i in main_tokens:\n",
        "  for j in i:\n",
        "    count_totall_word = count_totall_word + len(j)\n",
        "count_totall_word"
      ],
      "metadata": {
        "colab": {
          "base_uri": "https://localhost:8080/"
        },
        "id": "vgSsFxiXHgox",
        "outputId": "f2eca44a-d34e-446e-a117-c8285bb864ed"
      },
      "execution_count": null,
      "outputs": [
        {
          "output_type": "execute_result",
          "data": {
            "text/plain": [
              "8618752"
            ]
          },
          "metadata": {},
          "execution_count": 28
        }
      ]
    },
    {
      "cell_type": "markdown",
      "source": [
        "**Most and least common words:**"
      ],
      "metadata": {
        "id": "owQK5ohmXeVR"
      }
    },
    {
      "cell_type": "code",
      "source": [
        "# count = 0\n",
        "count_dict2 = {}\n",
        "for k, v in vocab_dicts.items():\n",
        "  # count=count +1\n",
        "  if v in count_dict2.keys():\n",
        "    count_dict2[v]+=1\n",
        "  else:\n",
        "    count_dict2[v]=1\n",
        "\n",
        "  # print(f\"count {count}: \", k ,\" \", v)"
      ],
      "metadata": {
        "id": "6QxuwaZrHzY-"
      },
      "execution_count": null,
      "outputs": []
    },
    {
      "cell_type": "code",
      "source": [
        "count_dict2"
      ],
      "metadata": {
        "id": "hljVQ-cMH4Cv",
        "colab": {
          "base_uri": "https://localhost:8080/"
        },
        "outputId": "cc1287ca-9093-42b3-da45-0f97a0c44c4c"
      },
      "execution_count": null,
      "outputs": [
        {
          "output_type": "execute_result",
          "data": {
            "text/plain": [
              "{29570: 1,\n",
              " 54: 63,\n",
              " 53: 63,\n",
              " 231: 4,\n",
              " 5: 2261,\n",
              " 1702: 1,\n",
              " 1601: 1,\n",
              " 54625: 1,\n",
              " 11992: 1,\n",
              " 255: 6,\n",
              " 3: 5130,\n",
              " 102615: 1,\n",
              " 29: 154,\n",
              " 83397: 1,\n",
              " 57030: 1,\n",
              " 130768: 1,\n",
              " 38: 91,\n",
              " 12004: 1,\n",
              " 119: 16,\n",
              " 206: 8,\n",
              " 39521: 1,\n",
              " 15058: 1,\n",
              " 309: 2,\n",
              " 212: 7,\n",
              " 11691: 1,\n",
              " 36523: 1,\n",
              " 32: 143,\n",
              " 598: 1,\n",
              " 16906: 1,\n",
              " 342: 4,\n",
              " 725: 2,\n",
              " 2077: 1,\n",
              " 429: 3,\n",
              " 12718: 1,\n",
              " 9: 991,\n",
              " 50735: 1,\n",
              " 262: 4,\n",
              " 87: 35,\n",
              " 13794: 1,\n",
              " 124: 15,\n",
              " 33: 105,\n",
              " 979: 2,\n",
              " 45015: 1,\n",
              " 693: 2,\n",
              " 519: 1,\n",
              " 9273: 1,\n",
              " 716: 1,\n",
              " 1498: 1,\n",
              " 45: 78,\n",
              " 271: 5,\n",
              " 2607: 1,\n",
              " 103: 22,\n",
              " 3877: 1,\n",
              " 24: 206,\n",
              " 545: 1,\n",
              " 194: 7,\n",
              " 66: 42,\n",
              " 4242: 1,\n",
              " 128: 22,\n",
              " 12: 646,\n",
              " 576: 1,\n",
              " 197: 4,\n",
              " 104: 22,\n",
              " 2690: 1,\n",
              " 1465: 1,\n",
              " 1370: 1,\n",
              " 3029: 1,\n",
              " 113: 17,\n",
              " 132: 9,\n",
              " 624: 1,\n",
              " 325: 2,\n",
              " 4714: 1,\n",
              " 1272: 1,\n",
              " 93: 31,\n",
              " 8: 1100,\n",
              " 1102: 1,\n",
              " 505: 2,\n",
              " 611: 1,\n",
              " 65: 52,\n",
              " 2137: 1,\n",
              " 856: 1,\n",
              " 126: 16,\n",
              " 1083: 2,\n",
              " 180: 7,\n",
              " 15140: 1,\n",
              " 589: 3,\n",
              " 2127: 1,\n",
              " 181: 5,\n",
              " 338: 1,\n",
              " 3842: 1,\n",
              " 46: 80,\n",
              " 1584: 1,\n",
              " 457: 2,\n",
              " 2402: 1,\n",
              " 641: 2,\n",
              " 55: 61,\n",
              " 70: 45,\n",
              " 1448: 1,\n",
              " 441: 2,\n",
              " 9229: 1,\n",
              " 407: 1,\n",
              " 11: 686,\n",
              " 957: 1,\n",
              " 13012: 1,\n",
              " 365: 1,\n",
              " 6: 1740,\n",
              " 974: 1,\n",
              " 186: 10,\n",
              " 134: 19,\n",
              " 18484: 1,\n",
              " 14936: 1,\n",
              " 296: 6,\n",
              " 196: 8,\n",
              " 21008: 1,\n",
              " 58: 54,\n",
              " 1877: 1,\n",
              " 136: 20,\n",
              " 253: 5,\n",
              " 220: 9,\n",
              " 149: 12,\n",
              " 269: 4,\n",
              " 448: 3,\n",
              " 377: 3,\n",
              " 3749: 1,\n",
              " 569: 1,\n",
              " 783: 1,\n",
              " 30: 161,\n",
              " 6250: 1,\n",
              " 101: 15,\n",
              " 161: 9,\n",
              " 661: 1,\n",
              " 14351: 1,\n",
              " 1668: 1,\n",
              " 85: 29,\n",
              " 2443: 1,\n",
              " 63: 45,\n",
              " 667: 1,\n",
              " 49: 61,\n",
              " 819: 1,\n",
              " 404: 1,\n",
              " 4006: 1,\n",
              " 15: 414,\n",
              " 4233: 1,\n",
              " 73: 37,\n",
              " 51: 60,\n",
              " 13: 515,\n",
              " 291: 6,\n",
              " 2332: 1,\n",
              " 361: 2,\n",
              " 72: 43,\n",
              " 4: 3243,\n",
              " 117: 16,\n",
              " 1279: 1,\n",
              " 817: 1,\n",
              " 1524: 1,\n",
              " 427: 2,\n",
              " 526: 2,\n",
              " 476: 2,\n",
              " 1319: 1,\n",
              " 82: 43,\n",
              " 121: 12,\n",
              " 542: 2,\n",
              " 254: 5,\n",
              " 242: 6,\n",
              " 1364: 1,\n",
              " 107: 16,\n",
              " 697: 1,\n",
              " 1075: 1,\n",
              " 26: 211,\n",
              " 42: 101,\n",
              " 28: 141,\n",
              " 390: 3,\n",
              " 99: 23,\n",
              " 59: 51,\n",
              " 64: 50,\n",
              " 80: 27,\n",
              " 102: 28,\n",
              " 630: 2,\n",
              " 20: 277,\n",
              " 39: 100,\n",
              " 106: 12,\n",
              " 31: 127,\n",
              " 1320: 1,\n",
              " 4859: 1,\n",
              " 22: 260,\n",
              " 3894: 1,\n",
              " 540: 2,\n",
              " 984: 1,\n",
              " 204: 5,\n",
              " 62: 39,\n",
              " 175: 7,\n",
              " 2655: 1,\n",
              " 3910: 1,\n",
              " 167: 7,\n",
              " 2729: 1,\n",
              " 21: 245,\n",
              " 835: 1,\n",
              " 283: 3,\n",
              " 164: 5,\n",
              " 265: 6,\n",
              " 118: 13,\n",
              " 83: 29,\n",
              " 142: 17,\n",
              " 687: 2,\n",
              " 162: 7,\n",
              " 57: 55,\n",
              " 506: 1,\n",
              " 496: 1,\n",
              " 71: 43,\n",
              " 248: 4,\n",
              " 1771: 1,\n",
              " 1488: 1,\n",
              " 524: 1,\n",
              " 166: 7,\n",
              " 78: 27,\n",
              " 1765: 1,\n",
              " 694: 1,\n",
              " 1039: 1,\n",
              " 1801: 1,\n",
              " 585: 1,\n",
              " 322: 2,\n",
              " 222: 3,\n",
              " 3565: 1,\n",
              " 1194: 1,\n",
              " 690: 2,\n",
              " 449: 2,\n",
              " 729: 1,\n",
              " 187: 6,\n",
              " 176: 12,\n",
              " 438: 1,\n",
              " 633: 1,\n",
              " 831: 1,\n",
              " 480: 4,\n",
              " 96: 24,\n",
              " 966: 2,\n",
              " 214: 9,\n",
              " 2061: 1,\n",
              " 299: 2,\n",
              " 415: 1,\n",
              " 195: 8,\n",
              " 120: 12,\n",
              " 9070: 1,\n",
              " 25: 175,\n",
              " 3325: 1,\n",
              " 504: 1,\n",
              " 232: 2,\n",
              " 4290: 1,\n",
              " 328: 2,\n",
              " 1918: 1,\n",
              " 277: 1,\n",
              " 191: 6,\n",
              " 731: 3,\n",
              " 139: 11,\n",
              " 803: 1,\n",
              " 1760: 1,\n",
              " 872: 1,\n",
              " 313: 4,\n",
              " 81: 32,\n",
              " 3655: 1,\n",
              " 1454: 1,\n",
              " 35: 118,\n",
              " 179: 4,\n",
              " 116: 20,\n",
              " 131: 17,\n",
              " 5546: 1,\n",
              " 141: 10,\n",
              " 327: 5,\n",
              " 306: 4,\n",
              " 521: 2,\n",
              " 217: 5,\n",
              " 88: 26,\n",
              " 68: 38,\n",
              " 23: 213,\n",
              " 713: 1,\n",
              " 1508: 1,\n",
              " 3470: 1,\n",
              " 286: 2,\n",
              " 50: 64,\n",
              " 193: 9,\n",
              " 312: 4,\n",
              " 587: 1,\n",
              " 9019: 1,\n",
              " 518: 1,\n",
              " 19: 292,\n",
              " 3670: 1,\n",
              " 631: 1,\n",
              " 516: 2,\n",
              " 347: 2,\n",
              " 292: 1,\n",
              " 938: 2,\n",
              " 84: 29,\n",
              " 373: 2,\n",
              " 91: 26,\n",
              " 123: 17,\n",
              " 302: 2,\n",
              " 74: 25,\n",
              " 27: 155,\n",
              " 243: 5,\n",
              " 7: 1389,\n",
              " 1299: 1,\n",
              " 225: 3,\n",
              " 189: 7,\n",
              " 654: 2,\n",
              " 570: 2,\n",
              " 1259: 1,\n",
              " 16: 385,\n",
              " 148: 9,\n",
              " 246: 5,\n",
              " 241: 6,\n",
              " 320: 2,\n",
              " 208: 12,\n",
              " 2027: 1,\n",
              " 230: 10,\n",
              " 37: 104,\n",
              " 625: 2,\n",
              " 75: 39,\n",
              " 90: 30,\n",
              " 1976: 1,\n",
              " 417: 1,\n",
              " 316: 4,\n",
              " 18: 291,\n",
              " 190: 10,\n",
              " 784: 1,\n",
              " 34: 126,\n",
              " 464: 1,\n",
              " 235: 4,\n",
              " 366: 4,\n",
              " 1445: 1,\n",
              " 40: 93,\n",
              " 143: 13,\n",
              " 207: 6,\n",
              " 515: 3,\n",
              " 613: 1,\n",
              " 61: 50,\n",
              " 251: 7,\n",
              " 724: 2,\n",
              " 4560: 1,\n",
              " 394: 2,\n",
              " 300: 2,\n",
              " 221: 5,\n",
              " 188: 3,\n",
              " 565: 1,\n",
              " 297: 3,\n",
              " 147: 8,\n",
              " 8706: 1,\n",
              " 86: 21,\n",
              " 150: 8,\n",
              " 770: 2,\n",
              " 644: 1,\n",
              " 60: 45,\n",
              " 44: 83,\n",
              " 159: 13,\n",
              " 170: 6,\n",
              " 130: 13,\n",
              " 1040: 1,\n",
              " 36: 107,\n",
              " 5707: 1,\n",
              " 3263: 1,\n",
              " 1198: 1,\n",
              " 557: 1,\n",
              " 1609: 1,\n",
              " 364: 3,\n",
              " 290: 3,\n",
              " 10: 794,\n",
              " 744: 3,\n",
              " 406: 1,\n",
              " 69: 45,\n",
              " 737: 2,\n",
              " 326: 1,\n",
              " 1071: 1,\n",
              " 184: 3,\n",
              " 160: 13,\n",
              " 56: 55,\n",
              " 463: 2,\n",
              " 311: 2,\n",
              " 114: 17,\n",
              " 527: 2,\n",
              " 487: 2,\n",
              " 1397: 1,\n",
              " 1152: 1,\n",
              " 185: 6,\n",
              " 168: 5,\n",
              " 535: 1,\n",
              " 92: 24,\n",
              " 665: 1,\n",
              " 109: 17,\n",
              " 2767: 1,\n",
              " 154: 12,\n",
              " 700: 1,\n",
              " 595: 1,\n",
              " 48: 61,\n",
              " 340: 2,\n",
              " 2557: 1,\n",
              " 343: 1,\n",
              " 791: 1,\n",
              " 1329: 1,\n",
              " 151: 11,\n",
              " 89: 27,\n",
              " 133: 10,\n",
              " 305: 1,\n",
              " 409: 2,\n",
              " 258: 4,\n",
              " 215: 4,\n",
              " 244: 5,\n",
              " 213: 4,\n",
              " 846: 1,\n",
              " 295: 2,\n",
              " 617: 1,\n",
              " 376: 2,\n",
              " 266: 3,\n",
              " 446: 1,\n",
              " 573: 1,\n",
              " 227: 4,\n",
              " 112: 18,\n",
              " 488: 2,\n",
              " 395: 3,\n",
              " 891: 1,\n",
              " 263: 3,\n",
              " 552: 1,\n",
              " 202: 9,\n",
              " 210: 4,\n",
              " 7334: 1,\n",
              " 1642: 1,\n",
              " 249: 3,\n",
              " 1278: 1,\n",
              " 14: 448,\n",
              " 442: 2,\n",
              " 224: 6,\n",
              " 165: 11,\n",
              " 1033: 1,\n",
              " 100: 24,\n",
              " 276: 5,\n",
              " 499: 1,\n",
              " 1848: 1,\n",
              " 198: 5,\n",
              " 41: 94,\n",
              " 1462: 1,\n",
              " 2248: 1,\n",
              " 238: 5,\n",
              " 1134: 1,\n",
              " 397: 6,\n",
              " 94: 22,\n",
              " 1922: 1,\n",
              " 422: 1,\n",
              " 513: 2,\n",
              " 502: 1,\n",
              " 158: 8,\n",
              " 769: 1,\n",
              " 275: 4,\n",
              " 455: 2,\n",
              " 157: 9,\n",
              " 581: 1,\n",
              " 400: 1,\n",
              " 115: 13,\n",
              " 1557: 1,\n",
              " 755: 1,\n",
              " 434: 4,\n",
              " 17: 327,\n",
              " 411: 1,\n",
              " 498: 1,\n",
              " 1287: 1,\n",
              " 1928: 1,\n",
              " 1828: 1,\n",
              " 877: 1,\n",
              " 47: 85,\n",
              " 67: 46,\n",
              " 869: 1,\n",
              " 152: 12,\n",
              " 623: 1,\n",
              " 294: 1,\n",
              " 97: 19,\n",
              " 612: 2,\n",
              " 330: 1,\n",
              " 358: 3,\n",
              " 304: 4,\n",
              " 1038: 1,\n",
              " 1871: 1,\n",
              " 492: 2,\n",
              " 711: 1,\n",
              " 315: 3,\n",
              " 267: 3,\n",
              " 1015: 1,\n",
              " 105: 14,\n",
              " 140: 12,\n",
              " 843: 1,\n",
              " 723: 1,\n",
              " 199: 5,\n",
              " 546: 1,\n",
              " 1165: 1,\n",
              " 11786: 1,\n",
              " 234: 6,\n",
              " 274: 2,\n",
              " 95: 27,\n",
              " 293: 3,\n",
              " 482: 1,\n",
              " 319: 4,\n",
              " 432: 1,\n",
              " 413: 1,\n",
              " 226: 2,\n",
              " 550: 1,\n",
              " 110: 20,\n",
              " 127: 24,\n",
              " 288: 4,\n",
              " 465: 1,\n",
              " 250: 4,\n",
              " 209: 5,\n",
              " 686: 1,\n",
              " 303: 2,\n",
              " 192: 8,\n",
              " 163: 9,\n",
              " 237: 5,\n",
              " 122: 18,\n",
              " 1064: 1,\n",
              " 333: 1,\n",
              " 177: 16,\n",
              " 575: 2,\n",
              " 285: 2,\n",
              " 810: 1,\n",
              " 865: 1,\n",
              " 355: 2,\n",
              " 2284: 1,\n",
              " 307: 2,\n",
              " 511: 1,\n",
              " 256: 2,\n",
              " 398: 1,\n",
              " 257: 5,\n",
              " 451: 1,\n",
              " 287: 3,\n",
              " 958: 1,\n",
              " 111: 10,\n",
              " 247: 5,\n",
              " 639: 1,\n",
              " 382: 4,\n",
              " 485: 2,\n",
              " 428: 1,\n",
              " 600: 1,\n",
              " 494: 1,\n",
              " 43: 76,\n",
              " 646: 1,\n",
              " 995: 1,\n",
              " 200: 6,\n",
              " 808: 1,\n",
              " 671: 1,\n",
              " 799: 1,\n",
              " 79: 34,\n",
              " 229: 6,\n",
              " 478: 1,\n",
              " 1255: 1,\n",
              " 1373: 1,\n",
              " 201: 4,\n",
              " 691: 1,\n",
              " 1274: 1,\n",
              " 1447: 2,\n",
              " 669: 1,\n",
              " 440: 1,\n",
              " 771: 1,\n",
              " 308: 3,\n",
              " 425: 1,\n",
              " 76: 30,\n",
              " 574: 1,\n",
              " 909: 1,\n",
              " 774: 2,\n",
              " 753: 1,\n",
              " 534: 1,\n",
              " 914: 1,\n",
              " 1239: 1,\n",
              " 108: 13,\n",
              " 1065: 1,\n",
              " 236: 3,\n",
              " 1451: 1,\n",
              " 1018: 1,\n",
              " 900: 2,\n",
              " 1216: 1,\n",
              " 1019: 1,\n",
              " 684: 1,\n",
              " 233: 3,\n",
              " 650: 2,\n",
              " 387: 1,\n",
              " 554: 2,\n",
              " 145: 6,\n",
              " 450: 3,\n",
              " 52: 58,\n",
              " 738: 2,\n",
              " 252: 2,\n",
              " 1361: 1,\n",
              " 786: 2,\n",
              " 272: 3,\n",
              " 1014: 1,\n",
              " 374: 2,\n",
              " 431: 3,\n",
              " 129: 8,\n",
              " 699: 1,\n",
              " 1090: 1,\n",
              " 205: 3,\n",
              " 424: 1,\n",
              " 960: 1,\n",
              " 281: 4,\n",
              " 172: 6,\n",
              " 456: 1,\n",
              " 837: 1,\n",
              " 430: 2,\n",
              " 350: 3,\n",
              " 228: 4,\n",
              " 888: 1,\n",
              " 391: 2,\n",
              " 1262: 1,\n",
              " 1236: 1,\n",
              " 497: 1,\n",
              " 77: 28,\n",
              " 1988: 1,\n",
              " 268: 1,\n",
              " 410: 2,\n",
              " 1261: 1,\n",
              " 460: 1,\n",
              " 353: 3,\n",
              " 153: 11,\n",
              " 668: 1,\n",
              " 748: 1,\n",
              " 861: 1,\n",
              " 507: 2,\n",
              " 245: 3,\n",
              " 894: 1,\n",
              " 681: 2,\n",
              " 454: 3,\n",
              " 666: 1,\n",
              " 171: 7,\n",
              " 418: 2,\n",
              " 125: 11,\n",
              " 582: 1,\n",
              " 578: 2,\n",
              " 475: 2,\n",
              " 98: 13,\n",
              " 155: 7,\n",
              " 702: 1,\n",
              " 653: 1,\n",
              " 349: 1,\n",
              " 412: 1,\n",
              " 146: 6,\n",
              " 289: 4,\n",
              " 472: 1,\n",
              " 284: 4,\n",
              " 345: 2,\n",
              " 360: 2,\n",
              " 169: 8,\n",
              " 529: 1,\n",
              " 183: 8,\n",
              " 1273: 1,\n",
              " 369: 2,\n",
              " 138: 11,\n",
              " 416: 1,\n",
              " 211: 2,\n",
              " 757: 1,\n",
              " 662: 1,\n",
              " 836: 1,\n",
              " 1357: 1,\n",
              " 568: 1,\n",
              " 444: 3,\n",
              " 388: 1,\n",
              " 590: 1,\n",
              " 218: 3,\n",
              " 137: 6,\n",
              " 173: 4,\n",
              " 203: 4,\n",
              " 1178: 1,\n",
              " 3934: 1,\n",
              " 1034: 1,\n",
              " 916: 1,\n",
              " 219: 6,\n",
              " 135: 16,\n",
              " 380: 1,\n",
              " 531: 1,\n",
              " 144: 12,\n",
              " 2884: 1,\n",
              " 363: 3,\n",
              " 443: 2,\n",
              " 968: 1,\n",
              " 401: 2,\n",
              " 678: 1,\n",
              " 344: 2,\n",
              " 689: 1,\n",
              " 758: 1,\n",
              " 491: 1,\n",
              " 323: 2,\n",
              " 216: 5,\n",
              " 264: 3,\n",
              " 523: 2,\n",
              " 378: 2,\n",
              " 732: 1,\n",
              " 910: 1,\n",
              " 584: 1,\n",
              " 334: 3,\n",
              " 445: 2,\n",
              " 672: 1,\n",
              " 1240: 1,\n",
              " 479: 1,\n",
              " 707: 1,\n",
              " 261: 1,\n",
              " 825: 1,\n",
              " 408: 2,\n",
              " 240: 2,\n",
              " 156: 11,\n",
              " 567: 1,\n",
              " 399: 1,\n",
              " 525: 1,\n",
              " 386: 1,\n",
              " 329: 1,\n",
              " 278: 2,\n",
              " 871: 1,\n",
              " 357: 1,\n",
              " 405: 1,\n",
              " 396: 1,\n",
              " 616: 1,\n",
              " 348: 3,\n",
              " 470: 1,\n",
              " 777: 1,\n",
              " 764: 1,\n",
              " 435: 2,\n",
              " 383: 2,\n",
              " 1692: 1,\n",
              " 747: 1,\n",
              " 718: 1,\n",
              " 174: 7,\n",
              " 239: 1,\n",
              " 273: 1,\n",
              " 903: 1,\n",
              " 685: 1,\n",
              " 259: 5,\n",
              " 940: 1,\n",
              " 509: 1,\n",
              " 809: 1,\n",
              " 647: 1,\n",
              " 549: 1,\n",
              " 223: 3,\n",
              " 182: 9,\n",
              " 551: 1,\n",
              " 452: 1,\n",
              " 881: 1,\n",
              " 596: 1,\n",
              " 178: 4,\n",
              " 371: 2,\n",
              " 298: 1,\n",
              " 423: 1,\n",
              " 1383: 1,\n",
              " 260: 2,\n",
              " 331: 2,\n",
              " 280: 2,\n",
              " 367: 1,\n",
              " 279: 2,\n",
              " 414: 1,\n",
              " 541: 1,\n",
              " 503: 1,\n",
              " 372: 1,\n",
              " 384: 1,\n",
              " 618: 1,\n",
              " 733: 1,\n",
              " 486: 1,\n",
              " 657: 1,\n",
              " 270: 1,\n",
              " 420: 2,\n",
              " 539: 1,\n",
              " 1405: 1,\n",
              " 324: 1,\n",
              " 469: 1,\n",
              " 359: 1,\n",
              " 619: 1,\n",
              " 989: 1,\n",
              " 335: 1,\n",
              " 310: 1,\n",
              " 632: 1,\n",
              " 354: 1,\n",
              " 547: 1,\n",
              " 426: 1}"
            ]
          },
          "metadata": {},
          "execution_count": 30
        }
      ]
    },
    {
      "cell_type": "code",
      "source": [
        "from collections import OrderedDict\n",
        "dict1 = OrderedDict(sorted(count_dict2.items()))\n",
        "print(dict1)"
      ],
      "metadata": {
        "colab": {
          "base_uri": "https://localhost:8080/"
        },
        "id": "OQ5KqJc1I8sd",
        "outputId": "872027d6-2073-4c05-fc51-0c47954b851d"
      },
      "execution_count": null,
      "outputs": [
        {
          "output_type": "stream",
          "name": "stdout",
          "text": [
            "OrderedDict([(3, 5130), (4, 3243), (5, 2261), (6, 1740), (7, 1389), (8, 1100), (9, 991), (10, 794), (11, 686), (12, 646), (13, 515), (14, 448), (15, 414), (16, 385), (17, 327), (18, 291), (19, 292), (20, 277), (21, 245), (22, 260), (23, 213), (24, 206), (25, 175), (26, 211), (27, 155), (28, 141), (29, 154), (30, 161), (31, 127), (32, 143), (33, 105), (34, 126), (35, 118), (36, 107), (37, 104), (38, 91), (39, 100), (40, 93), (41, 94), (42, 101), (43, 76), (44, 83), (45, 78), (46, 80), (47, 85), (48, 61), (49, 61), (50, 64), (51, 60), (52, 58), (53, 63), (54, 63), (55, 61), (56, 55), (57, 55), (58, 54), (59, 51), (60, 45), (61, 50), (62, 39), (63, 45), (64, 50), (65, 52), (66, 42), (67, 46), (68, 38), (69, 45), (70, 45), (71, 43), (72, 43), (73, 37), (74, 25), (75, 39), (76, 30), (77, 28), (78, 27), (79, 34), (80, 27), (81, 32), (82, 43), (83, 29), (84, 29), (85, 29), (86, 21), (87, 35), (88, 26), (89, 27), (90, 30), (91, 26), (92, 24), (93, 31), (94, 22), (95, 27), (96, 24), (97, 19), (98, 13), (99, 23), (100, 24), (101, 15), (102, 28), (103, 22), (104, 22), (105, 14), (106, 12), (107, 16), (108, 13), (109, 17), (110, 20), (111, 10), (112, 18), (113, 17), (114, 17), (115, 13), (116, 20), (117, 16), (118, 13), (119, 16), (120, 12), (121, 12), (122, 18), (123, 17), (124, 15), (125, 11), (126, 16), (127, 24), (128, 22), (129, 8), (130, 13), (131, 17), (132, 9), (133, 10), (134, 19), (135, 16), (136, 20), (137, 6), (138, 11), (139, 11), (140, 12), (141, 10), (142, 17), (143, 13), (144, 12), (145, 6), (146, 6), (147, 8), (148, 9), (149, 12), (150, 8), (151, 11), (152, 12), (153, 11), (154, 12), (155, 7), (156, 11), (157, 9), (158, 8), (159, 13), (160, 13), (161, 9), (162, 7), (163, 9), (164, 5), (165, 11), (166, 7), (167, 7), (168, 5), (169, 8), (170, 6), (171, 7), (172, 6), (173, 4), (174, 7), (175, 7), (176, 12), (177, 16), (178, 4), (179, 4), (180, 7), (181, 5), (182, 9), (183, 8), (184, 3), (185, 6), (186, 10), (187, 6), (188, 3), (189, 7), (190, 10), (191, 6), (192, 8), (193, 9), (194, 7), (195, 8), (196, 8), (197, 4), (198, 5), (199, 5), (200, 6), (201, 4), (202, 9), (203, 4), (204, 5), (205, 3), (206, 8), (207, 6), (208, 12), (209, 5), (210, 4), (211, 2), (212, 7), (213, 4), (214, 9), (215, 4), (216, 5), (217, 5), (218, 3), (219, 6), (220, 9), (221, 5), (222, 3), (223, 3), (224, 6), (225, 3), (226, 2), (227, 4), (228, 4), (229, 6), (230, 10), (231, 4), (232, 2), (233, 3), (234, 6), (235, 4), (236, 3), (237, 5), (238, 5), (239, 1), (240, 2), (241, 6), (242, 6), (243, 5), (244, 5), (245, 3), (246, 5), (247, 5), (248, 4), (249, 3), (250, 4), (251, 7), (252, 2), (253, 5), (254, 5), (255, 6), (256, 2), (257, 5), (258, 4), (259, 5), (260, 2), (261, 1), (262, 4), (263, 3), (264, 3), (265, 6), (266, 3), (267, 3), (268, 1), (269, 4), (270, 1), (271, 5), (272, 3), (273, 1), (274, 2), (275, 4), (276, 5), (277, 1), (278, 2), (279, 2), (280, 2), (281, 4), (283, 3), (284, 4), (285, 2), (286, 2), (287, 3), (288, 4), (289, 4), (290, 3), (291, 6), (292, 1), (293, 3), (294, 1), (295, 2), (296, 6), (297, 3), (298, 1), (299, 2), (300, 2), (302, 2), (303, 2), (304, 4), (305, 1), (306, 4), (307, 2), (308, 3), (309, 2), (310, 1), (311, 2), (312, 4), (313, 4), (315, 3), (316, 4), (319, 4), (320, 2), (322, 2), (323, 2), (324, 1), (325, 2), (326, 1), (327, 5), (328, 2), (329, 1), (330, 1), (331, 2), (333, 1), (334, 3), (335, 1), (338, 1), (340, 2), (342, 4), (343, 1), (344, 2), (345, 2), (347, 2), (348, 3), (349, 1), (350, 3), (353, 3), (354, 1), (355, 2), (357, 1), (358, 3), (359, 1), (360, 2), (361, 2), (363, 3), (364, 3), (365, 1), (366, 4), (367, 1), (369, 2), (371, 2), (372, 1), (373, 2), (374, 2), (376, 2), (377, 3), (378, 2), (380, 1), (382, 4), (383, 2), (384, 1), (386, 1), (387, 1), (388, 1), (390, 3), (391, 2), (394, 2), (395, 3), (396, 1), (397, 6), (398, 1), (399, 1), (400, 1), (401, 2), (404, 1), (405, 1), (406, 1), (407, 1), (408, 2), (409, 2), (410, 2), (411, 1), (412, 1), (413, 1), (414, 1), (415, 1), (416, 1), (417, 1), (418, 2), (420, 2), (422, 1), (423, 1), (424, 1), (425, 1), (426, 1), (427, 2), (428, 1), (429, 3), (430, 2), (431, 3), (432, 1), (434, 4), (435, 2), (438, 1), (440, 1), (441, 2), (442, 2), (443, 2), (444, 3), (445, 2), (446, 1), (448, 3), (449, 2), (450, 3), (451, 1), (452, 1), (454, 3), (455, 2), (456, 1), (457, 2), (460, 1), (463, 2), (464, 1), (465, 1), (469, 1), (470, 1), (472, 1), (475, 2), (476, 2), (478, 1), (479, 1), (480, 4), (482, 1), (485, 2), (486, 1), (487, 2), (488, 2), (491, 1), (492, 2), (494, 1), (496, 1), (497, 1), (498, 1), (499, 1), (502, 1), (503, 1), (504, 1), (505, 2), (506, 1), (507, 2), (509, 1), (511, 1), (513, 2), (515, 3), (516, 2), (518, 1), (519, 1), (521, 2), (523, 2), (524, 1), (525, 1), (526, 2), (527, 2), (529, 1), (531, 1), (534, 1), (535, 1), (539, 1), (540, 2), (541, 1), (542, 2), (545, 1), (546, 1), (547, 1), (549, 1), (550, 1), (551, 1), (552, 1), (554, 2), (557, 1), (565, 1), (567, 1), (568, 1), (569, 1), (570, 2), (573, 1), (574, 1), (575, 2), (576, 1), (578, 2), (581, 1), (582, 1), (584, 1), (585, 1), (587, 1), (589, 3), (590, 1), (595, 1), (596, 1), (598, 1), (600, 1), (611, 1), (612, 2), (613, 1), (616, 1), (617, 1), (618, 1), (619, 1), (623, 1), (624, 1), (625, 2), (630, 2), (631, 1), (632, 1), (633, 1), (639, 1), (641, 2), (644, 1), (646, 1), (647, 1), (650, 2), (653, 1), (654, 2), (657, 1), (661, 1), (662, 1), (665, 1), (666, 1), (667, 1), (668, 1), (669, 1), (671, 1), (672, 1), (678, 1), (681, 2), (684, 1), (685, 1), (686, 1), (687, 2), (689, 1), (690, 2), (691, 1), (693, 2), (694, 1), (697, 1), (699, 1), (700, 1), (702, 1), (707, 1), (711, 1), (713, 1), (716, 1), (718, 1), (723, 1), (724, 2), (725, 2), (729, 1), (731, 3), (732, 1), (733, 1), (737, 2), (738, 2), (744, 3), (747, 1), (748, 1), (753, 1), (755, 1), (757, 1), (758, 1), (764, 1), (769, 1), (770, 2), (771, 1), (774, 2), (777, 1), (783, 1), (784, 1), (786, 2), (791, 1), (799, 1), (803, 1), (808, 1), (809, 1), (810, 1), (817, 1), (819, 1), (825, 1), (831, 1), (835, 1), (836, 1), (837, 1), (843, 1), (846, 1), (856, 1), (861, 1), (865, 1), (869, 1), (871, 1), (872, 1), (877, 1), (881, 1), (888, 1), (891, 1), (894, 1), (900, 2), (903, 1), (909, 1), (910, 1), (914, 1), (916, 1), (938, 2), (940, 1), (957, 1), (958, 1), (960, 1), (966, 2), (968, 1), (974, 1), (979, 2), (984, 1), (989, 1), (995, 1), (1014, 1), (1015, 1), (1018, 1), (1019, 1), (1033, 1), (1034, 1), (1038, 1), (1039, 1), (1040, 1), (1064, 1), (1065, 1), (1071, 1), (1075, 1), (1083, 2), (1090, 1), (1102, 1), (1134, 1), (1152, 1), (1165, 1), (1178, 1), (1194, 1), (1198, 1), (1216, 1), (1236, 1), (1239, 1), (1240, 1), (1255, 1), (1259, 1), (1261, 1), (1262, 1), (1272, 1), (1273, 1), (1274, 1), (1278, 1), (1279, 1), (1287, 1), (1299, 1), (1319, 1), (1320, 1), (1329, 1), (1357, 1), (1361, 1), (1364, 1), (1370, 1), (1373, 1), (1383, 1), (1397, 1), (1405, 1), (1445, 1), (1447, 2), (1448, 1), (1451, 1), (1454, 1), (1462, 1), (1465, 1), (1488, 1), (1498, 1), (1508, 1), (1524, 1), (1557, 1), (1584, 1), (1601, 1), (1609, 1), (1642, 1), (1668, 1), (1692, 1), (1702, 1), (1760, 1), (1765, 1), (1771, 1), (1801, 1), (1828, 1), (1848, 1), (1871, 1), (1877, 1), (1918, 1), (1922, 1), (1928, 1), (1976, 1), (1988, 1), (2027, 1), (2061, 1), (2077, 1), (2127, 1), (2137, 1), (2248, 1), (2284, 1), (2332, 1), (2402, 1), (2443, 1), (2557, 1), (2607, 1), (2655, 1), (2690, 1), (2729, 1), (2767, 1), (2884, 1), (3029, 1), (3263, 1), (3325, 1), (3470, 1), (3565, 1), (3655, 1), (3670, 1), (3749, 1), (3842, 1), (3877, 1), (3894, 1), (3910, 1), (3934, 1), (4006, 1), (4233, 1), (4242, 1), (4290, 1), (4560, 1), (4714, 1), (4859, 1), (5546, 1), (5707, 1), (6250, 1), (7334, 1), (8706, 1), (9019, 1), (9070, 1), (9229, 1), (9273, 1), (11691, 1), (11786, 1), (11992, 1), (12004, 1), (12718, 1), (13012, 1), (13794, 1), (14351, 1), (14936, 1), (15058, 1), (15140, 1), (16906, 1), (18484, 1), (21008, 1), (29570, 1), (36523, 1), (39521, 1), (45015, 1), (50735, 1), (54625, 1), (57030, 1), (83397, 1), (102615, 1), (130768, 1)])\n"
          ]
        }
      ]
    },
    {
      "cell_type": "code",
      "source": [
        "plt.figure(figsize=(16, 4))\n",
        "plt.violinplot(dict1, vert=False);"
      ],
      "metadata": {
        "colab": {
          "base_uri": "https://localhost:8080/",
          "height": 272
        },
        "id": "pWy9J9-3JLKX",
        "outputId": "a10f963c-42c8-415c-c210-834d4da9d3c2"
      },
      "execution_count": null,
      "outputs": [
        {
          "output_type": "display_data",
          "data": {
            "text/plain": [
              "<Figure size 1600x400 with 1 Axes>"
            ],
            "image/png": "[encoded data removed]"
          },
          "metadata": {}
        }
      ]
    },
    {
      "cell_type": "code",
      "source": [
        "freqs = Counter()\n",
        "for tokens in map(tokenizer, f_train2):\n",
        "  freqs.update(tokens)"
      ],
      "metadata": {
        "id": "GTBJs2FRUOvF"
      },
      "execution_count": null,
      "outputs": []
    },
    {
      "cell_type": "code",
      "source": [
        "freqs.most_common()[:10]"
      ],
      "metadata": {
        "colab": {
          "base_uri": "https://localhost:8080/"
        },
        "id": "Lb-eZqHyUSdA",
        "outputId": "b6030d7a-4724-4bdc-c710-c4a29fd6bff6"
      },
      "execution_count": null,
      "outputs": [
        {
          "output_type": "execute_result",
          "data": {
            "text/plain": [
              "[('the', 130768),\n",
              " (',', 102615),\n",
              " ('.', 83397),\n",
              " ('of', 57030),\n",
              " ('<unk>', 54625),\n",
              " ('and', 50735),\n",
              " ('in', 45015),\n",
              " ('to', 39521),\n",
              " ('a', 36523),\n",
              " ('=', 29570)]"
            ]
          },
          "metadata": {},
          "execution_count": 34
        }
      ]
    },
    {
      "cell_type": "code",
      "source": [
        "freqs.most_common()[-10:]"
      ],
      "metadata": {
        "colab": {
          "base_uri": "https://localhost:8080/"
        },
        "id": "5PAWr4-CUP_9",
        "outputId": "e5691c53-6f10-4664-f6b4-e43f495c0e79"
      },
      "execution_count": null,
      "outputs": [
        {
          "output_type": "execute_result",
          "data": {
            "text/plain": [
              "[('philipp', 3),\n",
              " ('prefaced', 3),\n",
              " ('kreutzer', 3),\n",
              " ('forrester', 3),\n",
              " ('zoromski', 3),\n",
              " ('roundabouts', 3),\n",
              " ('tuscola', 3),\n",
              " ('northeasterly', 3),\n",
              " ('intergrades', 3),\n",
              " ('gallinae', 3)]"
            ]
          },
          "metadata": {},
          "execution_count": 35
        }
      ]
    },
    {
      "cell_type": "markdown",
      "source": [
        "## **4-4. Transform the data**"
      ],
      "metadata": {
        "id": "7VELL11wOiZ9"
      }
    },
    {
      "cell_type": "markdown",
      "source": [
        "Make sure to perform the transformations on train, validation and test datasets."
      ],
      "metadata": {
        "id": "2VjvBOtvHu2v"
      }
    },
    {
      "cell_type": "markdown",
      "source": [
        "🔰 Reshape the dataset into an `N x B x L` or `M x L` format, where `N` represents the number of batches, `B` is the batch size, `L` is the length of a sample within each batch, and `M` is equal to `N x B`."
      ],
      "metadata": {
        "id": "ApisIcGeGSsJ"
      }
    },
    {
      "cell_type": "code",
      "source": [
        "def data_process(raw_text_iter, seq_len):\n",
        "  # Create a tensor that is concatenation of all tokens\n",
        "  data = torch.cat([torch.LongTensor(vocab(tokenizer(line))) for line in raw_text_iter])\n",
        "\n",
        "  M = len(data) // seq_len\n",
        "\n",
        "  # We want to reshape our big tensor to M*L. To do this we should be confident that our shape of big tensor is divisible to seq_len\n",
        "  # If it is not divisible, we add one element at the big tensor.\n",
        "  r = len(data) % seq_len\n",
        "  data = torch.cat((data, torch.LongTensor([0]))) if r==0 else data\n",
        "\n",
        "  # Put aside addition elements\n",
        "  inputs = data[:M*seq_len]\n",
        "  inputs = inputs.reshape(-1, seq_len)\n",
        "\n",
        "  # Target is shifted input\n",
        "  targets = data[1:M*seq_len+1]\n",
        "  targets = targets.reshape(-1, seq_len)\n",
        "\n",
        "  return inputs, targets"
      ],
      "metadata": {
        "id": "C8l_Vz-QfgL0"
      },
      "execution_count": null,
      "outputs": []
    },
    {
      "cell_type": "code",
      "source": [
        "X_train, y_train = data_process(f_train2, seq_len)\n",
        "X_valid, y_valid = data_process(valid_iter, seq_len)\n",
        "X_test, y_test = data_process(test_iter, seq_len)\n",
        "\n",
        "X_train.shape, y_train.shape, X_valid.shape, y_valid.shape, X_test.shape, y_test.shape"
      ],
      "metadata": {
        "colab": {
          "base_uri": "https://localhost:8080/"
        },
        "id": "XGNNq9BNflX_",
        "outputId": "a95ce15b-b257-446d-e7b9-199076b7762e"
      },
      "execution_count": null,
      "outputs": [
        {
          "output_type": "execute_result",
          "data": {
            "text/plain": [
              "(torch.Size([29285, 70]),\n",
              " torch.Size([29285, 70]),\n",
              " torch.Size([3063, 70]),\n",
              " torch.Size([3063, 70]),\n",
              " torch.Size([3455, 70]),\n",
              " torch.Size([3455, 70]))"
            ]
          },
          "metadata": {},
          "execution_count": 37
        }
      ]
    },
    {
      "cell_type": "markdown",
      "source": [
        "##  **4-5. Custom dataset**"
      ],
      "metadata": {
        "id": "PgLgP04P4-aX"
      }
    },
    {
      "cell_type": "code",
      "source": [
        "class LanguageModelDataset(Dataset):\n",
        "\n",
        "  def __init__(self, inputs, targets):\n",
        "    self.inputs = inputs\n",
        "    self.targets = targets\n",
        "\n",
        "  def __len__(self):\n",
        "    return self.inputs.shape[0]\n",
        "\n",
        "  def __getitem__(self, idx):\n",
        "    input = self.inputs[idx]\n",
        "    target = self.targets[idx]\n",
        "    return input, target\n"
      ],
      "metadata": {
        "id": "6OHIcn80m7oJ"
      },
      "execution_count": null,
      "outputs": []
    },
    {
      "cell_type": "code",
      "source": [
        "train_set = LanguageModelDataset(X_train, y_train)\n",
        "valid_set = LanguageModelDataset(X_valid, y_valid)\n",
        "test_set = LanguageModelDataset(X_test, y_test)"
      ],
      "metadata": {
        "id": "j7h2-TjCkoWQ"
      },
      "execution_count": null,
      "outputs": []
    },
    {
      "cell_type": "code",
      "source": [
        "train_set[0]"
      ],
      "metadata": {
        "colab": {
          "base_uri": "https://localhost:8080/"
        },
        "id": "NRQybyi_kqyd",
        "outputId": "4e24a773-0c8e-41fb-defe-6ab20f2c14ef"
      },
      "execution_count": null,
      "outputs": [
        {
          "output_type": "execute_result",
          "data": {
            "text/plain": [
              "(tensor([    9,  3849,  3869,   881,     9, 20000,    83,  3849,    88,     0,\n",
              "          3869,    21,   780, 28780,     2,  6182,     3,  3849,     4,     1,\n",
              "          5023,    88,    20,     2,  1837,  1018,     7,    14,  3849,  3869,\n",
              "           881,   629,   976,     2,    23,     8,  5790,   299,    12,   575,\n",
              "           232,    67,   452,    19, 13722,     5,   757,     3,  2500,    17,\n",
              "             1,  1767,  5637,     3,   155,     6,   246,   354,     6,   976,\n",
              "             2,    24,    23,     1,   237,    67,     6,     1,  3849,    93]),\n",
              " tensor([ 3849,  3869,   881,     9, 20000,    83,  3849,    88,     0,  3869,\n",
              "            21,   780, 28780,     2,  6182,     3,  3849,     4,     1,  5023,\n",
              "            88,    20,     2,  1837,  1018,     7,    14,  3849,  3869,   881,\n",
              "           629,   976,     2,    23,     8,  5790,   299,    12,   575,   232,\n",
              "            67,   452,    19, 13722,     5,   757,     3,  2500,    17,     1,\n",
              "          1767,  5637,     3,   155,     6,   246,   354,     6,   976,     2,\n",
              "            24,    23,     1,   237,    67,     6,     1,  3849,    93,     3]))"
            ]
          },
          "metadata": {},
          "execution_count": 40
        }
      ]
    },
    {
      "cell_type": "code",
      "source": [
        "train_set[1]"
      ],
      "metadata": {
        "colab": {
          "base_uri": "https://localhost:8080/"
        },
        "id": "ItjqPAXJkt72",
        "outputId": "0d443254-7ce6-45e8-8425-838fe3407712"
      },
      "execution_count": null,
      "outputs": [
        {
          "output_type": "execute_result",
          "data": {
            "text/plain": [
              "(tensor([    3,     0,     1,   156,  4419,     4,  5790,     5,   729,    12,\n",
              "            58,  2096,    14,    43,  7075,     2,     1,   333,  1085,  3218,\n",
              "             7,     1,    37,    67,     5,  1694,     1, 11219,     2,     8,\n",
              "         19698,   313,  1063,  2082,     1,  1702,     4, 19009,    56,     1,\n",
              "            95, 25357,   107,    52,  1938,  1644,   288,   598,     5,    34,\n",
              "         13620,   120,     1,  2321,  1063,     0, 14742,     3,     1,    67,\n",
              "           135,   369,     6,   297,     2,  3245,    65,     8,   184,  1742]),\n",
              " tensor([    0,     1,   156,  4419,     4,  5790,     5,   729,    12,    58,\n",
              "          2096,    14,    43,  7075,     2,     1,   333,  1085,  3218,     7,\n",
              "             1,    37,    67,     5,  1694,     1, 11219,     2,     8, 19698,\n",
              "           313,  1063,  2082,     1,  1702,     4, 19009,    56,     1,    95,\n",
              "         25357,   107,    52,  1938,  1644,   288,   598,     5,    34, 13620,\n",
              "           120,     1,  2321,  1063,     0, 14742,     3,     1,    67,   135,\n",
              "           369,     6,   297,     2,  3245,    65,     8,   184,  1742,     4]))"
            ]
          },
          "metadata": {},
          "execution_count": 41
        }
      ]
    },
    {
      "cell_type": "markdown",
      "source": [
        "## **4-6. Define dataloader**"
      ],
      "metadata": {
        "id": "NCQjacybOfqV"
      }
    },
    {
      "cell_type": "code",
      "source": [
        "set_seed(seed)\n",
        "\n",
        "train_loader = DataLoader(train_set, batch_size=batch_size, shuffle=True)\n",
        "valid_loader = DataLoader(valid_set, batch_size=batch_size, shuffle=False)\n",
        "test_loader = DataLoader(test_set, batch_size=batch_size, shuffle=False)"
      ],
      "metadata": {
        "id": "aHVPQxGEjvbA"
      },
      "execution_count": null,
      "outputs": []
    },
    {
      "cell_type": "code",
      "source": [
        "x_batch, y_batch = next(iter(train_loader))\n",
        "x_batch.shape, y_batch.shape"
      ],
      "metadata": {
        "colab": {
          "base_uri": "https://localhost:8080/"
        },
        "id": "V8noq1D3k2Z7",
        "outputId": "78f9352f-dbc0-43e0-b76f-9fdb129b5862"
      },
      "execution_count": null,
      "outputs": [
        {
          "output_type": "execute_result",
          "data": {
            "text/plain": [
              "(torch.Size([80, 70]), torch.Size([80, 70]))"
            ]
          },
          "metadata": {},
          "execution_count": 43
        }
      ]
    },
    {
      "cell_type": "markdown",
      "source": [
        "#  **5. Model**"
      ],
      "metadata": {
        "id": "3ttl0AK3Hvyh"
      }
    },
    {
      "cell_type": "markdown",
      "source": [
        "🔰 Use the following template to create a custom model.\n",
        "\n",
        "Your model should consist of three parts:\n",
        "\n",
        "*   an embedding layer\n",
        "*   an LSTM layer\n",
        "*   a fully connected layer"
      ],
      "metadata": {
        "id": "06p-oBowTf-R"
      }
    },
    {
      "cell_type": "code",
      "source": [
        "# Dropout on embedding weights\n",
        "\n",
        "def embedded_dropout(embed, words, dropout=0.1, scale=None):\n",
        "  if dropout:\n",
        "    mask = embed.weight.data.new().resize_((embed.weight.size(0), 1)).bernoulli_(1 - dropout).expand_as(\n",
        "        embed.weight) / (1 - dropout)\n",
        "    masked_embed_weight = mask * embed.weight\n",
        "  else:\n",
        "    masked_embed_weight = embed.weight\n",
        "  if scale:\n",
        "    masked_embed_weight = scale.expand_as(masked_embed_weight) * masked_embed_weight\n",
        "\n",
        "  padding_idx = embed.padding_idx\n",
        "  if padding_idx is None:\n",
        "    padding_idx = -1\n",
        "\n",
        "  embedding = torch.nn.functional.embedding(words, masked_embed_weight,\n",
        "                                            padding_idx, embed.max_norm, embed.norm_type,\n",
        "                                            embed.scale_grad_by_freq, embed.sparse)\n",
        "  return embedding"
      ],
      "metadata": {
        "id": "it8m1A6CBH2V"
      },
      "execution_count": null,
      "outputs": []
    },
    {
      "cell_type": "code",
      "source": [
        "class LockedDropout(nn.Module):\n",
        "  def __init__(self):\n",
        "    super(LockedDropout, self).__init__()\n",
        "\n",
        "  def forward(self, x, dropout):\n",
        "    if not self.training or not dropout:\n",
        "      return x\n",
        "\n",
        "    #in first dimension we put 1,because we want that mask for all time steps be the same\n",
        "    # 1 = seq lenght (L) // x.size(1) = batch size (B) // x.size(2) = embed dimension (f) ///// (position of L and B changed here)\n",
        "    m = x.data.new(1, x.size(1), x.size(2)).bernoulli_(1 - dropout)\n",
        "    mask = m.requires_grad_(False) / (1 - dropout)\n",
        "    mask = mask.expand_as(x)\n",
        "    return mask * x"
      ],
      "metadata": {
        "id": "usaB23fVBMxv"
      },
      "execution_count": null,
      "outputs": []
    },
    {
      "cell_type": "code",
      "source": [
        "class LanguageModel(nn.Module):\n",
        "  def __init__(self, vocab_size, embedding_dim, hidden_dim, num_layers, dropoute=0.2, dropouti=0.2, dropouth=0.2, dropouto=0.2):\n",
        "    super(LanguageModel, self).__init__()\n",
        "\n",
        "    self.num_layers = num_layers\n",
        "\n",
        "    self.embedding = nn.Embedding(vocab_size, embedding_dim)\n",
        "    self.embedding.weight.data.uniform_(-0.1, 0.1)\n",
        "    # self.dropout = nn.Dropout(p=dropout_embd)\n",
        "\n",
        "    # batch_first=True : batch would be first dimension\n",
        "    self.lstms = []\n",
        "    # batch_first=False :: because input should be L*B*F (because of lockdrop)/ Before lockdrop it was B*L*F so we used to set batch_first=True\n",
        "    # Although we could change the lockdrop code so we don't need to change the order of dimensions\n",
        "    self.lstms.append(nn.LSTM(embedding_dim, hidden_dim, num_layers=1, dropout=0, batch_first=False))\n",
        "    self.lstms.append(nn.LSTM(hidden_dim, hidden_dim, num_layers=1, dropout=0, batch_first=False))\n",
        "    self.lstms.append(nn.LSTM(hidden_dim, embedding_dim, num_layers=1, dropout=0, batch_first=False))\n",
        "    self.lstms = nn.ModuleList(self.lstms)\n",
        "\n",
        "    self.fc = nn.Linear(embedding_dim, vocab_size)\n",
        "\n",
        "    # weght tying. identical address weight(we don't copy, just we set both address in ram identical)\n",
        "    # It results less params\n",
        "    self.embedding.weight =  self.fc.weight\n",
        "\n",
        "    self.lockdrop = LockedDropout()\n",
        "    self.dropoute = dropoute\n",
        "    self.dropouti = dropouti\n",
        "    self.dropouth = dropouth\n",
        "    self.dropouto = dropouto\n",
        "\n",
        "\n",
        "  def forward(self, src):\n",
        "    #src = torch.Size([20, 35])\n",
        "    embedding = embedded_dropout(self.embedding, src, dropout=self.dropoute if self.training else 0)\n",
        "    embedding = self.lockdrop(embedding, self.dropouti)\n",
        "\n",
        "    new_hidden =[]\n",
        "    for l, lstm in enumerate(self.lstms):\n",
        "      embedding, _ = lstm(embedding)\n",
        "      if l != self.num_layers-1:\n",
        "        embedding = self.lockdrop(embedding, self.dropouth)\n",
        "\n",
        "    embedding = self.lockdrop(embedding, self.dropouto)\n",
        "\n",
        "    # output, hidden = self.lstm(embed) # torch.Size([20, 35, 512])\n",
        "    out = self.fc(embedding)\n",
        "\n",
        "    return out"
      ],
      "metadata": {
        "id": "ISnnHE0BMVqp"
      },
      "execution_count": null,
      "outputs": []
    },
    {
      "cell_type": "code",
      "source": [
        "model = LanguageModel(vocab_size=len(vocab),\n",
        "                      embedding_dim=embedding_dim,\n",
        "                      hidden_dim=hidden_dim,\n",
        "                      num_layers=num_layers,\n",
        "                      dropoute=dropoute, dropouti=dropouti,\n",
        "                      dropouth=dropouth, dropouto=dropouto)\n",
        "model"
      ],
      "metadata": {
        "id": "2MgBVzorb9oQ",
        "colab": {
          "base_uri": "https://localhost:8080/"
        },
        "outputId": "4b661277-8ac1-421f-9c04-72c028486876"
      },
      "execution_count": null,
      "outputs": [
        {
          "output_type": "execute_result",
          "data": {
            "text/plain": [
              "LanguageModel(\n",
              "  (embedding): Embedding(28782, 400)\n",
              "  (lstms): ModuleList(\n",
              "    (0): LSTM(400, 1150)\n",
              "    (1): LSTM(1150, 1150)\n",
              "    (2): LSTM(1150, 400)\n",
              "  )\n",
              "  (fc): Linear(in_features=400, out_features=28782, bias=True)\n",
              "  (lockdrop): LockedDropout()\n",
              ")"
            ]
          },
          "metadata": {},
          "execution_count": 47
        }
      ]
    },
    {
      "cell_type": "code",
      "source": [
        "# Number of parameters:\n",
        "print('params of model : ', num_trainable_params(model))\n",
        "print('params of embedding : ', num_trainable_params(model.embedding))\n",
        "print('params of lstm : ', num_trainable_params(model.lstms))\n",
        "print('params of fc :', num_trainable_params(model.fc))"
      ],
      "metadata": {
        "colab": {
          "base_uri": "https://localhost:8080/"
        },
        "id": "wY94XcuGYluS",
        "outputId": "a1dfdb06-1e17-4663-f8f5-e1c34a546dfa"
      },
      "execution_count": null,
      "outputs": [
        {
          "output_type": "stream",
          "name": "stdout",
          "text": [
            "params of model :  31.753182\n",
            "params of embedding :  11.5128\n",
            "params of lstm :  20.2116\n",
            "params of fc : 11.541582\n"
          ]
        }
      ]
    },
    {
      "cell_type": "code",
      "source": [
        "model(x_batch.t()).shape, x_batch.shape"
      ],
      "metadata": {
        "colab": {
          "base_uri": "https://localhost:8080/"
        },
        "id": "4w-EFeBNH9l_",
        "outputId": "208a3a41-c52a-4d84-9735-dd7e588cc3a3"
      },
      "execution_count": null,
      "outputs": [
        {
          "output_type": "execute_result",
          "data": {
            "text/plain": [
              "(torch.Size([70, 80, 28782]), torch.Size([80, 70]))"
            ]
          },
          "metadata": {},
          "execution_count": 49
        }
      ]
    },
    {
      "cell_type": "markdown",
      "source": [
        "# **6. Config**"
      ],
      "metadata": {
        "id": "24qT-sgUO2-d"
      }
    },
    {
      "cell_type": "code",
      "source": [
        "device = 'cuda' if torch.cuda.is_available() else 'cpu'\n",
        "device"
      ],
      "metadata": {
        "id": "dQbHSUgPmDwz",
        "colab": {
          "base_uri": "https://localhost:8080/",
          "height": 35
        },
        "outputId": "2eeb9273-5967-4afa-cd85-bf99b7c6c15a"
      },
      "execution_count": null,
      "outputs": [
        {
          "output_type": "execute_result",
          "data": {
            "text/plain": [
              "'cuda'"
            ],
            "application/vnd.google.colaboratory.intrinsic+json": {
              "type": "string"
            }
          },
          "metadata": {},
          "execution_count": 50
        }
      ]
    },
    {
      "cell_type": "code",
      "source": [
        "model = model.to(device)"
      ],
      "metadata": {
        "id": "j3dhszk7mu2T"
      },
      "execution_count": null,
      "outputs": []
    },
    {
      "cell_type": "code",
      "source": [
        "loss_fn = nn.CrossEntropyLoss()\n",
        "loss_fn"
      ],
      "metadata": {
        "id": "GM1eavDEm79_",
        "colab": {
          "base_uri": "https://localhost:8080/"
        },
        "outputId": "db0cb3fc-8dda-4878-e329-b8b8f97f7bde"
      },
      "execution_count": null,
      "outputs": [
        {
          "output_type": "execute_result",
          "data": {
            "text/plain": [
              "CrossEntropyLoss()"
            ]
          },
          "metadata": {},
          "execution_count": 52
        }
      ]
    },
    {
      "cell_type": "code",
      "source": [
        "metric = tm.text.Perplexity().to(device)\n",
        "metric"
      ],
      "metadata": {
        "id": "m1Bt9Cdgqitr",
        "colab": {
          "base_uri": "https://localhost:8080/"
        },
        "outputId": "4dabc610-a10e-4cd5-9115-497a65babd42"
      },
      "execution_count": null,
      "outputs": [
        {
          "output_type": "execute_result",
          "data": {
            "text/plain": [
              "Perplexity()"
            ]
          },
          "metadata": {},
          "execution_count": 53
        }
      ]
    },
    {
      "cell_type": "code",
      "source": [
        "key_file = '/content/key.txt'\n",
        "\n",
        "if os.path.exists(key_file):\n",
        "    with open(key_file) as f:\n",
        "        key = f.readline().strip()\n",
        "    wandb.login(key=key)\n",
        "else:\n",
        "    print(\"Key file does not exist. Please create the key file with your wandb API key.\")"
      ],
      "metadata": {
        "id": "xY3yI_A6kllH"
      },
      "execution_count": null,
      "outputs": []
    },
    {
      "cell_type": "markdown",
      "source": [
        "#  **7. Train**"
      ],
      "metadata": {
        "id": "W0QNbC0YPCKZ"
      }
    },
    {
      "cell_type": "code",
      "source": [
        "def train_one_epoch(model, train_loader, loss_fn, optimizer, metric, epoch=None):\n",
        "  model.train()\n",
        "  loss_train = AverageMeter()\n",
        "  metric.reset()\n",
        "\n",
        "  with tqdm.tqdm(train_loader, unit='batch') as tepoch:\n",
        "    for inputs, targets in tepoch:\n",
        "      if epoch is not None:\n",
        "        tepoch.set_description(f'Epoch {epoch}')\n",
        "\n",
        "      inputs = inputs.t().to(device)\n",
        "      targets = targets.t().to(device)\n",
        "\n",
        "      outputs = model(inputs)\n",
        "\n",
        "      # loss = loss_fn(outputs, targets)\n",
        "      loss = loss_fn(outputs.reshape(-1, outputs.shape[-1]), targets.flatten())\n",
        "      loss.backward()\n",
        "      nn.utils.clip_grad.clip_grad_norm_(model.parameters(), max_norm=clip)\n",
        "\n",
        "      optimizer.step()\n",
        "      optimizer.zero_grad()\n",
        "\n",
        "      loss_train.update(loss.item(), n=len(targets))\n",
        "      metric.update(outputs, targets)\n",
        "\n",
        "      tepoch.set_postfix(loss=loss_train.avg, metric=metric.compute().item())\n",
        "\n",
        "  return model, loss_train.avg, metric.compute().item()"
      ],
      "metadata": {
        "id": "gP8DtDfjoA3h"
      },
      "execution_count": null,
      "outputs": []
    },
    {
      "cell_type": "markdown",
      "source": [
        "#  **8. Evaluation**"
      ],
      "metadata": {
        "id": "G9HgVWslPGsH"
      }
    },
    {
      "cell_type": "code",
      "source": [
        "def evaluate(model, test_loader, loss_fn, metric):\n",
        "  model.eval()\n",
        "  loss_eval = AverageMeter()\n",
        "  metric.reset()\n",
        "\n",
        "  with torch.inference_mode():\n",
        "    for inputs, targets in test_loader:\n",
        "      inputs = inputs.t().to(device)\n",
        "      targets = targets.t().to(device)\n",
        "\n",
        "      outputs = model(inputs)\n",
        "\n",
        "      loss = loss_fn(outputs.reshape(-1, outputs.shape[-1]), targets.flatten())\n",
        "      loss_eval.update(loss.item(), n=len(targets))\n",
        "\n",
        "      metric(outputs, targets)\n",
        "\n",
        "  return loss_eval.avg, metric.compute().item()"
      ],
      "metadata": {
        "id": "FIdIy0agoKZs"
      },
      "execution_count": null,
      "outputs": []
    },
    {
      "cell_type": "markdown",
      "source": [
        "#  **9. Training Process**"
      ],
      "metadata": {
        "id": "o_5f69nwPtY2"
      }
    },
    {
      "cell_type": "markdown",
      "source": [
        "## **9-1. Train Model**"
      ],
      "metadata": {
        "id": "De7VreNxQdct"
      }
    },
    {
      "cell_type": "code",
      "source": [
        "torch.cuda.empty_cache()"
      ],
      "metadata": {
        "id": "pCN5lnRIMbG_"
      },
      "execution_count": null,
      "outputs": []
    },
    {
      "cell_type": "code",
      "source": [
        "set_seed(seed)\n",
        "train_loader = DataLoader(train_set, batch_size=batch_size, shuffle=True)"
      ],
      "metadata": {
        "id": "by3aWC4rMegw"
      },
      "execution_count": null,
      "outputs": []
    },
    {
      "cell_type": "code",
      "source": [
        "set_seed(seed)\n",
        "\n",
        "model = LanguageModel(vocab_size=len(vocab),\n",
        "                      embedding_dim=embedding_dim,\n",
        "                      hidden_dim=hidden_dim,\n",
        "                      num_layers=num_layers,\n",
        "                      dropoute=dropoute, dropouti=dropouti,\n",
        "                      dropouth=dropouth, dropouto=dropouto).to(device)\n",
        "model"
      ],
      "metadata": {
        "id": "ds6guyyFL-Bs",
        "colab": {
          "base_uri": "https://localhost:8080/"
        },
        "outputId": "838ad68e-9a21-400c-bbda-dba65d0437b3"
      },
      "execution_count": null,
      "outputs": [
        {
          "output_type": "execute_result",
          "data": {
            "text/plain": [
              "LanguageModel(\n",
              "  (embedding): Embedding(28782, 400)\n",
              "  (lstms): ModuleList(\n",
              "    (0): LSTM(400, 1150)\n",
              "    (1): LSTM(1150, 1150)\n",
              "    (2): LSTM(1150, 400)\n",
              "  )\n",
              "  (fc): Linear(in_features=400, out_features=28782, bias=True)\n",
              "  (lockdrop): LockedDropout()\n",
              ")"
            ]
          },
          "metadata": {},
          "execution_count": 59
        }
      ]
    },
    {
      "cell_type": "code",
      "source": [
        "# Initialize wandb\n",
        "if wandb_enable:\n",
        "  wandb.init(\n",
        "      project='Language_Model',\n",
        "      name=wandb_arg_name,\n",
        "      config={\n",
        "          'lr': lr,\n",
        "          'momentum': momentum,\n",
        "          'batch_size': batch_size,\n",
        "          'seq_len': seq_len,\n",
        "          'hidden_dim': hidden_dim,\n",
        "          'embedding_dim': embedding_dim,\n",
        "          'num_layers': num_layers,\n",
        "          'clip': clip,\n",
        "      }\n",
        "  )"
      ],
      "metadata": {
        "id": "-EORHEviMvrm"
      },
      "execution_count": null,
      "outputs": []
    },
    {
      "cell_type": "code",
      "source": [
        "loss_train_hist = []\n",
        "loss_valid_hist = []\n",
        "\n",
        "metric_train_hist = []\n",
        "metric_valid_hist = []\n",
        "\n",
        "best_loss_valid = torch.inf\n",
        "epoch_counter = 0"
      ],
      "metadata": {
        "id": "hfFLRPXlWaPv"
      },
      "execution_count": null,
      "outputs": []
    },
    {
      "cell_type": "markdown",
      "source": [
        "#### **First_Try / lr = 8**"
      ],
      "metadata": {
        "id": "Yem0L2C_jy9D"
      }
    },
    {
      "cell_type": "code",
      "source": [
        "lr = 8.0\n",
        "wd = 1e-06\n",
        "optimizer = optim.SGD(model.parameters(), lr=lr, weight_decay=wd, momentum=0.9)"
      ],
      "metadata": {
        "id": "8yLdn2lzL-Bt"
      },
      "execution_count": null,
      "outputs": []
    },
    {
      "cell_type": "code",
      "source": [
        "set_seed(seed)\n",
        "\n",
        "num_epochs = 50\n",
        "\n",
        "for epoch in range(1, num_epochs+1):\n",
        "  # Train\n",
        "  model, loss_train, metric_train = train_one_epoch(model,\n",
        "                                                    train_loader,\n",
        "                                                    loss_fn,\n",
        "                                                    optimizer,\n",
        "                                                    metric,\n",
        "                                                    epoch)\n",
        "  # Validation\n",
        "  loss_valid, metric_valid = evaluate(model,\n",
        "                                      valid_loader,\n",
        "                                      loss_fn,\n",
        "                                      metric)\n",
        "\n",
        "  loss_train_hist.append(loss_train)\n",
        "  loss_valid_hist.append(loss_valid)\n",
        "\n",
        "  metric_train_hist.append(metric_train)\n",
        "  metric_valid_hist.append(metric_valid)\n",
        "\n",
        "  if loss_valid < best_loss_valid:\n",
        "    torch.save(model, f'model_{epoch}.pt')\n",
        "    best_loss_valid = loss_valid\n",
        "    print('Model Saved!')\n",
        "\n",
        "  print(f'Valid: Loss = {loss_valid:.4}, Metric = {metric_valid:.4}')\n",
        "  print()\n",
        "\n",
        "  if wandb_enable:\n",
        "    wandb.log({\"metric_train\": metric_train, \"loss_train\": loss_train,\n",
        "                \"metric_valid\": metric_valid, \"loss_valid\": loss_valid})\n",
        "\n",
        "  epoch_counter += 1"
      ],
      "metadata": {
        "id": "X-ryJomXL-Bv",
        "colab": {
          "base_uri": "https://localhost:8080/"
        },
        "outputId": "ed635a24-a8aa-430f-d601-fccbd8478b26"
      },
      "execution_count": null,
      "outputs": [
        {
          "metadata": {
            "tags": null
          },
          "name": "stderr",
          "output_type": "stream",
          "text": [
            "Epoch 1: 100%|██████████| 367/367 [02:23<00:00,  2.55batch/s, loss=6.62, metric=747]\n"
          ]
        },
        {
          "metadata": {
            "tags": null
          },
          "name": "stdout",
          "output_type": "stream",
          "text": [
            "Model Saved!\n",
            "Valid: Loss = 5.751, Metric = 316.5\n",
            "\n"
          ]
        },
        {
          "metadata": {
            "tags": null
          },
          "name": "stderr",
          "output_type": "stream",
          "text": [
            "Epoch 2: 100%|██████████| 367/367 [02:29<00:00,  2.45batch/s, loss=5.92, metric=371]\n"
          ]
        },
        {
          "metadata": {
            "tags": null
          },
          "name": "stdout",
          "output_type": "stream",
          "text": [
            "Model Saved!\n",
            "Valid: Loss = 5.407, Metric = 224.3\n",
            "\n"
          ]
        },
        {
          "metadata": {
            "tags": null
          },
          "name": "stderr",
          "output_type": "stream",
          "text": [
            "Epoch 3: 100%|██████████| 367/367 [02:31<00:00,  2.42batch/s, loss=5.66, metric=288]\n"
          ]
        },
        {
          "metadata": {
            "tags": null
          },
          "name": "stdout",
          "output_type": "stream",
          "text": [
            "Model Saved!\n",
            "Valid: Loss = 5.21, Metric = 184.3\n",
            "\n"
          ]
        },
        {
          "metadata": {
            "tags": null
          },
          "name": "stderr",
          "output_type": "stream",
          "text": [
            "Epoch 4: 100%|██████████| 367/367 [02:33<00:00,  2.40batch/s, loss=5.48, metric=240]\n"
          ]
        },
        {
          "metadata": {
            "tags": null
          },
          "name": "stdout",
          "output_type": "stream",
          "text": [
            "Model Saved!\n",
            "Valid: Loss = 5.101, Metric = 165.2\n",
            "\n"
          ]
        },
        {
          "metadata": {
            "tags": null
          },
          "name": "stderr",
          "output_type": "stream",
          "text": [
            "Epoch 5: 100%|██████████| 367/367 [02:33<00:00,  2.39batch/s, loss=5.34, metric=208]\n"
          ]
        },
        {
          "metadata": {
            "tags": null
          },
          "name": "stdout",
          "output_type": "stream",
          "text": [
            "Model Saved!\n",
            "Valid: Loss = 4.978, Metric = 145.9\n",
            "\n"
          ]
        },
        {
          "metadata": {
            "tags": null
          },
          "name": "stderr",
          "output_type": "stream",
          "text": [
            "Epoch 6: 100%|██████████| 367/367 [02:33<00:00,  2.39batch/s, loss=5.24, metric=189]\n"
          ]
        },
        {
          "metadata": {
            "tags": null
          },
          "name": "stdout",
          "output_type": "stream",
          "text": [
            "Model Saved!\n",
            "Valid: Loss = 4.902, Metric = 135.3\n",
            "\n"
          ]
        },
        {
          "metadata": {
            "tags": null
          },
          "name": "stderr",
          "output_type": "stream",
          "text": [
            "Epoch 7: 100%|██████████| 367/367 [02:33<00:00,  2.39batch/s, loss=5.15, metric=172]\n"
          ]
        },
        {
          "metadata": {
            "tags": null
          },
          "name": "stdout",
          "output_type": "stream",
          "text": [
            "Model Saved!\n",
            "Valid: Loss = 4.873, Metric = 131.4\n",
            "\n"
          ]
        },
        {
          "metadata": {
            "tags": null
          },
          "name": "stderr",
          "output_type": "stream",
          "text": [
            "Epoch 8: 100%|██████████| 367/367 [02:33<00:00,  2.39batch/s, loss=5.09, metric=162]\n"
          ]
        },
        {
          "metadata": {
            "tags": null
          },
          "name": "stdout",
          "output_type": "stream",
          "text": [
            "Model Saved!\n",
            "Valid: Loss = 4.828, Metric = 125.6\n",
            "\n"
          ]
        },
        {
          "metadata": {
            "tags": null
          },
          "name": "stderr",
          "output_type": "stream",
          "text": [
            "Epoch 9: 100%|██████████| 367/367 [02:33<00:00,  2.39batch/s, loss=5.03, metric=154]\n"
          ]
        },
        {
          "metadata": {
            "tags": null
          },
          "name": "stdout",
          "output_type": "stream",
          "text": [
            "Model Saved!\n",
            "Valid: Loss = 4.795, Metric = 121.5\n",
            "\n"
          ]
        },
        {
          "metadata": {
            "tags": null
          },
          "name": "stderr",
          "output_type": "stream",
          "text": [
            "Epoch 10: 100%|██████████| 367/367 [02:33<00:00,  2.39batch/s, loss=4.98, metric=146]\n"
          ]
        },
        {
          "metadata": {
            "tags": null
          },
          "name": "stdout",
          "output_type": "stream",
          "text": [
            "Model Saved!\n",
            "Valid: Loss = 4.767, Metric = 118.1\n",
            "\n"
          ]
        },
        {
          "metadata": {
            "tags": null
          },
          "name": "stderr",
          "output_type": "stream",
          "text": [
            "Epoch 11: 100%|██████████| 367/367 [02:33<00:00,  2.39batch/s, loss=4.93, metric=139]\n"
          ]
        },
        {
          "metadata": {
            "tags": null
          },
          "name": "stdout",
          "output_type": "stream",
          "text": [
            "Model Saved!\n",
            "Valid: Loss = 4.76, Metric = 117.3\n",
            "\n"
          ]
        },
        {
          "metadata": {
            "tags": null
          },
          "name": "stderr",
          "output_type": "stream",
          "text": [
            "Epoch 12: 100%|██████████| 367/367 [02:34<00:00,  2.38batch/s, loss=4.9, metric=134]\n"
          ]
        },
        {
          "metadata": {
            "tags": null
          },
          "name": "stdout",
          "output_type": "stream",
          "text": [
            "Model Saved!\n",
            "Valid: Loss = 4.735, Metric = 114.5\n",
            "\n"
          ]
        },
        {
          "metadata": {
            "tags": null
          },
          "name": "stderr",
          "output_type": "stream",
          "text": [
            "Epoch 13: 100%|██████████| 367/367 [02:34<00:00,  2.38batch/s, loss=4.87, metric=130]\n"
          ]
        },
        {
          "metadata": {
            "tags": null
          },
          "name": "stdout",
          "output_type": "stream",
          "text": [
            "Model Saved!\n",
            "Valid: Loss = 4.723, Metric = 113.0\n",
            "\n"
          ]
        },
        {
          "output_type": "stream",
          "name": "stderr",
          "text": [
            "Epoch 14: 100%|██████████| 367/367 [02:34<00:00,  2.38batch/s, loss=4.84, metric=127]\n"
          ]
        },
        {
          "output_type": "stream",
          "name": "stdout",
          "text": [
            "Model Saved!\n",
            "Valid: Loss = 4.691, Metric = 109.4\n",
            "\n"
          ]
        },
        {
          "output_type": "stream",
          "name": "stderr",
          "text": [
            "Epoch 15: 100%|██████████| 367/367 [02:34<00:00,  2.38batch/s, loss=4.81, metric=123]\n"
          ]
        },
        {
          "output_type": "stream",
          "name": "stdout",
          "text": [
            "Valid: Loss = 4.694, Metric = 109.8\n",
            "\n"
          ]
        },
        {
          "output_type": "stream",
          "name": "stderr",
          "text": [
            "Epoch 16: 100%|██████████| 367/367 [02:34<00:00,  2.38batch/s, loss=4.78, metric=119]\n"
          ]
        },
        {
          "output_type": "stream",
          "name": "stdout",
          "text": [
            "Model Saved!\n",
            "Valid: Loss = 4.671, Metric = 107.4\n",
            "\n"
          ]
        },
        {
          "output_type": "stream",
          "name": "stderr",
          "text": [
            "Epoch 17: 100%|██████████| 367/367 [02:34<00:00,  2.38batch/s, loss=4.76, metric=116]\n"
          ]
        },
        {
          "output_type": "stream",
          "name": "stdout",
          "text": [
            "Model Saved!\n",
            "Valid: Loss = 4.654, Metric = 105.5\n",
            "\n"
          ]
        },
        {
          "output_type": "stream",
          "name": "stderr",
          "text": [
            "Epoch 18: 100%|██████████| 367/367 [02:34<00:00,  2.38batch/s, loss=4.74, metric=114]\n"
          ]
        },
        {
          "output_type": "stream",
          "name": "stdout",
          "text": [
            "Valid: Loss = 4.657, Metric = 105.9\n",
            "\n"
          ]
        },
        {
          "output_type": "stream",
          "name": "stderr",
          "text": [
            "Epoch 19: 100%|██████████| 367/367 [02:34<00:00,  2.38batch/s, loss=4.72, metric=112]\n"
          ]
        },
        {
          "output_type": "stream",
          "name": "stdout",
          "text": [
            "Model Saved!\n",
            "Valid: Loss = 4.65, Metric = 105.1\n",
            "\n"
          ]
        },
        {
          "output_type": "stream",
          "name": "stderr",
          "text": [
            "Epoch 20: 100%|██████████| 367/367 [02:34<00:00,  2.38batch/s, loss=4.7, metric=110]\n"
          ]
        },
        {
          "output_type": "stream",
          "name": "stdout",
          "text": [
            "Model Saved!\n",
            "Valid: Loss = 4.645, Metric = 104.5\n",
            "\n"
          ]
        },
        {
          "output_type": "stream",
          "name": "stderr",
          "text": [
            "Epoch 21: 100%|██████████| 367/367 [02:34<00:00,  2.38batch/s, loss=4.69, metric=108]\n"
          ]
        },
        {
          "output_type": "stream",
          "name": "stdout",
          "text": [
            "Valid: Loss = 4.658, Metric = 105.9\n",
            "\n"
          ]
        },
        {
          "output_type": "stream",
          "name": "stderr",
          "text": [
            "Epoch 22: 100%|██████████| 367/367 [02:34<00:00,  2.38batch/s, loss=4.67, metric=106]\n"
          ]
        },
        {
          "output_type": "stream",
          "name": "stdout",
          "text": [
            "Model Saved!\n",
            "Valid: Loss = 4.627, Metric = 102.7\n",
            "\n"
          ]
        },
        {
          "output_type": "stream",
          "name": "stderr",
          "text": [
            "Epoch 23: 100%|██████████| 367/367 [02:34<00:00,  2.38batch/s, loss=4.66, metric=105]\n"
          ]
        },
        {
          "output_type": "stream",
          "name": "stdout",
          "text": [
            "Model Saved!\n",
            "Valid: Loss = 4.626, Metric = 102.6\n",
            "\n"
          ]
        },
        {
          "output_type": "stream",
          "name": "stderr",
          "text": [
            "Epoch 24: 100%|██████████| 367/367 [02:34<00:00,  2.38batch/s, loss=4.64, metric=104]\n"
          ]
        },
        {
          "output_type": "stream",
          "name": "stdout",
          "text": [
            "Model Saved!\n",
            "Valid: Loss = 4.615, Metric = 101.4\n",
            "\n"
          ]
        },
        {
          "output_type": "stream",
          "name": "stderr",
          "text": [
            "Epoch 25: 100%|██████████| 367/367 [02:34<00:00,  2.38batch/s, loss=4.62, metric=102]\n"
          ]
        },
        {
          "output_type": "stream",
          "name": "stdout",
          "text": [
            "Valid: Loss = 4.621, Metric = 102.1\n",
            "\n"
          ]
        },
        {
          "output_type": "stream",
          "name": "stderr",
          "text": [
            "Epoch 26: 100%|██████████| 367/367 [02:34<00:00,  2.37batch/s, loss=4.62, metric=101]\n"
          ]
        },
        {
          "output_type": "stream",
          "name": "stdout",
          "text": [
            "Model Saved!\n",
            "Valid: Loss = 4.604, Metric = 100.4\n",
            "\n"
          ]
        },
        {
          "output_type": "stream",
          "name": "stderr",
          "text": [
            "Epoch 27: 100%|██████████| 367/367 [02:34<00:00,  2.38batch/s, loss=4.61, metric=100]\n"
          ]
        },
        {
          "output_type": "stream",
          "name": "stdout",
          "text": [
            "Valid: Loss = 4.607, Metric = 100.6\n",
            "\n"
          ]
        },
        {
          "output_type": "stream",
          "name": "stderr",
          "text": [
            "Epoch 28: 100%|██████████| 367/367 [02:34<00:00,  2.38batch/s, loss=4.58, metric=97.9]\n"
          ]
        },
        {
          "output_type": "stream",
          "name": "stdout",
          "text": [
            "Valid: Loss = 4.624, Metric = 102.4\n",
            "\n"
          ]
        },
        {
          "output_type": "stream",
          "name": "stderr",
          "text": [
            "Epoch 29: 100%|██████████| 367/367 [02:34<00:00,  2.38batch/s, loss=4.58, metric=98]\n"
          ]
        },
        {
          "output_type": "stream",
          "name": "stdout",
          "text": [
            "Valid: Loss = 4.611, Metric = 101.1\n",
            "\n"
          ]
        },
        {
          "output_type": "stream",
          "name": "stderr",
          "text": [
            "Epoch 30: 100%|██████████| 367/367 [02:34<00:00,  2.38batch/s, loss=4.57, metric=96.7]\n"
          ]
        },
        {
          "output_type": "stream",
          "name": "stdout",
          "text": [
            "Valid: Loss = 4.613, Metric = 101.3\n",
            "\n"
          ]
        },
        {
          "output_type": "stream",
          "name": "stderr",
          "text": [
            "Epoch 31: 100%|██████████| 367/367 [02:34<00:00,  2.38batch/s, loss=4.56, metric=95.5]\n"
          ]
        },
        {
          "output_type": "stream",
          "name": "stdout",
          "text": [
            "Model Saved!\n",
            "Valid: Loss = 4.591, Metric = 99.08\n",
            "\n"
          ]
        },
        {
          "output_type": "stream",
          "name": "stderr",
          "text": [
            "Epoch 32: 100%|██████████| 367/367 [02:34<00:00,  2.38batch/s, loss=4.55, metric=94.8]\n"
          ]
        },
        {
          "output_type": "stream",
          "name": "stdout",
          "text": [
            "Valid: Loss = 4.61, Metric = 101.0\n",
            "\n"
          ]
        },
        {
          "output_type": "stream",
          "name": "stderr",
          "text": [
            "Epoch 33: 100%|██████████| 367/367 [02:34<00:00,  2.38batch/s, loss=4.54, metric=93.6]\n"
          ]
        },
        {
          "output_type": "stream",
          "name": "stdout",
          "text": [
            "Model Saved!\n",
            "Valid: Loss = 4.59, Metric = 98.94\n",
            "\n"
          ]
        },
        {
          "output_type": "stream",
          "name": "stderr",
          "text": [
            "Epoch 34: 100%|██████████| 367/367 [02:34<00:00,  2.38batch/s, loss=4.54, metric=93.5]\n"
          ]
        },
        {
          "output_type": "stream",
          "name": "stdout",
          "text": [
            "Model Saved!\n",
            "Valid: Loss = 4.583, Metric = 98.27\n",
            "\n"
          ]
        },
        {
          "output_type": "stream",
          "name": "stderr",
          "text": [
            "Epoch 35: 100%|██████████| 367/367 [02:34<00:00,  2.38batch/s, loss=4.53, metric=93]\n"
          ]
        },
        {
          "output_type": "stream",
          "name": "stdout",
          "text": [
            "Valid: Loss = 4.59, Metric = 98.94\n",
            "\n"
          ]
        },
        {
          "output_type": "stream",
          "name": "stderr",
          "text": [
            "Epoch 36: 100%|██████████| 367/367 [02:34<00:00,  2.38batch/s, loss=4.52, metric=91.6]\n"
          ]
        },
        {
          "output_type": "stream",
          "name": "stdout",
          "text": [
            "Model Saved!\n",
            "Valid: Loss = 4.576, Metric = 97.64\n",
            "\n"
          ]
        },
        {
          "output_type": "stream",
          "name": "stderr",
          "text": [
            "Epoch 37: 100%|██████████| 367/367 [02:34<00:00,  2.38batch/s, loss=4.51, metric=90.8]\n"
          ]
        },
        {
          "output_type": "stream",
          "name": "stdout",
          "text": [
            "Model Saved!\n",
            "Valid: Loss = 4.575, Metric = 97.49\n",
            "\n"
          ]
        },
        {
          "output_type": "stream",
          "name": "stderr",
          "text": [
            "Epoch 38: 100%|██████████| 367/367 [02:34<00:00,  2.38batch/s, loss=4.51, metric=90.7]\n"
          ]
        },
        {
          "output_type": "stream",
          "name": "stdout",
          "text": [
            "Valid: Loss = 4.58, Metric = 97.96\n",
            "\n"
          ]
        },
        {
          "output_type": "stream",
          "name": "stderr",
          "text": [
            "Epoch 39: 100%|██████████| 367/367 [02:34<00:00,  2.38batch/s, loss=4.5, metric=89.7]\n"
          ]
        },
        {
          "output_type": "stream",
          "name": "stdout",
          "text": [
            "Valid: Loss = 4.59, Metric = 98.98\n",
            "\n"
          ]
        },
        {
          "output_type": "stream",
          "name": "stderr",
          "text": [
            "Epoch 40: 100%|██████████| 367/367 [02:34<00:00,  2.38batch/s, loss=4.49, metric=89.2]\n"
          ]
        },
        {
          "output_type": "stream",
          "name": "stdout",
          "text": [
            "Valid: Loss = 4.577, Metric = 97.7\n",
            "\n"
          ]
        },
        {
          "output_type": "stream",
          "name": "stderr",
          "text": [
            "Epoch 41: 100%|██████████| 367/367 [02:34<00:00,  2.38batch/s, loss=4.5, metric=89.6]\n"
          ]
        },
        {
          "output_type": "stream",
          "name": "stdout",
          "text": [
            "Valid: Loss = 4.575, Metric = 97.46\n",
            "\n"
          ]
        },
        {
          "output_type": "stream",
          "name": "stderr",
          "text": [
            "Epoch 42: 100%|██████████| 367/367 [02:34<00:00,  2.38batch/s, loss=4.48, metric=88.5]\n"
          ]
        },
        {
          "output_type": "stream",
          "name": "stdout",
          "text": [
            "Valid: Loss = 4.579, Metric = 97.84\n",
            "\n"
          ]
        },
        {
          "output_type": "stream",
          "name": "stderr",
          "text": [
            "Epoch 43: 100%|██████████| 367/367 [02:34<00:00,  2.38batch/s, loss=4.48, metric=88.2]\n"
          ]
        },
        {
          "output_type": "stream",
          "name": "stdout",
          "text": [
            "Model Saved!\n",
            "Valid: Loss = 4.57, Metric = 97.02\n",
            "\n"
          ]
        },
        {
          "output_type": "stream",
          "name": "stderr",
          "text": [
            "Epoch 44: 100%|██████████| 367/367 [02:34<00:00,  2.38batch/s, loss=4.48, metric=87.8]\n"
          ]
        },
        {
          "output_type": "stream",
          "name": "stdout",
          "text": [
            "Model Saved!\n",
            "Valid: Loss = 4.568, Metric = 96.74\n",
            "\n"
          ]
        },
        {
          "output_type": "stream",
          "name": "stderr",
          "text": [
            "Epoch 45: 100%|██████████| 367/367 [02:34<00:00,  2.38batch/s, loss=4.46, metric=86.8]\n"
          ]
        },
        {
          "output_type": "stream",
          "name": "stdout",
          "text": [
            "Valid: Loss = 4.587, Metric = 98.67\n",
            "\n"
          ]
        },
        {
          "output_type": "stream",
          "name": "stderr",
          "text": [
            "Epoch 46: 100%|██████████| 367/367 [02:34<00:00,  2.37batch/s, loss=4.46, metric=86.6]\n"
          ]
        },
        {
          "output_type": "stream",
          "name": "stdout",
          "text": [
            "Valid: Loss = 4.573, Metric = 97.27\n",
            "\n"
          ]
        },
        {
          "output_type": "stream",
          "name": "stderr",
          "text": [
            "Epoch 47: 100%|██████████| 367/367 [02:34<00:00,  2.38batch/s, loss=4.45, metric=86]\n"
          ]
        },
        {
          "output_type": "stream",
          "name": "stdout",
          "text": [
            "Valid: Loss = 4.573, Metric = 97.32\n",
            "\n"
          ]
        },
        {
          "output_type": "stream",
          "name": "stderr",
          "text": [
            "Epoch 48: 100%|██████████| 367/367 [02:34<00:00,  2.38batch/s, loss=4.45, metric=85.3]\n"
          ]
        },
        {
          "output_type": "stream",
          "name": "stdout",
          "text": [
            "Model Saved!\n",
            "Valid: Loss = 4.565, Metric = 96.49\n",
            "\n"
          ]
        },
        {
          "output_type": "stream",
          "name": "stderr",
          "text": [
            "Epoch 49: 100%|██████████| 367/367 [02:34<00:00,  2.38batch/s, loss=4.45, metric=85.4]\n"
          ]
        },
        {
          "output_type": "stream",
          "name": "stdout",
          "text": [
            "Model Saved!\n",
            "Valid: Loss = 4.561, Metric = 96.21\n",
            "\n"
          ]
        },
        {
          "output_type": "stream",
          "name": "stderr",
          "text": [
            "Epoch 50: 100%|██████████| 367/367 [02:34<00:00,  2.37batch/s, loss=4.44, metric=85]\n"
          ]
        },
        {
          "output_type": "stream",
          "name": "stdout",
          "text": [
            "Valid: Loss = 4.578, Metric = 97.79\n",
            "\n"
          ]
        }
      ]
    },
    {
      "cell_type": "code",
      "source": [
        "!cp '/content/model_49_EmdLockDrop_FirstT.pt' '/content/drive/MyDrive/1_Howsam_Language_Modeling'"
      ],
      "metadata": {
        "id": "4PNZFOolq3hU"
      },
      "execution_count": null,
      "outputs": []
    },
    {
      "cell_type": "markdown",
      "source": [
        "#### **Second_Try / lr = 2**"
      ],
      "metadata": {
        "id": "2w1Ggdh0qkN1"
      }
    },
    {
      "cell_type": "code",
      "source": [
        "set_seed(seed)\n",
        "\n",
        "model = LanguageModel(vocab_size=len(vocab),\n",
        "                      embedding_dim=embedding_dim,\n",
        "                      hidden_dim=hidden_dim,\n",
        "                      num_layers=num_layers,\n",
        "                      dropoute=dropoute, dropouti=dropouti,\n",
        "                      dropouth=dropouth, dropouto=dropouto).to(device)\n",
        "model"
      ],
      "metadata": {
        "colab": {
          "base_uri": "https://localhost:8080/"
        },
        "id": "Iix9CbOZVkaI",
        "outputId": "7b737b78-1fc5-44be-98e4-7f490ad57367"
      },
      "execution_count": null,
      "outputs": [
        {
          "output_type": "execute_result",
          "data": {
            "text/plain": [
              "LanguageModel(\n",
              "  (embedding): Embedding(28782, 400)\n",
              "  (lstms): ModuleList(\n",
              "    (0): LSTM(400, 1150)\n",
              "    (1): LSTM(1150, 1150)\n",
              "    (2): LSTM(1150, 400)\n",
              "  )\n",
              "  (fc): Linear(in_features=400, out_features=28782, bias=True)\n",
              "  (lockdrop): LockedDropout()\n",
              ")"
            ]
          },
          "metadata": {},
          "execution_count": 62
        }
      ]
    },
    {
      "cell_type": "code",
      "source": [
        "model = torch.load('/content/drive/MyDrive/model_49_EmdLockDrop_FirstT.pt')"
      ],
      "metadata": {
        "id": "D1ZaBHwKqzDf"
      },
      "execution_count": null,
      "outputs": []
    },
    {
      "cell_type": "code",
      "source": [
        "lr = 2\n",
        "wd = 1e-06\n",
        "optimizer = optim.SGD(model.parameters(), lr=lr, weight_decay=wd, momentum=0.9)"
      ],
      "metadata": {
        "id": "1wvi8_FjqzDh"
      },
      "execution_count": null,
      "outputs": []
    },
    {
      "cell_type": "code",
      "source": [
        "set_seed(seed)\n",
        "\n",
        "num_epochs = 30\n",
        "\n",
        "for epoch in range(1, num_epochs+1):\n",
        "  # Train\n",
        "  model, loss_train, metric_train = train_one_epoch(model,\n",
        "                                                    train_loader,\n",
        "                                                    loss_fn,\n",
        "                                                    optimizer,\n",
        "                                                    metric,\n",
        "                                                    epoch)\n",
        "  # Validation\n",
        "  loss_valid, metric_valid = evaluate(model,\n",
        "                                      valid_loader,\n",
        "                                      loss_fn,\n",
        "                                      metric)\n",
        "\n",
        "  loss_train_hist.append(loss_train)\n",
        "  loss_valid_hist.append(loss_valid)\n",
        "\n",
        "  metric_train_hist.append(metric_train)\n",
        "  metric_valid_hist.append(metric_valid)\n",
        "\n",
        "  if loss_valid < best_loss_valid:\n",
        "    torch.save(model, f'model_{epoch}.pt')\n",
        "    best_loss_valid = loss_valid\n",
        "    print('Model Saved!')\n",
        "\n",
        "  print(f'Valid: Loss = {loss_valid:.4}, Metric = {metric_valid:.4}')\n",
        "  print()\n",
        "\n",
        "  if wandb_enable:\n",
        "    wandb.log({\"metric_train\": metric_train, \"loss_train\": loss_train,\n",
        "                \"metric_valid\": metric_valid, \"loss_valid\": loss_valid})\n",
        "\n",
        "  epoch_counter += 1"
      ],
      "metadata": {
        "colab": {
          "base_uri": "https://localhost:8080/",
          "height": 1000
        },
        "id": "OYnrOoctR63E",
        "outputId": "a70ae970-c495-4143-e4eb-9c487aa21885"
      },
      "execution_count": null,
      "outputs": [
        {
          "output_type": "stream",
          "name": "stderr",
          "text": [
            "Epoch 1: 100%|██████████| 367/367 [02:35<00:00,  2.36batch/s, loss=4.3, metric=73.6]\n"
          ]
        },
        {
          "output_type": "stream",
          "name": "stdout",
          "text": [
            "Model Saved!\n",
            "Valid: Loss = 4.512, Metric = 91.57\n",
            "\n"
          ]
        },
        {
          "output_type": "stream",
          "name": "stderr",
          "text": [
            "Epoch 2: 100%|██████████| 367/367 [02:36<00:00,  2.34batch/s, loss=4.24, metric=69.6]\n"
          ]
        },
        {
          "output_type": "stream",
          "name": "stdout",
          "text": [
            "Model Saved!\n",
            "Valid: Loss = 4.502, Metric = 90.7\n",
            "\n"
          ]
        },
        {
          "output_type": "stream",
          "name": "stderr",
          "text": [
            "Epoch 3: 100%|██████████| 367/367 [02:36<00:00,  2.34batch/s, loss=4.22, metric=68.2]\n"
          ]
        },
        {
          "output_type": "stream",
          "name": "stdout",
          "text": [
            "Model Saved!\n",
            "Valid: Loss = 4.501, Metric = 90.63\n",
            "\n"
          ]
        },
        {
          "output_type": "stream",
          "name": "stderr",
          "text": [
            "Epoch 4: 100%|██████████| 367/367 [02:36<00:00,  2.34batch/s, loss=4.21, metric=67.1]\n"
          ]
        },
        {
          "output_type": "stream",
          "name": "stdout",
          "text": [
            "Model Saved!\n",
            "Valid: Loss = 4.497, Metric = 90.22\n",
            "\n"
          ]
        },
        {
          "output_type": "stream",
          "name": "stderr",
          "text": [
            "Epoch 5: 100%|██████████| 367/367 [02:36<00:00,  2.34batch/s, loss=4.18, metric=65.7]\n"
          ]
        },
        {
          "output_type": "stream",
          "name": "stdout",
          "text": [
            "Model Saved!\n",
            "Valid: Loss = 4.495, Metric = 90.05\n",
            "\n"
          ]
        },
        {
          "output_type": "stream",
          "name": "stderr",
          "text": [
            "Epoch 6: 100%|██████████| 367/367 [02:36<00:00,  2.35batch/s, loss=4.18, metric=65.2]\n"
          ]
        },
        {
          "output_type": "stream",
          "name": "stdout",
          "text": [
            "Model Saved!\n",
            "Valid: Loss = 4.495, Metric = 90.09\n",
            "\n"
          ]
        },
        {
          "output_type": "stream",
          "name": "stderr",
          "text": [
            "Epoch 7: 100%|██████████| 367/367 [02:36<00:00,  2.34batch/s, loss=4.16, metric=63.8]\n"
          ]
        },
        {
          "output_type": "stream",
          "name": "stdout",
          "text": [
            "Model Saved!\n",
            "Valid: Loss = 4.492, Metric = 89.77\n",
            "\n"
          ]
        },
        {
          "output_type": "stream",
          "name": "stderr",
          "text": [
            "Epoch 8: 100%|██████████| 367/367 [02:36<00:00,  2.35batch/s, loss=4.14, metric=63.1]\n"
          ]
        },
        {
          "output_type": "stream",
          "name": "stdout",
          "text": [
            "Valid: Loss = 4.493, Metric = 89.9\n",
            "\n"
          ]
        },
        {
          "output_type": "stream",
          "name": "stderr",
          "text": [
            "Epoch 9: 100%|██████████| 367/367 [02:36<00:00,  2.35batch/s, loss=4.15, metric=63.2]\n"
          ]
        },
        {
          "output_type": "stream",
          "name": "stdout",
          "text": [
            "Valid: Loss = 4.495, Metric = 90.1\n",
            "\n"
          ]
        },
        {
          "output_type": "stream",
          "name": "stderr",
          "text": [
            "Epoch 10: 100%|██████████| 367/367 [02:36<00:00,  2.35batch/s, loss=4.13, metric=62.2]\n"
          ]
        },
        {
          "output_type": "stream",
          "name": "stdout",
          "text": [
            "Valid: Loss = 4.497, Metric = 90.26\n",
            "\n"
          ]
        },
        {
          "output_type": "stream",
          "name": "stderr",
          "text": [
            "Epoch 11: 100%|██████████| 367/367 [02:36<00:00,  2.34batch/s, loss=4.12, metric=61.4]\n"
          ]
        },
        {
          "output_type": "stream",
          "name": "stdout",
          "text": [
            "Valid: Loss = 4.492, Metric = 89.83\n",
            "\n"
          ]
        },
        {
          "output_type": "stream",
          "name": "stderr",
          "text": [
            "Epoch 12: 100%|██████████| 367/367 [02:36<00:00,  2.35batch/s, loss=4.11, metric=61.2]\n"
          ]
        },
        {
          "output_type": "stream",
          "name": "stdout",
          "text": [
            "Model Saved!\n",
            "Valid: Loss = 4.489, Metric = 89.54\n",
            "\n"
          ]
        },
        {
          "output_type": "stream",
          "name": "stderr",
          "text": [
            "Epoch 13: 100%|██████████| 367/367 [02:36<00:00,  2.35batch/s, loss=4.11, metric=60.8]\n"
          ]
        },
        {
          "output_type": "stream",
          "name": "stdout",
          "text": [
            "Valid: Loss = 4.494, Metric = 90.0\n",
            "\n"
          ]
        },
        {
          "output_type": "stream",
          "name": "stderr",
          "text": [
            "Epoch 14: 100%|██████████| 367/367 [02:36<00:00,  2.35batch/s, loss=4.11, metric=60.7]\n"
          ]
        },
        {
          "output_type": "stream",
          "name": "stdout",
          "text": [
            "Valid: Loss = 4.495, Metric = 90.08\n",
            "\n"
          ]
        },
        {
          "output_type": "stream",
          "name": "stderr",
          "text": [
            "Epoch 15: 100%|██████████| 367/367 [02:36<00:00,  2.35batch/s, loss=4.09, metric=60.1]\n"
          ]
        },
        {
          "output_type": "stream",
          "name": "stdout",
          "text": [
            "Valid: Loss = 4.502, Metric = 90.66\n",
            "\n"
          ]
        },
        {
          "output_type": "stream",
          "name": "stderr",
          "text": [
            "Epoch 16: 100%|██████████| 367/367 [02:36<00:00,  2.35batch/s, loss=4.08, metric=59.4]\n"
          ]
        },
        {
          "output_type": "stream",
          "name": "stdout",
          "text": [
            "Valid: Loss = 4.498, Metric = 90.36\n",
            "\n"
          ]
        },
        {
          "output_type": "stream",
          "name": "stderr",
          "text": [
            "Epoch 17: 100%|██████████| 367/367 [02:36<00:00,  2.34batch/s, loss=4.08, metric=58.9]\n"
          ]
        },
        {
          "output_type": "stream",
          "name": "stdout",
          "text": [
            "Valid: Loss = 4.494, Metric = 89.95\n",
            "\n"
          ]
        },
        {
          "output_type": "stream",
          "name": "stderr",
          "text": [
            "Epoch 18: 100%|██████████| 367/367 [02:36<00:00,  2.35batch/s, loss=4.07, metric=58.7]\n"
          ]
        },
        {
          "output_type": "stream",
          "name": "stdout",
          "text": [
            "Valid: Loss = 4.496, Metric = 90.11\n",
            "\n"
          ]
        },
        {
          "output_type": "stream",
          "name": "stderr",
          "text": [
            "Epoch 19: 100%|██████████| 367/367 [02:36<00:00,  2.35batch/s, loss=4.07, metric=58.6]\n"
          ]
        },
        {
          "output_type": "stream",
          "name": "stdout",
          "text": [
            "Valid: Loss = 4.499, Metric = 90.45\n",
            "\n"
          ]
        },
        {
          "output_type": "stream",
          "name": "stderr",
          "text": [
            "Epoch 20: 100%|██████████| 367/367 [02:36<00:00,  2.34batch/s, loss=4.06, metric=57.8]\n"
          ]
        },
        {
          "output_type": "stream",
          "name": "stdout",
          "text": [
            "Valid: Loss = 4.496, Metric = 90.12\n",
            "\n"
          ]
        },
        {
          "output_type": "stream",
          "name": "stderr",
          "text": [
            "Epoch 21: 100%|██████████| 367/367 [02:36<00:00,  2.35batch/s, loss=4.05, metric=57.6]\n"
          ]
        },
        {
          "output_type": "stream",
          "name": "stdout",
          "text": [
            "Valid: Loss = 4.493, Metric = 89.87\n",
            "\n"
          ]
        },
        {
          "output_type": "stream",
          "name": "stderr",
          "text": [
            "Epoch 22: 100%|██████████| 367/367 [02:36<00:00,  2.35batch/s, loss=4.04, metric=57.2]\n"
          ]
        },
        {
          "output_type": "stream",
          "name": "stdout",
          "text": [
            "Valid: Loss = 4.495, Metric = 90.06\n",
            "\n"
          ]
        },
        {
          "output_type": "stream",
          "name": "stderr",
          "text": [
            "Epoch 23:  62%|██████▏   | 227/367 [01:37<01:00,  2.33batch/s, loss=4.04, metric=56.6]\n"
          ]
        },
        {
          "output_type": "error",
          "ename": "KeyboardInterrupt",
          "evalue": "ignored",
          "traceback": [
            "\u001b[0;31m---------------------------------------------------------------------------\u001b[0m",
            "\u001b[0;31mKeyboardInterrupt\u001b[0m                         Traceback (most recent call last)",
            "\u001b[0;32m<ipython-input-65-961faa52ebce>\u001b[0m in \u001b[0;36m<cell line: 5>\u001b[0;34m()\u001b[0m\n\u001b[1;32m      5\u001b[0m \u001b[0;32mfor\u001b[0m \u001b[0mepoch\u001b[0m \u001b[0;32min\u001b[0m \u001b[0mrange\u001b[0m\u001b[0;34m(\u001b[0m\u001b[0;36m1\u001b[0m\u001b[0;34m,\u001b[0m \u001b[0mnum_epochs\u001b[0m\u001b[0;34m+\u001b[0m\u001b[0;36m1\u001b[0m\u001b[0;34m)\u001b[0m\u001b[0;34m:\u001b[0m\u001b[0;34m\u001b[0m\u001b[0;34m\u001b[0m\u001b[0m\n\u001b[1;32m      6\u001b[0m   \u001b[0;31m# Train\u001b[0m\u001b[0;34m\u001b[0m\u001b[0;34m\u001b[0m\u001b[0m\n\u001b[0;32m----> 7\u001b[0;31m   model, loss_train, metric_train = train_one_epoch(model,\n\u001b[0m\u001b[1;32m      8\u001b[0m                                                     \u001b[0mtrain_loader\u001b[0m\u001b[0;34m,\u001b[0m\u001b[0;34m\u001b[0m\u001b[0;34m\u001b[0m\u001b[0m\n\u001b[1;32m      9\u001b[0m                                                     \u001b[0mloss_fn\u001b[0m\u001b[0;34m,\u001b[0m\u001b[0;34m\u001b[0m\u001b[0;34m\u001b[0m\u001b[0m\n",
            "\u001b[0;32m<ipython-input-55-6c530cfc3151>\u001b[0m in \u001b[0;36mtrain_one_epoch\u001b[0;34m(model, train_loader, loss_fn, optimizer, metric, epoch)\u001b[0m\n\u001b[1;32m     25\u001b[0m       \u001b[0mmetric\u001b[0m\u001b[0;34m.\u001b[0m\u001b[0mupdate\u001b[0m\u001b[0;34m(\u001b[0m\u001b[0moutputs\u001b[0m\u001b[0;34m,\u001b[0m \u001b[0mtargets\u001b[0m\u001b[0;34m)\u001b[0m\u001b[0;34m\u001b[0m\u001b[0;34m\u001b[0m\u001b[0m\n\u001b[1;32m     26\u001b[0m \u001b[0;34m\u001b[0m\u001b[0m\n\u001b[0;32m---> 27\u001b[0;31m       \u001b[0mtepoch\u001b[0m\u001b[0;34m.\u001b[0m\u001b[0mset_postfix\u001b[0m\u001b[0;34m(\u001b[0m\u001b[0mloss\u001b[0m\u001b[0;34m=\u001b[0m\u001b[0mloss_train\u001b[0m\u001b[0;34m.\u001b[0m\u001b[0mavg\u001b[0m\u001b[0;34m,\u001b[0m \u001b[0mmetric\u001b[0m\u001b[0;34m=\u001b[0m\u001b[0mmetric\u001b[0m\u001b[0;34m.\u001b[0m\u001b[0mcompute\u001b[0m\u001b[0;34m(\u001b[0m\u001b[0;34m)\u001b[0m\u001b[0;34m.\u001b[0m\u001b[0mitem\u001b[0m\u001b[0;34m(\u001b[0m\u001b[0;34m)\u001b[0m\u001b[0;34m)\u001b[0m\u001b[0;34m\u001b[0m\u001b[0;34m\u001b[0m\u001b[0m\n\u001b[0m\u001b[1;32m     28\u001b[0m \u001b[0;34m\u001b[0m\u001b[0m\n\u001b[1;32m     29\u001b[0m   \u001b[0;32mreturn\u001b[0m \u001b[0mmodel\u001b[0m\u001b[0;34m,\u001b[0m \u001b[0mloss_train\u001b[0m\u001b[0;34m.\u001b[0m\u001b[0mavg\u001b[0m\u001b[0;34m,\u001b[0m \u001b[0mmetric\u001b[0m\u001b[0;34m.\u001b[0m\u001b[0mcompute\u001b[0m\u001b[0;34m(\u001b[0m\u001b[0;34m)\u001b[0m\u001b[0;34m.\u001b[0m\u001b[0mitem\u001b[0m\u001b[0;34m(\u001b[0m\u001b[0;34m)\u001b[0m\u001b[0;34m\u001b[0m\u001b[0;34m\u001b[0m\u001b[0m\n",
            "\u001b[0;32m/usr/local/lib/python3.10/dist-packages/tqdm/std.py\u001b[0m in \u001b[0;36mset_postfix\u001b[0;34m(self, ordered_dict, refresh, **kwargs)\u001b[0m\n\u001b[1;32m   1430\u001b[0m                                  for key in postfix.keys())\n\u001b[1;32m   1431\u001b[0m         \u001b[0;32mif\u001b[0m \u001b[0mrefresh\u001b[0m\u001b[0;34m:\u001b[0m\u001b[0;34m\u001b[0m\u001b[0;34m\u001b[0m\u001b[0m\n\u001b[0;32m-> 1432\u001b[0;31m             \u001b[0mself\u001b[0m\u001b[0;34m.\u001b[0m\u001b[0mrefresh\u001b[0m\u001b[0;34m(\u001b[0m\u001b[0;34m)\u001b[0m\u001b[0;34m\u001b[0m\u001b[0;34m\u001b[0m\u001b[0m\n\u001b[0m\u001b[1;32m   1433\u001b[0m \u001b[0;34m\u001b[0m\u001b[0m\n\u001b[1;32m   1434\u001b[0m     \u001b[0;32mdef\u001b[0m \u001b[0mset_postfix_str\u001b[0m\u001b[0;34m(\u001b[0m\u001b[0mself\u001b[0m\u001b[0;34m,\u001b[0m \u001b[0ms\u001b[0m\u001b[0;34m=\u001b[0m\u001b[0;34m''\u001b[0m\u001b[0;34m,\u001b[0m \u001b[0mrefresh\u001b[0m\u001b[0;34m=\u001b[0m\u001b[0;32mTrue\u001b[0m\u001b[0;34m)\u001b[0m\u001b[0;34m:\u001b[0m\u001b[0;34m\u001b[0m\u001b[0;34m\u001b[0m\u001b[0m\n",
            "\u001b[0;32m/usr/local/lib/python3.10/dist-packages/tqdm/std.py\u001b[0m in \u001b[0;36mrefresh\u001b[0;34m(self, nolock, lock_args)\u001b[0m\n\u001b[1;32m   1346\u001b[0m             \u001b[0;32melse\u001b[0m\u001b[0;34m:\u001b[0m\u001b[0;34m\u001b[0m\u001b[0;34m\u001b[0m\u001b[0m\n\u001b[1;32m   1347\u001b[0m                 \u001b[0mself\u001b[0m\u001b[0;34m.\u001b[0m\u001b[0m_lock\u001b[0m\u001b[0;34m.\u001b[0m\u001b[0macquire\u001b[0m\u001b[0;34m(\u001b[0m\u001b[0;34m)\u001b[0m\u001b[0;34m\u001b[0m\u001b[0;34m\u001b[0m\u001b[0m\n\u001b[0;32m-> 1348\u001b[0;31m         \u001b[0mself\u001b[0m\u001b[0;34m.\u001b[0m\u001b[0mdisplay\u001b[0m\u001b[0;34m(\u001b[0m\u001b[0;34m)\u001b[0m\u001b[0;34m\u001b[0m\u001b[0;34m\u001b[0m\u001b[0m\n\u001b[0m\u001b[1;32m   1349\u001b[0m         \u001b[0;32mif\u001b[0m \u001b[0;32mnot\u001b[0m \u001b[0mnolock\u001b[0m\u001b[0;34m:\u001b[0m\u001b[0;34m\u001b[0m\u001b[0;34m\u001b[0m\u001b[0m\n\u001b[1;32m   1350\u001b[0m             \u001b[0mself\u001b[0m\u001b[0;34m.\u001b[0m\u001b[0m_lock\u001b[0m\u001b[0;34m.\u001b[0m\u001b[0mrelease\u001b[0m\u001b[0;34m(\u001b[0m\u001b[0;34m)\u001b[0m\u001b[0;34m\u001b[0m\u001b[0;34m\u001b[0m\u001b[0m\n",
            "\u001b[0;32m/usr/local/lib/python3.10/dist-packages/tqdm/std.py\u001b[0m in \u001b[0;36mdisplay\u001b[0;34m(self, msg, pos)\u001b[0m\n\u001b[1;32m   1494\u001b[0m         \u001b[0;32mif\u001b[0m \u001b[0mpos\u001b[0m\u001b[0;34m:\u001b[0m\u001b[0;34m\u001b[0m\u001b[0;34m\u001b[0m\u001b[0m\n\u001b[1;32m   1495\u001b[0m             \u001b[0mself\u001b[0m\u001b[0;34m.\u001b[0m\u001b[0mmoveto\u001b[0m\u001b[0;34m(\u001b[0m\u001b[0mpos\u001b[0m\u001b[0;34m)\u001b[0m\u001b[0;34m\u001b[0m\u001b[0;34m\u001b[0m\u001b[0m\n\u001b[0;32m-> 1496\u001b[0;31m         \u001b[0mself\u001b[0m\u001b[0;34m.\u001b[0m\u001b[0msp\u001b[0m\u001b[0;34m(\u001b[0m\u001b[0mself\u001b[0m\u001b[0;34m.\u001b[0m\u001b[0m__str__\u001b[0m\u001b[0;34m(\u001b[0m\u001b[0;34m)\u001b[0m \u001b[0;32mif\u001b[0m \u001b[0mmsg\u001b[0m \u001b[0;32mis\u001b[0m \u001b[0;32mNone\u001b[0m \u001b[0;32melse\u001b[0m \u001b[0mmsg\u001b[0m\u001b[0;34m)\u001b[0m\u001b[0;34m\u001b[0m\u001b[0;34m\u001b[0m\u001b[0m\n\u001b[0m\u001b[1;32m   1497\u001b[0m         \u001b[0;32mif\u001b[0m \u001b[0mpos\u001b[0m\u001b[0;34m:\u001b[0m\u001b[0;34m\u001b[0m\u001b[0;34m\u001b[0m\u001b[0m\n\u001b[1;32m   1498\u001b[0m             \u001b[0mself\u001b[0m\u001b[0;34m.\u001b[0m\u001b[0mmoveto\u001b[0m\u001b[0;34m(\u001b[0m\u001b[0;34m-\u001b[0m\u001b[0mpos\u001b[0m\u001b[0;34m)\u001b[0m\u001b[0;34m\u001b[0m\u001b[0;34m\u001b[0m\u001b[0m\n",
            "\u001b[0;32m/usr/local/lib/python3.10/dist-packages/tqdm/std.py\u001b[0m in \u001b[0;36mprint_status\u001b[0;34m(s)\u001b[0m\n\u001b[1;32m    460\u001b[0m         \u001b[0;32mdef\u001b[0m \u001b[0mprint_status\u001b[0m\u001b[0;34m(\u001b[0m\u001b[0ms\u001b[0m\u001b[0;34m)\u001b[0m\u001b[0;34m:\u001b[0m\u001b[0;34m\u001b[0m\u001b[0;34m\u001b[0m\u001b[0m\n\u001b[1;32m    461\u001b[0m             \u001b[0mlen_s\u001b[0m \u001b[0;34m=\u001b[0m \u001b[0mdisp_len\u001b[0m\u001b[0;34m(\u001b[0m\u001b[0ms\u001b[0m\u001b[0;34m)\u001b[0m\u001b[0;34m\u001b[0m\u001b[0;34m\u001b[0m\u001b[0m\n\u001b[0;32m--> 462\u001b[0;31m             \u001b[0mfp_write\u001b[0m\u001b[0;34m(\u001b[0m\u001b[0;34m'\\r'\u001b[0m \u001b[0;34m+\u001b[0m \u001b[0ms\u001b[0m \u001b[0;34m+\u001b[0m \u001b[0;34m(\u001b[0m\u001b[0;34m' '\u001b[0m \u001b[0;34m*\u001b[0m \u001b[0mmax\u001b[0m\u001b[0;34m(\u001b[0m\u001b[0mlast_len\u001b[0m\u001b[0;34m[\u001b[0m\u001b[0;36m0\u001b[0m\u001b[0;34m]\u001b[0m \u001b[0;34m-\u001b[0m \u001b[0mlen_s\u001b[0m\u001b[0;34m,\u001b[0m \u001b[0;36m0\u001b[0m\u001b[0;34m)\u001b[0m\u001b[0;34m)\u001b[0m\u001b[0;34m)\u001b[0m\u001b[0;34m\u001b[0m\u001b[0;34m\u001b[0m\u001b[0m\n\u001b[0m\u001b[1;32m    463\u001b[0m             \u001b[0mlast_len\u001b[0m\u001b[0;34m[\u001b[0m\u001b[0;36m0\u001b[0m\u001b[0;34m]\u001b[0m \u001b[0;34m=\u001b[0m \u001b[0mlen_s\u001b[0m\u001b[0;34m\u001b[0m\u001b[0;34m\u001b[0m\u001b[0m\n\u001b[1;32m    464\u001b[0m \u001b[0;34m\u001b[0m\u001b[0m\n",
            "\u001b[0;32m/usr/local/lib/python3.10/dist-packages/tqdm/std.py\u001b[0m in \u001b[0;36mfp_write\u001b[0;34m(s)\u001b[0m\n\u001b[1;32m    453\u001b[0m \u001b[0;34m\u001b[0m\u001b[0m\n\u001b[1;32m    454\u001b[0m         \u001b[0;32mdef\u001b[0m \u001b[0mfp_write\u001b[0m\u001b[0;34m(\u001b[0m\u001b[0ms\u001b[0m\u001b[0;34m)\u001b[0m\u001b[0;34m:\u001b[0m\u001b[0;34m\u001b[0m\u001b[0;34m\u001b[0m\u001b[0m\n\u001b[0;32m--> 455\u001b[0;31m             \u001b[0mfp\u001b[0m\u001b[0;34m.\u001b[0m\u001b[0mwrite\u001b[0m\u001b[0;34m(\u001b[0m\u001b[0mstr\u001b[0m\u001b[0;34m(\u001b[0m\u001b[0ms\u001b[0m\u001b[0;34m)\u001b[0m\u001b[0;34m)\u001b[0m\u001b[0;34m\u001b[0m\u001b[0;34m\u001b[0m\u001b[0m\n\u001b[0m\u001b[1;32m    456\u001b[0m             \u001b[0mfp_flush\u001b[0m\u001b[0;34m(\u001b[0m\u001b[0;34m)\u001b[0m\u001b[0;34m\u001b[0m\u001b[0;34m\u001b[0m\u001b[0m\n\u001b[1;32m    457\u001b[0m \u001b[0;34m\u001b[0m\u001b[0m\n",
            "\u001b[0;32m/usr/local/lib/python3.10/dist-packages/tqdm/utils.py\u001b[0m in \u001b[0;36minner\u001b[0;34m(*args, **kwargs)\u001b[0m\n\u001b[1;32m    193\u001b[0m         \u001b[0;32mdef\u001b[0m \u001b[0minner\u001b[0m\u001b[0;34m(\u001b[0m\u001b[0;34m*\u001b[0m\u001b[0margs\u001b[0m\u001b[0;34m,\u001b[0m \u001b[0;34m**\u001b[0m\u001b[0mkwargs\u001b[0m\u001b[0;34m)\u001b[0m\u001b[0;34m:\u001b[0m\u001b[0;34m\u001b[0m\u001b[0;34m\u001b[0m\u001b[0m\n\u001b[1;32m    194\u001b[0m             \u001b[0;32mtry\u001b[0m\u001b[0;34m:\u001b[0m\u001b[0;34m\u001b[0m\u001b[0;34m\u001b[0m\u001b[0m\n\u001b[0;32m--> 195\u001b[0;31m                 \u001b[0;32mreturn\u001b[0m \u001b[0mfunc\u001b[0m\u001b[0;34m(\u001b[0m\u001b[0;34m*\u001b[0m\u001b[0margs\u001b[0m\u001b[0;34m,\u001b[0m \u001b[0;34m**\u001b[0m\u001b[0mkwargs\u001b[0m\u001b[0;34m)\u001b[0m\u001b[0;34m\u001b[0m\u001b[0;34m\u001b[0m\u001b[0m\n\u001b[0m\u001b[1;32m    196\u001b[0m             \u001b[0;32mexcept\u001b[0m \u001b[0mOSError\u001b[0m \u001b[0;32mas\u001b[0m \u001b[0me\u001b[0m\u001b[0;34m:\u001b[0m\u001b[0;34m\u001b[0m\u001b[0;34m\u001b[0m\u001b[0m\n\u001b[1;32m    197\u001b[0m                 \u001b[0;32mif\u001b[0m \u001b[0me\u001b[0m\u001b[0;34m.\u001b[0m\u001b[0merrno\u001b[0m \u001b[0;34m!=\u001b[0m \u001b[0;36m5\u001b[0m\u001b[0;34m:\u001b[0m\u001b[0;34m\u001b[0m\u001b[0;34m\u001b[0m\u001b[0m\n",
            "\u001b[0;32m/usr/local/lib/python3.10/dist-packages/wandb/sdk/lib/redirect.py\u001b[0m in \u001b[0;36mwrite\u001b[0;34m(data)\u001b[0m\n\u001b[1;32m    638\u001b[0m \u001b[0;34m\u001b[0m\u001b[0m\n\u001b[1;32m    639\u001b[0m         \u001b[0;32mdef\u001b[0m \u001b[0mwrite\u001b[0m\u001b[0;34m(\u001b[0m\u001b[0mdata\u001b[0m\u001b[0;34m)\u001b[0m\u001b[0;34m:\u001b[0m\u001b[0;34m\u001b[0m\u001b[0;34m\u001b[0m\u001b[0m\n\u001b[0;32m--> 640\u001b[0;31m             \u001b[0mself\u001b[0m\u001b[0;34m.\u001b[0m\u001b[0m_old_write\u001b[0m\u001b[0;34m(\u001b[0m\u001b[0mdata\u001b[0m\u001b[0;34m)\u001b[0m\u001b[0;34m\u001b[0m\u001b[0;34m\u001b[0m\u001b[0m\n\u001b[0m\u001b[1;32m    641\u001b[0m             \u001b[0;32mfor\u001b[0m \u001b[0mcb\u001b[0m \u001b[0;32min\u001b[0m \u001b[0mself\u001b[0m\u001b[0;34m.\u001b[0m\u001b[0mcbs\u001b[0m\u001b[0;34m:\u001b[0m\u001b[0;34m\u001b[0m\u001b[0;34m\u001b[0m\u001b[0m\n\u001b[1;32m    642\u001b[0m                 \u001b[0;32mtry\u001b[0m\u001b[0;34m:\u001b[0m\u001b[0;34m\u001b[0m\u001b[0;34m\u001b[0m\u001b[0m\n",
            "\u001b[0;32m/usr/local/lib/python3.10/dist-packages/ipykernel/iostream.py\u001b[0m in \u001b[0;36mwrite\u001b[0;34m(self, string)\u001b[0m\n\u001b[1;32m    400\u001b[0m             \u001b[0mis_child\u001b[0m \u001b[0;34m=\u001b[0m \u001b[0;34m(\u001b[0m\u001b[0;32mnot\u001b[0m \u001b[0mself\u001b[0m\u001b[0;34m.\u001b[0m\u001b[0m_is_master_process\u001b[0m\u001b[0;34m(\u001b[0m\u001b[0;34m)\u001b[0m\u001b[0;34m)\u001b[0m\u001b[0;34m\u001b[0m\u001b[0;34m\u001b[0m\u001b[0m\n\u001b[1;32m    401\u001b[0m             \u001b[0;31m# only touch the buffer in the IO thread to avoid races\u001b[0m\u001b[0;34m\u001b[0m\u001b[0;34m\u001b[0m\u001b[0m\n\u001b[0;32m--> 402\u001b[0;31m             \u001b[0mself\u001b[0m\u001b[0;34m.\u001b[0m\u001b[0mpub_thread\u001b[0m\u001b[0;34m.\u001b[0m\u001b[0mschedule\u001b[0m\u001b[0;34m(\u001b[0m\u001b[0;32mlambda\u001b[0m \u001b[0;34m:\u001b[0m \u001b[0mself\u001b[0m\u001b[0;34m.\u001b[0m\u001b[0m_buffer\u001b[0m\u001b[0;34m.\u001b[0m\u001b[0mwrite\u001b[0m\u001b[0;34m(\u001b[0m\u001b[0mstring\u001b[0m\u001b[0;34m)\u001b[0m\u001b[0;34m)\u001b[0m\u001b[0;34m\u001b[0m\u001b[0;34m\u001b[0m\u001b[0m\n\u001b[0m\u001b[1;32m    403\u001b[0m             \u001b[0;32mif\u001b[0m \u001b[0mis_child\u001b[0m\u001b[0;34m:\u001b[0m\u001b[0;34m\u001b[0m\u001b[0;34m\u001b[0m\u001b[0m\n\u001b[1;32m    404\u001b[0m                 \u001b[0;31m# mp.Pool cannot be trusted to flush promptly (or ever),\u001b[0m\u001b[0;34m\u001b[0m\u001b[0;34m\u001b[0m\u001b[0m\n",
            "\u001b[0;32m/usr/local/lib/python3.10/dist-packages/ipykernel/iostream.py\u001b[0m in \u001b[0;36mschedule\u001b[0;34m(self, f)\u001b[0m\n\u001b[1;32m    201\u001b[0m             \u001b[0mself\u001b[0m\u001b[0;34m.\u001b[0m\u001b[0m_events\u001b[0m\u001b[0;34m.\u001b[0m\u001b[0mappend\u001b[0m\u001b[0;34m(\u001b[0m\u001b[0mf\u001b[0m\u001b[0;34m)\u001b[0m\u001b[0;34m\u001b[0m\u001b[0;34m\u001b[0m\u001b[0m\n\u001b[1;32m    202\u001b[0m             \u001b[0;31m# wake event thread (message content is ignored)\u001b[0m\u001b[0;34m\u001b[0m\u001b[0;34m\u001b[0m\u001b[0m\n\u001b[0;32m--> 203\u001b[0;31m             \u001b[0mself\u001b[0m\u001b[0;34m.\u001b[0m\u001b[0m_event_pipe\u001b[0m\u001b[0;34m.\u001b[0m\u001b[0msend\u001b[0m\u001b[0;34m(\u001b[0m\u001b[0;34mb''\u001b[0m\u001b[0;34m)\u001b[0m\u001b[0;34m\u001b[0m\u001b[0;34m\u001b[0m\u001b[0m\n\u001b[0m\u001b[1;32m    204\u001b[0m         \u001b[0;32melse\u001b[0m\u001b[0;34m:\u001b[0m\u001b[0;34m\u001b[0m\u001b[0;34m\u001b[0m\u001b[0m\n\u001b[1;32m    205\u001b[0m             \u001b[0mf\u001b[0m\u001b[0;34m(\u001b[0m\u001b[0;34m)\u001b[0m\u001b[0;34m\u001b[0m\u001b[0;34m\u001b[0m\u001b[0m\n",
            "\u001b[0;32m/usr/local/lib/python3.10/dist-packages/zmq/sugar/socket.py\u001b[0m in \u001b[0;36msend\u001b[0;34m(self, data, flags, copy, track, routing_id, group)\u001b[0m\n\u001b[1;32m    616\u001b[0m                 )\n\u001b[1;32m    617\u001b[0m             \u001b[0mdata\u001b[0m\u001b[0;34m.\u001b[0m\u001b[0mgroup\u001b[0m \u001b[0;34m=\u001b[0m \u001b[0mgroup\u001b[0m\u001b[0;34m\u001b[0m\u001b[0;34m\u001b[0m\u001b[0m\n\u001b[0;32m--> 618\u001b[0;31m         \u001b[0;32mreturn\u001b[0m \u001b[0msuper\u001b[0m\u001b[0;34m(\u001b[0m\u001b[0;34m)\u001b[0m\u001b[0;34m.\u001b[0m\u001b[0msend\u001b[0m\u001b[0;34m(\u001b[0m\u001b[0mdata\u001b[0m\u001b[0;34m,\u001b[0m \u001b[0mflags\u001b[0m\u001b[0;34m=\u001b[0m\u001b[0mflags\u001b[0m\u001b[0;34m,\u001b[0m \u001b[0mcopy\u001b[0m\u001b[0;34m=\u001b[0m\u001b[0mcopy\u001b[0m\u001b[0;34m,\u001b[0m \u001b[0mtrack\u001b[0m\u001b[0;34m=\u001b[0m\u001b[0mtrack\u001b[0m\u001b[0;34m)\u001b[0m\u001b[0;34m\u001b[0m\u001b[0;34m\u001b[0m\u001b[0m\n\u001b[0m\u001b[1;32m    619\u001b[0m \u001b[0;34m\u001b[0m\u001b[0m\n\u001b[1;32m    620\u001b[0m     def send_multipart(\n",
            "\u001b[0;32mzmq/backend/cython/socket.pyx\u001b[0m in \u001b[0;36mzmq.backend.cython.socket.Socket.send\u001b[0;34m()\u001b[0m\n",
            "\u001b[0;32mzmq/backend/cython/socket.pyx\u001b[0m in \u001b[0;36mzmq.backend.cython.socket.Socket.send\u001b[0;34m()\u001b[0m\n",
            "\u001b[0;32mzmq/backend/cython/socket.pyx\u001b[0m in \u001b[0;36mzmq.backend.cython.socket._send_copy\u001b[0;34m()\u001b[0m\n",
            "\u001b[0;32m/usr/local/lib/python3.10/dist-packages/zmq/backend/cython/checkrc.pxd\u001b[0m in \u001b[0;36mzmq.backend.cython.checkrc._check_rc\u001b[0;34m()\u001b[0m\n",
            "\u001b[0;31mKeyboardInterrupt\u001b[0m: "
          ]
        }
      ]
    },
    {
      "cell_type": "code",
      "source": [
        "!cp '/content/model_12_EmdLockDrop_SecondT.pt' /content/drive/MyDrive"
      ],
      "metadata": {
        "id": "rvSgMs6CeSpi"
      },
      "execution_count": null,
      "outputs": []
    },
    {
      "cell_type": "code",
      "source": [
        "wandb.finish()"
      ],
      "metadata": {
        "id": "Up9XBOPENJQs"
      },
      "execution_count": null,
      "outputs": []
    },
    {
      "cell_type": "markdown",
      "source": [
        "##  **9-2. Plot**"
      ],
      "metadata": {
        "id": "oK20iNRI3Xxb"
      }
    },
    {
      "cell_type": "code",
      "source": [
        "plt.figure(figsize=(8, 6))\n",
        "\n",
        "plt.plot(range(epoch_counter), loss_train_hist, 'r-', label='Train')\n",
        "plt.plot(range(epoch_counter), loss_valid_hist, 'b-', label='Validation')\n",
        "\n",
        "plt.xlabel('Epoch')\n",
        "plt.ylabel('loss')\n",
        "plt.grid(True)\n",
        "plt.legend()"
      ],
      "metadata": {
        "id": "KYFzTsdIOkVp",
        "colab": {
          "base_uri": "https://localhost:8080/",
          "height": 560
        },
        "outputId": "6d80dd97-6454-4991-9f6f-ec00dd5f3dab"
      },
      "execution_count": null,
      "outputs": [
        {
          "output_type": "execute_result",
          "data": {
            "text/plain": [
              "<matplotlib.legend.Legend at 0x7ad083d7c9a0>"
            ]
          },
          "metadata": {},
          "execution_count": 72
        },
        {
          "output_type": "display_data",
          "data": {
            "text/plain": [
              "<Figure size 800x600 with 1 Axes>"
            ],
            "image/png": "[encoded data removed]"
          },
          "metadata": {}
        }
      ]
    },
    {
      "cell_type": "code",
      "source": [
        "plt.figure(figsize=(8, 6))\n",
        "\n",
        "plt.plot(range(epoch_counter), metric_train_hist, 'r-', label='Train')\n",
        "plt.plot(range(epoch_counter), metric_valid_hist, 'b-', label='Validation')\n",
        "\n",
        "plt.xlabel('Epoch')\n",
        "plt.ylabel('Metric')\n",
        "plt.grid(True)\n",
        "plt.legend()"
      ],
      "metadata": {
        "colab": {
          "base_uri": "https://localhost:8080/",
          "height": 560
        },
        "id": "5So5Uknvrcxf",
        "outputId": "95b02040-1bd4-4553-8c8f-a4a47ef811f2"
      },
      "execution_count": null,
      "outputs": [
        {
          "output_type": "execute_result",
          "data": {
            "text/plain": [
              "<matplotlib.legend.Legend at 0x7ad0809e5150>"
            ]
          },
          "metadata": {},
          "execution_count": 73
        },
        {
          "output_type": "display_data",
          "data": {
            "text/plain": [
              "<Figure size 800x600 with 1 Axes>"
            ],
            "image/png": "[encoded data removed]"
          },
          "metadata": {}
        }
      ]
    },
    {
      "cell_type": "markdown",
      "source": [
        "# **10. Test**"
      ],
      "metadata": {
        "id": "KZ9UIdmkfxlA"
      }
    },
    {
      "cell_type": "code",
      "source": [
        "model_path = '/content/model_12_EmdLockDrop_SecondT.pt'\n",
        "model = torch.load(model_path)\n",
        "model.eval()"
      ],
      "metadata": {
        "id": "09Q1Cwaa6sGb",
        "colab": {
          "base_uri": "https://localhost:8080/"
        },
        "outputId": "5ebb51ef-d772-43d9-ae44-52c49456a5e0"
      },
      "execution_count": null,
      "outputs": [
        {
          "output_type": "execute_result",
          "data": {
            "text/plain": [
              "LanguageModel(\n",
              "  (embedding): Embedding(28782, 400)\n",
              "  (lstms): ModuleList(\n",
              "    (0): LSTM(400, 1150)\n",
              "    (1): LSTM(1150, 1150)\n",
              "    (2): LSTM(1150, 400)\n",
              "  )\n",
              "  (fc): Linear(in_features=400, out_features=28782, bias=True)\n",
              "  (lockdrop): LockedDropout()\n",
              ")"
            ]
          },
          "metadata": {},
          "execution_count": 74
        }
      ]
    },
    {
      "cell_type": "code",
      "source": [
        "loss_test, metric_test = evaluate(model, test_loader, loss_fn, metric)"
      ],
      "metadata": {
        "id": "lzfAkcJd6pSK"
      },
      "execution_count": null,
      "outputs": []
    },
    {
      "cell_type": "code",
      "source": [
        "loss_test, metric_test"
      ],
      "metadata": {
        "colab": {
          "base_uri": "https://localhost:8080/"
        },
        "id": "rI4TvdouJ4Ph",
        "outputId": "8215483b-9ce3-490b-ff7c-e7343388d3d7"
      },
      "execution_count": null,
      "outputs": [
        {
          "output_type": "execute_result",
          "data": {
            "text/plain": [
              "(4.453467434102839, 85.77592468261719)"
            ]
          },
          "metadata": {},
          "execution_count": 76
        }
      ]
    },
    {
      "cell_type": "markdown",
      "source": [
        "# **11. Generate**"
      ],
      "metadata": {
        "id": "Jhac1uyyKawy"
      }
    },
    {
      "cell_type": "markdown",
      "source": [
        "🔰 Your mission is to write a `generate` function and use a desired sentence to evaluate the model"
      ],
      "metadata": {
        "id": "jh2_9jUp0GF4"
      }
    },
    {
      "cell_type": "code",
      "source": [
        "model_path = '/content/model_12_EmdLockDrop_SecondT.pt'\n",
        "model = torch.load(model_path)\n",
        "model.eval()"
      ],
      "metadata": {
        "id": "pskvb--R-wJ0",
        "colab": {
          "base_uri": "https://localhost:8080/"
        },
        "outputId": "af6dcafa-9a42-49b7-a322-74fa30c65545"
      },
      "execution_count": null,
      "outputs": [
        {
          "output_type": "execute_result",
          "data": {
            "text/plain": [
              "LanguageModel(\n",
              "  (embedding): Embedding(28782, 400)\n",
              "  (lstms): ModuleList(\n",
              "    (0): LSTM(400, 1150)\n",
              "    (1): LSTM(1150, 1150)\n",
              "    (2): LSTM(1150, 400)\n",
              "  )\n",
              "  (fc): Linear(in_features=400, out_features=28782, bias=True)\n",
              "  (lockdrop): LockedDropout()\n",
              ")"
            ]
          },
          "metadata": {},
          "execution_count": 78
        }
      ]
    },
    {
      "cell_type": "code",
      "source": [
        "def generate(prompt, max_seq_len, temperature, model, tokenizer, vocab, seed=None):\n",
        "  if seed is not None:\n",
        "    torch.manual_seed(seed)\n",
        "\n",
        "  indices = vocab(tokenizer(prompt))\n",
        "  itos = vocab.get_itos()\n",
        "\n",
        "  for i in range(max_seq_len):\n",
        "    src = torch.LongTensor(indices).to(device)\n",
        "\n",
        "    with torch.no_grad():\n",
        "      prediction = model(src)\n",
        "\n",
        "    # Method 1\n",
        "    # idx = torch.argmax(prediction[-1])\n",
        "    # itos = vocab.get_itos()\n",
        "    # itos[idx]\n",
        "\n",
        "    # Method 2\n",
        "    probs = torch.softmax(prediction[-1]/temperature, dim=0)\n",
        "\n",
        "    idx = vocab['<ukn>']\n",
        "    while idx == vocab['<ukn>']:\n",
        "      idx = torch.multinomial(probs, num_samples=1).item()\n",
        "\n",
        "    token = itos[idx]\n",
        "    prompt += ' ' + token\n",
        "\n",
        "    if idx == vocab['.']:\n",
        "      return prompt\n",
        "\n",
        "    indices.append(idx)\n",
        "\n",
        "  return prompt"
      ],
      "metadata": {
        "id": "f5SvSDLal8YB"
      },
      "execution_count": null,
      "outputs": []
    },
    {
      "cell_type": "code",
      "source": [
        "examples = ['In a galaxy far, far away, there',\n",
        "            'The sun was setting in the',\n",
        "            'Once upon a time, there lived a young princess named',\n",
        "            'What is the meaning ',\n",
        "            'in the remaining days of this year i',\n",
        "            'what should i']\n",
        "seed = 45\n",
        "for i, example in enumerate(examples):\n",
        "  print(f\"example {i}:\")\n",
        "  print(generate(example, 35, 0.5, model, tokenizer, vocab, seed))\n",
        "  print()"
      ],
      "metadata": {
        "id": "v_Cw2bzfRmY9",
        "colab": {
          "base_uri": "https://localhost:8080/"
        },
        "outputId": "5995c5f7-f371-4c81-9042-35f4fac034c6"
      },
      "execution_count": null,
      "outputs": [
        {
          "output_type": "stream",
          "name": "stdout",
          "text": [
            "example 0:\n",
            "In a galaxy far, far away, there are no evidence of a person ' s life .\n",
            "\n",
            "example 1:\n",
            "The sun was setting in the early stages of the solar system .\n",
            "\n",
            "example 2:\n",
            "Once upon a time, there lived a young princess named in the family of the two children .\n",
            "\n",
            "example 3:\n",
            "What is the meaning  of the zombie war and the rest of the world .\n",
            "\n",
            "example 4:\n",
            "in the remaining days of this year i had a nice voice and had a good deal of temper , and they did not know that they would not be able to do anything .\n",
            "\n",
            "example 5:\n",
            "what should i say .\n",
            "\n"
          ]
        }
      ]
    }
  ]
}